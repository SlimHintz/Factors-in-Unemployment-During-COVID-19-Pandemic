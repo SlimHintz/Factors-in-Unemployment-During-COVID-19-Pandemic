{
 "cells": [
  {
   "cell_type": "markdown",
   "metadata": {},
   "source": [
    "# **Predicting Unemployment During Covid**\n",
    "## Tim Hintz, Dan Valenzuela\n",
    "\n",
    "***\n",
    "\n"
   ]
  },
  {
   "cell_type": "markdown",
   "metadata": {},
   "source": [
    "\n",
    "## **Overview** <a id=\"Overview\"></a>"
   ]
  },
  {
   "cell_type": "markdown",
   "metadata": {},
   "source": [
    "In late 2019, the world was hit by the Sars-Covid-2. To prevent the spread of the disease, US state governments locked down the economy in March 2020. As a result of the pandemic, millions of people lost their jobs. The current research seeks to identify early signs that US households may lose their employment and in turn aid in the allocation of resources before the need is dire."
   ]
  },
  {
   "cell_type": "markdown",
   "metadata": {},
   "source": [
    "\n",
    "[**1. Business Problem**](#Business-Problem)\n",
    "\n",
    "[**2. Data Understanding**](#Data-Understanding)\n",
    "\n",
    "[**3. Data Preparation**](#Data-Preparation)\n",
    "\n",
    "[**4. Data Analysis**](#Data-Analysis)\n",
    "\n",
    "[**5. Evaluation**](#Evaluation)\n",
    "\n",
    "[**6. Conclusion and Next Steps**](#Conclusion)\n",
    "***"
   ]
  },
  {
   "cell_type": "markdown",
   "metadata": {},
   "source": [
    "## **Business Problem** <a id=\"Business-Problem\"></a>\n",
    "[*↑ Back to overview*](#Overview)"
   ]
  },
  {
   "cell_type": "markdown",
   "metadata": {},
   "source": [
    "Being able to predict which families and individuals are going to be in most dire need of financial assistence three months in advance will aid in providing the government with the necessary information for the distribution of relief funds. "
   ]
  },
  {
   "cell_type": "markdown",
   "metadata": {},
   "source": [
    "[*↑ Back to overview*](#Overview)\n",
    "***"
   ]
  },
  {
   "cell_type": "markdown",
   "metadata": {},
   "source": [
    "## **Data Understanding** <a id=\"Data-Understanding\"></a>\n",
    "[*↑ Back to overview*](#Overview)"
   ]
  },
  {
   "cell_type": "markdown",
   "metadata": {},
   "source": [
    "### Current Population Survey"
   ]
  },
  {
   "cell_type": "markdown",
   "metadata": {},
   "source": [
    "The data used in this model comes from the [Current Population Survey](https://www.census.gov/programs-surveys/cps/data/datasets.html) conducted by the U.S. Census Bureau. Each month the Census conducts a survey of 60,000 households and collects data on labor activity done in the past month. For the purposes of this project, we focused on households interviewed in April and July of 2020 which is the approximate range of dates that encapsulates the effects of coronavirus measures in the country, such as limited social activities. Further, although the dataset includes data about each individual in each household, we decided to keep adult individuals who were heads of household in April and July and were employed in April. Below is the resulting dataset using this filtering."
   ]
  },
  {
   "cell_type": "code",
   "execution_count": 30,
   "metadata": {},
   "outputs": [
    {
     "name": "stdout",
     "output_type": "stream",
     "text": [
      "The autoreload extension is already loaded. To reload it, use:\n",
      "  %reload_ext autoreload\n"
     ]
    }
   ],
   "source": [
    "%load_ext autoreload\n",
    "%autoreload 2\n",
    "import pandas as pd\n",
    "import os\n",
    "import sys\n",
    "\n",
    "module_path = os.path.abspath(os.path.join( 'src'))\n",
    "if module_path not in sys.path:\n",
    "    sys.path.append(module_path)\n",
    "from modules import dataloading as dl\n",
    "from modules import VizFig as vf\n",
    "from modules import VizAx as va\n",
    "\n",
    "images_dir = 'src/images/'\n",
    "data_targetdir = 'src/data/'\n",
    "csv_targetdir = 'src/csv/'"
   ]
  },
  {
   "cell_type": "code",
   "execution_count": 2,
   "metadata": {},
   "outputs": [],
   "source": [
    "df = pd.read_csv('src/csv/employed_adults_apr2020_jul2020.csv', index_col=0)"
   ]
  },
  {
   "cell_type": "code",
   "execution_count": 3,
   "metadata": {},
   "outputs": [
    {
     "name": "stdout",
     "output_type": "stream",
     "text": [
      "<class 'pandas.core.frame.DataFrame'>\n",
      "Int64Index: 3983 entries, 9 to 72340\n",
      "Columns: 777 entries, HRHHID_x to IND_ID_FINAL_y\n",
      "dtypes: int64(774), object(3)\n",
      "memory usage: 23.6+ MB\n"
     ]
    }
   ],
   "source": [
    "df.info()"
   ]
  },
  {
   "cell_type": "code",
   "execution_count": 4,
   "metadata": {},
   "outputs": [
    {
     "data": {
      "text/html": [
       "<div>\n",
       "<style scoped>\n",
       "    .dataframe tbody tr th:only-of-type {\n",
       "        vertical-align: middle;\n",
       "    }\n",
       "\n",
       "    .dataframe tbody tr th {\n",
       "        vertical-align: top;\n",
       "    }\n",
       "\n",
       "    .dataframe thead th {\n",
       "        text-align: right;\n",
       "    }\n",
       "</style>\n",
       "<table border=\"1\" class=\"dataframe\">\n",
       "  <thead>\n",
       "    <tr style=\"text-align: right;\">\n",
       "      <th></th>\n",
       "      <th>HRHHID_x</th>\n",
       "      <th>HRMONTH_x</th>\n",
       "      <th>HRYEAR4_x</th>\n",
       "      <th>HURESPLI_x</th>\n",
       "      <th>HUFINAL_x</th>\n",
       "      <th>HETENURE_x</th>\n",
       "      <th>HEHOUSUT_x</th>\n",
       "      <th>HETELHHD_x</th>\n",
       "      <th>HETELAVL_x</th>\n",
       "      <th>HEPHONEO_x</th>\n",
       "      <th>...</th>\n",
       "      <th>PTNMEMP1_y</th>\n",
       "      <th>PEPDEMP2_y</th>\n",
       "      <th>PTNMEMP2_y</th>\n",
       "      <th>PECERT1_y</th>\n",
       "      <th>PECERT2_y</th>\n",
       "      <th>PECERT3_y</th>\n",
       "      <th>PXCERT1_y</th>\n",
       "      <th>PXCERT2_y</th>\n",
       "      <th>PXCERT3_y</th>\n",
       "      <th>IND_ID_FINAL_y</th>\n",
       "    </tr>\n",
       "  </thead>\n",
       "  <tbody>\n",
       "    <tr>\n",
       "      <th>9</th>\n",
       "      <td>6006205110907</td>\n",
       "      <td>4</td>\n",
       "      <td>2020</td>\n",
       "      <td>1</td>\n",
       "      <td>201</td>\n",
       "      <td>-1</td>\n",
       "      <td>1</td>\n",
       "      <td>1</td>\n",
       "      <td>-1</td>\n",
       "      <td>1</td>\n",
       "      <td>...</td>\n",
       "      <td>-1</td>\n",
       "      <td>-1</td>\n",
       "      <td>-1</td>\n",
       "      <td>2</td>\n",
       "      <td>-1</td>\n",
       "      <td>-1</td>\n",
       "      <td>20</td>\n",
       "      <td>0</td>\n",
       "      <td>0</td>\n",
       "      <td>600620511090711011402311</td>\n",
       "    </tr>\n",
       "    <tr>\n",
       "      <th>18</th>\n",
       "      <td>7380717096190</td>\n",
       "      <td>4</td>\n",
       "      <td>2020</td>\n",
       "      <td>1</td>\n",
       "      <td>201</td>\n",
       "      <td>-1</td>\n",
       "      <td>1</td>\n",
       "      <td>2</td>\n",
       "      <td>2</td>\n",
       "      <td>0</td>\n",
       "      <td>...</td>\n",
       "      <td>-1</td>\n",
       "      <td>-1</td>\n",
       "      <td>-1</td>\n",
       "      <td>1</td>\n",
       "      <td>1</td>\n",
       "      <td>2</td>\n",
       "      <td>20</td>\n",
       "      <td>20</td>\n",
       "      <td>20</td>\n",
       "      <td>738071709619010111401531</td>\n",
       "    </tr>\n",
       "    <tr>\n",
       "      <th>33</th>\n",
       "      <td>33081904003391</td>\n",
       "      <td>4</td>\n",
       "      <td>2020</td>\n",
       "      <td>1</td>\n",
       "      <td>201</td>\n",
       "      <td>-1</td>\n",
       "      <td>1</td>\n",
       "      <td>1</td>\n",
       "      <td>-1</td>\n",
       "      <td>1</td>\n",
       "      <td>...</td>\n",
       "      <td>-1</td>\n",
       "      <td>-1</td>\n",
       "      <td>-1</td>\n",
       "      <td>2</td>\n",
       "      <td>-1</td>\n",
       "      <td>-1</td>\n",
       "      <td>20</td>\n",
       "      <td>0</td>\n",
       "      <td>0</td>\n",
       "      <td>3308190400339110011401531</td>\n",
       "    </tr>\n",
       "    <tr>\n",
       "      <th>46</th>\n",
       "      <td>60021870004061</td>\n",
       "      <td>4</td>\n",
       "      <td>2020</td>\n",
       "      <td>1</td>\n",
       "      <td>201</td>\n",
       "      <td>-1</td>\n",
       "      <td>1</td>\n",
       "      <td>1</td>\n",
       "      <td>-1</td>\n",
       "      <td>1</td>\n",
       "      <td>...</td>\n",
       "      <td>-1</td>\n",
       "      <td>-1</td>\n",
       "      <td>-1</td>\n",
       "      <td>2</td>\n",
       "      <td>-1</td>\n",
       "      <td>-1</td>\n",
       "      <td>20</td>\n",
       "      <td>0</td>\n",
       "      <td>0</td>\n",
       "      <td>6002187000406110111402351</td>\n",
       "    </tr>\n",
       "    <tr>\n",
       "      <th>62</th>\n",
       "      <td>89031522004171</td>\n",
       "      <td>4</td>\n",
       "      <td>2020</td>\n",
       "      <td>1</td>\n",
       "      <td>201</td>\n",
       "      <td>-1</td>\n",
       "      <td>1</td>\n",
       "      <td>1</td>\n",
       "      <td>-1</td>\n",
       "      <td>1</td>\n",
       "      <td>...</td>\n",
       "      <td>-1</td>\n",
       "      <td>-1</td>\n",
       "      <td>-1</td>\n",
       "      <td>1</td>\n",
       "      <td>1</td>\n",
       "      <td>2</td>\n",
       "      <td>20</td>\n",
       "      <td>20</td>\n",
       "      <td>0</td>\n",
       "      <td>8903152200417111011401411</td>\n",
       "    </tr>\n",
       "  </tbody>\n",
       "</table>\n",
       "<p>5 rows × 777 columns</p>\n",
       "</div>"
      ],
      "text/plain": [
       "          HRHHID_x  HRMONTH_x  HRYEAR4_x  HURESPLI_x  HUFINAL_x  HETENURE_x  \\\n",
       "9    6006205110907          4       2020           1        201          -1   \n",
       "18   7380717096190          4       2020           1        201          -1   \n",
       "33  33081904003391          4       2020           1        201          -1   \n",
       "46  60021870004061          4       2020           1        201          -1   \n",
       "62  89031522004171          4       2020           1        201          -1   \n",
       "\n",
       "    HEHOUSUT_x  HETELHHD_x  HETELAVL_x  HEPHONEO_x  ...  PTNMEMP1_y  \\\n",
       "9            1           1          -1           1  ...          -1   \n",
       "18           1           2           2           0  ...          -1   \n",
       "33           1           1          -1           1  ...          -1   \n",
       "46           1           1          -1           1  ...          -1   \n",
       "62           1           1          -1           1  ...          -1   \n",
       "\n",
       "    PEPDEMP2_y  PTNMEMP2_y  PECERT1_y  PECERT2_y  PECERT3_y  PXCERT1_y  \\\n",
       "9           -1          -1          2         -1         -1         20   \n",
       "18          -1          -1          1          1          2         20   \n",
       "33          -1          -1          2         -1         -1         20   \n",
       "46          -1          -1          2         -1         -1         20   \n",
       "62          -1          -1          1          1          2         20   \n",
       "\n",
       "    PXCERT2_y  PXCERT3_y             IND_ID_FINAL_y  \n",
       "9           0          0   600620511090711011402311  \n",
       "18         20         20   738071709619010111401531  \n",
       "33          0          0  3308190400339110011401531  \n",
       "46          0          0  6002187000406110111402351  \n",
       "62         20          0  8903152200417111011401411  \n",
       "\n",
       "[5 rows x 777 columns]"
      ]
     },
     "execution_count": 4,
     "metadata": {},
     "output_type": "execute_result"
    }
   ],
   "source": [
    "df.head()"
   ]
  },
  {
   "cell_type": "markdown",
   "metadata": {},
   "source": [
    "With respect to our business question, the target variable of interest is `PREMPNOT` which takes on values in the range of 1 through 4, each representing whether a person is employed, unemployed, and not in the labor force for one of two reasons. Because we structured this data to include only those who are employed in April, looking at `PREMPNOT` for data from that month would only show that all rows take the value of 1 meaning they were all employed. As for July, below is the distribution of employment status among the population we selected, where \"NILF\" means \"not in labor force\"."
   ]
  },
  {
   "cell_type": "code",
   "execution_count": 39,
   "metadata": {},
   "outputs": [
    {
     "data": {
      "text/plain": [
       "<Figure size 432x288 with 0 Axes>"
      ]
     },
     "metadata": {},
     "output_type": "display_data"
    },
    {
     "data": {
      "image/png": "[encoded data removed]",
      "text/plain": [
       "<Figure size 432x540 with 1 Axes>"
      ]
     },
     "metadata": {},
     "output_type": "display_data"
    }
   ],
   "source": [
    "vf.PlotCat(df, xvar='PREMPNOT_y', targetdir=images_dir)"
   ]
  },
  {
   "cell_type": "markdown",
   "metadata": {},
   "source": [
    "Further, as you can see above, there are over 300 features that are in each month's dataset recording a variety of demographic and labor data for each individual. For example, one can see in the graph below the number of males versus females in the dataset above. As one might expect, there is relative balance of males v. females in the population of employed heads of household with men outnumbering women slightly. Further, the distribution of age among this population is widespread with less frequency of young and older heads of household."
   ]
  },
  {
   "cell_type": "code",
   "execution_count": 38,
   "metadata": {},
   "outputs": [
    {
     "data": {
      "text/plain": [
       "<Figure size 432x288 with 0 Axes>"
      ]
     },
     "metadata": {},
     "output_type": "display_data"
    },
    {
     "data": {
      "image/png": "[encoded data removed]",
      "text/plain": [
       "<Figure size 432x540 with 1 Axes>"
      ]
     },
     "metadata": {},
     "output_type": "display_data"
    }
   ],
   "source": [
    "vf.PlotCat(df, 'PESEX_x', targetdir=images_dir)"
   ]
  },
  {
   "cell_type": "code",
   "execution_count": 37,
   "metadata": {},
   "outputs": [
    {
     "data": {
      "image/png": "[encoded data removed]",
      "text/plain": [
       "<Figure size 750x600 with 1 Axes>"
      ]
     },
     "metadata": {},
     "output_type": "display_data"
    }
   ],
   "source": [
    "va.PlotHist(df, 'PRTAGE_x', targetdir=images_dir, bins=10)"
   ]
  },
  {
   "cell_type": "markdown",
   "metadata": {},
   "source": [
    "For the sake of brevity, below is a list of all the features that were used in this dataset."
   ]
  },
  {
   "cell_type": "markdown",
   "metadata": {},
   "source": [
    "| Variable in CPS | Description| \n",
    "| --- | --- |\n",
    "| HEHOUSUT | Type of housing | \n",
    "| GESTFIPS | State FIPS code |\n",
    "| HEFAMINC | Family income |\n",
    "| HRNUMHOU | Number of people in household |\n",
    "| PRTAGE | Age of person |\n",
    "| PEMARITL | Marital Status |\n",
    "| PESEX | Sex of person |\n",
    "| PEEDUCA | Level of education |\n",
    "| PTDTRACE | Race composition of household |\n",
    "| PEHSPNON | Hispanic status |\n",
    "| PENATVTY | Born in US |\n",
    "| PRCITSHP | Citizenship status |\n",
    "| PRINUSYR | Immigrant's year of entry |\n",
    "| PRHRUSL | Usual hours worked weekly |\n",
    "| HUBUS | Ownership of business or farm in household |\n",
    "| PEMJOT | More than 1 job or not |\n",
    "| PEMJNUM | Num. of jobs if greater than 1|\n",
    "| PEHRFTPT | Working more than 35 hours or not |\n",
    "| PEHRRSN2 | Reasons for not working full-time |\n",
    "| PEHRACTT | Number of hours worked in all jobs |\n",
    "| PRAGNA | Works in agricultural industry? |\n",
    "| PRNMCHILD | Number of children |\n",
    "| PECYC | Number of college credit hours |\n",
    "| PECERT1 | Professional certifi\n"
   ]
  },
  {
   "cell_type": "markdown",
   "metadata": {},
   "source": [
    "### Political and Coronavirus Data"
   ]
  },
  {
   "cell_type": "markdown",
   "metadata": {},
   "source": [
    "Political data came from a [kaggle](https://www.kaggle.com/unanimad/us-election-2020?select=president_county_candidate.csv) dataset that was scraped from the NYT API and was from the 2020 presidential election. We created a 'percent red' as a measure of how many Republicans are currently living in a given state. To supplement that information we scraped from wikipedia all the current Governers as an additional metric for political leaning.\n",
    "\n",
    "Further, we collected data on covid prevalance from the [New York Times](https://github.com/nytimes/covid-19-data).\n",
    "\n"
   ]
  },
  {
   "cell_type": "markdown",
   "metadata": {},
   "source": [
    "[*↑ Back to overview*](#Overview)\n",
    "***"
   ]
  },
  {
   "cell_type": "markdown",
   "metadata": {},
   "source": [
    "## **Data Preparation** <a id=\"Data-Preparation\"></a>\n",
    "[*↑ Back to overview*](#Overview)"
   ]
  },
  {
   "cell_type": "markdown",
   "metadata": {},
   "source": [
    "### Current Population Survey"
   ]
  },
  {
   "cell_type": "markdown",
   "metadata": {},
   "source": [
    "To prepare the data a few additional columns need to be generated in order to uniquely identify households and individuals. Households are uniquely identified by a concatenation of `HRHHID` and `HRHHID2` into `HH_ID`. Individuals, on the other hand, require a number of variables including `HH_ID`, age, and sex. The `clean_CPS_df` function below generates a unique identifier for individuals called `IND_ID_FINAL`."
   ]
  },
  {
   "cell_type": "code",
   "execution_count": null,
   "metadata": {},
   "outputs": [],
   "source": [
    "# # Un-comment to run\n",
    "\n",
    "# apr_2020_df = dl.CPS_raw(targetdir, ['apr2020'], None)\n",
    "# jul_2020_df = dl.CPS_raw(targetdir, ['jul2020'], None)\n",
    "\n",
    "# apr_2020_df = c.clean_CPS_df(apr_2020_df)\n",
    "# jul_2020_df = c.clean_CPS_df(jul_2020_df)"
   ]
  },
  {
   "cell_type": "markdown",
   "metadata": {},
   "source": [
    "With both of these dataframes in hand, they need to be merged. We merged datasets from each month based on the `HH_ID` identifier as we want to be able to track individuals across April and July datasets."
   ]
  },
  {
   "cell_type": "code",
   "execution_count": null,
   "metadata": {},
   "outputs": [],
   "source": [
    "# # Un-comment to run\n",
    "# merged = pd.merge(apr_2020_df, jul_2020, on=['HH_ID'], how='inner')"
   ]
  },
  {
   "cell_type": "markdown",
   "metadata": {},
   "source": [
    "However, because this merge will still yield multiple individuals per household, the merged dataset is filtered down to adult heads of household who were employed in April. "
   ]
  },
  {
   "cell_type": "code",
   "execution_count": null,
   "metadata": {},
   "outputs": [],
   "source": [
    "# # Un-comment to run\n",
    "# adult_emp = merged[(merged.PERRP_x.isin([40,41])) \n",
    "#                        & (merged.PRPERTYP_x == 2) \n",
    "#                        & (merged.PERRP_y.isin([40,41])) \n",
    "#                        & (merged.PREMPNOT_x.isin([1]))]"
   ]
  },
  {
   "cell_type": "markdown",
   "metadata": {},
   "source": [
    "Further, because the merge may still keep duplicates, we dropped all duplicates of `HH_ID`. Since we filtered down to only adult heads of household, this will yield one individual per household."
   ]
  },
  {
   "cell_type": "code",
   "execution_count": null,
   "metadata": {},
   "outputs": [],
   "source": [
    "# # Un-comment to run\n",
    "#  adult_emp = adult_emp.drop_duplicates(subset='HH_ID', keep='first')"
   ]
  },
  {
   "cell_type": "markdown",
   "metadata": {},
   "source": [
    "Once all the above is run, you will return a dataframe that is equivalent to the dataframe imported from the CSV file above. Thus the dataframe `adult_emp` is equal to `df`. And you'll see that for every household there is one head of household. "
   ]
  },
  {
   "cell_type": "code",
   "execution_count": 25,
   "metadata": {},
   "outputs": [
    {
     "name": "stdout",
     "output_type": "stream",
     "text": [
      "3983\n",
      "3983\n"
     ]
    }
   ],
   "source": [
    "print(df.HH_ID.count())\n",
    "print(df.IND_ID_FINAL_x.count())"
   ]
  },
  {
   "cell_type": "markdown",
   "metadata": {},
   "source": [
    "Before this data can be used for analysis, each of the features above had to be binned or created into dummy variables in order to create an interpretable model."
   ]
  },
  {
   "cell_type": "markdown",
   "metadata": {},
   "source": [
    "With this dataset, this can finally be merged with political and coronavirus data according to the state that each individual belongs to. Further, this dataset is edited to ensure that only the target variable data from July is included and all the features are from April data."
   ]
  },
  {
   "cell_type": "code",
   "execution_count": 42,
   "metadata": {},
   "outputs": [
    {
     "data": {
      "text/html": [
       "<div>\n",
       "<style scoped>\n",
       "    .dataframe tbody tr th:only-of-type {\n",
       "        vertical-align: middle;\n",
       "    }\n",
       "\n",
       "    .dataframe tbody tr th {\n",
       "        vertical-align: top;\n",
       "    }\n",
       "\n",
       "    .dataframe thead th {\n",
       "        text-align: right;\n",
       "    }\n",
       "</style>\n",
       "<table border=\"1\" class=\"dataframe\">\n",
       "  <thead>\n",
       "    <tr style=\"text-align: right;\">\n",
       "      <th></th>\n",
       "      <th>HEHOUSUT</th>\n",
       "      <th>HWHHWGT</th>\n",
       "      <th>GTMETSTA</th>\n",
       "      <th>HEFAMINC</th>\n",
       "      <th>HRNUMHOU</th>\n",
       "      <th>HRHTYPE</th>\n",
       "      <th>PRTAGE</th>\n",
       "      <th>PEMARITL</th>\n",
       "      <th>PENATVTY</th>\n",
       "      <th>PRINUSYR</th>\n",
       "      <th>...</th>\n",
       "      <th>PEEDUCA_45</th>\n",
       "      <th>PEEDUCA_46</th>\n",
       "      <th>PTDTRACE_1</th>\n",
       "      <th>PTDTRACE_3</th>\n",
       "      <th>PEHSPNON_2</th>\n",
       "      <th>population</th>\n",
       "      <th>case_delta</th>\n",
       "      <th>party</th>\n",
       "      <th>percent_red</th>\n",
       "      <th>pop_density</th>\n",
       "    </tr>\n",
       "  </thead>\n",
       "  <tbody>\n",
       "    <tr>\n",
       "      <th>0</th>\n",
       "      <td>1</td>\n",
       "      <td>40182430</td>\n",
       "      <td>1</td>\n",
       "      <td>16</td>\n",
       "      <td>3</td>\n",
       "      <td>1</td>\n",
       "      <td>31</td>\n",
       "      <td>1</td>\n",
       "      <td>1</td>\n",
       "      <td>0</td>\n",
       "      <td>...</td>\n",
       "      <td>0</td>\n",
       "      <td>0</td>\n",
       "      <td>0</td>\n",
       "      <td>0</td>\n",
       "      <td>1</td>\n",
       "      <td>4903185.0</td>\n",
       "      <td>57709.606452</td>\n",
       "      <td>1.0</td>\n",
       "      <td>62.087493</td>\n",
       "      <td>95.0</td>\n",
       "    </tr>\n",
       "    <tr>\n",
       "      <th>1</th>\n",
       "      <td>1</td>\n",
       "      <td>26376142</td>\n",
       "      <td>1</td>\n",
       "      <td>15</td>\n",
       "      <td>3</td>\n",
       "      <td>1</td>\n",
       "      <td>53</td>\n",
       "      <td>1</td>\n",
       "      <td>1</td>\n",
       "      <td>0</td>\n",
       "      <td>...</td>\n",
       "      <td>0</td>\n",
       "      <td>0</td>\n",
       "      <td>0</td>\n",
       "      <td>0</td>\n",
       "      <td>1</td>\n",
       "      <td>4903185.0</td>\n",
       "      <td>57709.606452</td>\n",
       "      <td>1.0</td>\n",
       "      <td>62.087493</td>\n",
       "      <td>95.0</td>\n",
       "    </tr>\n",
       "    <tr>\n",
       "      <th>2</th>\n",
       "      <td>1</td>\n",
       "      <td>37961372</td>\n",
       "      <td>1</td>\n",
       "      <td>13</td>\n",
       "      <td>3</td>\n",
       "      <td>1</td>\n",
       "      <td>53</td>\n",
       "      <td>1</td>\n",
       "      <td>1</td>\n",
       "      <td>0</td>\n",
       "      <td>...</td>\n",
       "      <td>0</td>\n",
       "      <td>0</td>\n",
       "      <td>0</td>\n",
       "      <td>0</td>\n",
       "      <td>1</td>\n",
       "      <td>4903185.0</td>\n",
       "      <td>57709.606452</td>\n",
       "      <td>1.0</td>\n",
       "      <td>62.087493</td>\n",
       "      <td>95.0</td>\n",
       "    </tr>\n",
       "    <tr>\n",
       "      <th>3</th>\n",
       "      <td>1</td>\n",
       "      <td>38997054</td>\n",
       "      <td>1</td>\n",
       "      <td>15</td>\n",
       "      <td>4</td>\n",
       "      <td>1</td>\n",
       "      <td>35</td>\n",
       "      <td>1</td>\n",
       "      <td>1</td>\n",
       "      <td>0</td>\n",
       "      <td>...</td>\n",
       "      <td>0</td>\n",
       "      <td>0</td>\n",
       "      <td>0</td>\n",
       "      <td>0</td>\n",
       "      <td>1</td>\n",
       "      <td>4903185.0</td>\n",
       "      <td>57709.606452</td>\n",
       "      <td>1.0</td>\n",
       "      <td>62.087493</td>\n",
       "      <td>95.0</td>\n",
       "    </tr>\n",
       "    <tr>\n",
       "      <th>4</th>\n",
       "      <td>1</td>\n",
       "      <td>42003612</td>\n",
       "      <td>1</td>\n",
       "      <td>11</td>\n",
       "      <td>8</td>\n",
       "      <td>3</td>\n",
       "      <td>40</td>\n",
       "      <td>0</td>\n",
       "      <td>1</td>\n",
       "      <td>0</td>\n",
       "      <td>...</td>\n",
       "      <td>0</td>\n",
       "      <td>0</td>\n",
       "      <td>1</td>\n",
       "      <td>0</td>\n",
       "      <td>1</td>\n",
       "      <td>4903185.0</td>\n",
       "      <td>57709.606452</td>\n",
       "      <td>1.0</td>\n",
       "      <td>62.087493</td>\n",
       "      <td>95.0</td>\n",
       "    </tr>\n",
       "  </tbody>\n",
       "</table>\n",
       "<p>5 rows × 69 columns</p>\n",
       "</div>"
      ],
      "text/plain": [
       "   HEHOUSUT   HWHHWGT  GTMETSTA  HEFAMINC  HRNUMHOU  HRHTYPE  PRTAGE  \\\n",
       "0         1  40182430         1        16         3        1      31   \n",
       "1         1  26376142         1        15         3        1      53   \n",
       "2         1  37961372         1        13         3        1      53   \n",
       "3         1  38997054         1        15         4        1      35   \n",
       "4         1  42003612         1        11         8        3      40   \n",
       "\n",
       "   PEMARITL  PENATVTY  PRINUSYR  ...  PEEDUCA_45  PEEDUCA_46  PTDTRACE_1  \\\n",
       "0         1         1         0  ...           0           0           0   \n",
       "1         1         1         0  ...           0           0           0   \n",
       "2         1         1         0  ...           0           0           0   \n",
       "3         1         1         0  ...           0           0           0   \n",
       "4         0         1         0  ...           0           0           1   \n",
       "\n",
       "   PTDTRACE_3  PEHSPNON_2  population    case_delta  party  percent_red  \\\n",
       "0           0           1   4903185.0  57709.606452    1.0    62.087493   \n",
       "1           0           1   4903185.0  57709.606452    1.0    62.087493   \n",
       "2           0           1   4903185.0  57709.606452    1.0    62.087493   \n",
       "3           0           1   4903185.0  57709.606452    1.0    62.087493   \n",
       "4           0           1   4903185.0  57709.606452    1.0    62.087493   \n",
       "\n",
       "   pop_density  \n",
       "0         95.0  \n",
       "1         95.0  \n",
       "2         95.0  \n",
       "3         95.0  \n",
       "4         95.0  \n",
       "\n",
       "[5 rows x 69 columns]"
      ]
     },
     "execution_count": 42,
     "metadata": {},
     "output_type": "execute_result"
    }
   ],
   "source": [
    "df = pd.read_csv('src/csv/final_dataframe.csv')\n",
    "df.head()"
   ]
  },
  {
   "cell_type": "markdown",
   "metadata": {},
   "source": [
    "\n",
    "\n"
   ]
  },
  {
   "cell_type": "markdown",
   "metadata": {},
   "source": [
    "[*↑ Back to overview*](#Overview)\n",
    "***"
   ]
  },
  {
   "cell_type": "markdown",
   "metadata": {},
   "source": [
    "## **Data Analysis** <a id=\"Data-Analysis\"></a>\n",
    "[*↑ Back to overview*](#Overview)"
   ]
  },
  {
   "cell_type": "markdown",
   "metadata": {},
   "source": [
    "[*↑ Back to overview*](#Overview)\n",
    "***"
   ]
  },
  {
   "cell_type": "markdown",
   "metadata": {},
   "source": [
    "## **Evaluation**<a id=\"Evaluation\"></a>\n",
    "[*↑ Back to overview*](#Overview)"
   ]
  },
  {
   "cell_type": "markdown",
   "metadata": {},
   "source": [
    "[*↑ Back to overview*](#Overview)\n",
    "***"
   ]
  },
  {
   "cell_type": "markdown",
   "metadata": {},
   "source": [
    "## **Conclusion and Next Steps**<a id=\"Conclusion\"></a>\n",
    "[*↑ Back to overview*](#Overview)"
   ]
  },
  {
   "cell_type": "markdown",
   "metadata": {},
   "source": [
    "[*↑ Back to overview*](#Overview)\n",
    "***"
   ]
  }
 ],
 "metadata": {
  "kernelspec": {
   "display_name": "learn-env",
   "language": "python",
   "name": "learn-env"
  },
  "language_info": {
   "codemirror_mode": {
    "name": "ipython",
    "version": 3
   },
   "file_extension": ".py",
   "mimetype": "text/x-python",
   "name": "python",
   "nbconvert_exporter": "python",
   "pygments_lexer": "ipython3",
   "version": "3.6.10"
  }
 },
 "nbformat": 4,
 "nbformat_minor": 4
}
