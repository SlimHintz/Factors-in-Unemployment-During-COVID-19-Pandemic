{
 "cells": [
  {
   "cell_type": "code",
   "execution_count": 1,
   "metadata": {},
   "outputs": [],
   "source": [
    "import pandas as pd\n",
    "import geopandas as gpd\n",
    "import numpy as np\n",
    "import matplotlib.pyplot as plt\n",
    "import seaborn as sns\n",
    "\n",
    "sns.set_style('whitegrid')\n",
    "\n",
    "%matplotlib inline"
   ]
  },
  {
   "cell_type": "code",
   "execution_count": 4,
   "metadata": {},
   "outputs": [],
   "source": [
    "census_df = pd.read_csv('../../src/csv/employed_adults_apr2020_jul2020.csv', index_col=0)"
   ]
  },
  {
   "cell_type": "code",
   "execution_count": 5,
   "metadata": {},
   "outputs": [
    {
     "name": "stdout",
     "output_type": "stream",
     "text": [
      "<class 'pandas.core.frame.DataFrame'>\n",
      "Int64Index: 11072 entries, 9 to 72340\n",
      "Columns: 777 entries, HRHHID_x to IND_ID_FINAL_y\n",
      "dtypes: int64(774), object(3)\n",
      "memory usage: 65.7+ MB\n"
     ]
    }
   ],
   "source": [
    "census_df.info()"
   ]
  },
  {
   "cell_type": "code",
   "execution_count": 6,
   "metadata": {},
   "outputs": [
    {
     "data": {
      "text/plain": [
       "Index(['HRHHID_x', 'HRMONTH_x', 'HRYEAR4_x', 'HURESPLI_x', 'HUFINAL_x',\n",
       "       'HETENURE_x', 'HEHOUSUT_x', 'HETELHHD_x', 'HETELAVL_x', 'HEPHONEO_x',\n",
       "       ...\n",
       "       'PTNMEMP1_y', 'PEPDEMP2_y', 'PTNMEMP2_y', 'PECERT1_y', 'PECERT2_y',\n",
       "       'PECERT3_y', 'PXCERT1_y', 'PXCERT2_y', 'PXCERT3_y', 'IND_ID_FINAL_y'],\n",
       "      dtype='object', length=777)"
      ]
     },
     "execution_count": 6,
     "metadata": {},
     "output_type": "execute_result"
    }
   ],
   "source": [
    "census_df.columns"
   ]
  },
  {
   "cell_type": "markdown",
   "metadata": {},
   "source": [
    "# X is from our april data set, Y is from our july data set\n",
    "\n",
    "## Create our target variable from PREMPNOT_y\n",
    "\n",
    "#### From the data dict:\n",
    "1\tEMPLOYED\n",
    "2\tUNEMPLOYED\n",
    "3\tNOT IN LABOR FORCE (NILF)-discouraged\n",
    "4\tNOT IN LABOR FORCE (NILF)-other\n",
    "\n",
    "So we want a bin the variable as 1 being unemployed ie they DID lose their job\n"
   ]
  },
  {
   "cell_type": "code",
   "execution_count": 12,
   "metadata": {},
   "outputs": [],
   "source": [
    "def job_loss_categorization(n):\n",
    "    if n > 1:\n",
    "        return 1\n",
    "    else:\n",
    "        return 0"
   ]
  },
  {
   "cell_type": "markdown",
   "metadata": {},
   "source": [
    "The negative values in the PREMPNOT must be individuals in the military since we filtered for children. PREMPNOT is based on PEMLR 1-7 which is based on PRPPERTYP 2 which is adult civilians. \n",
    "\n",
    "We filtered the initial data set for PRPPERTYP for 2 and PREMPNOT_x has only 1. The conclusion is that 25% of our cohort joined the military"
   ]
  },
  {
   "cell_type": "code",
   "execution_count": 20,
   "metadata": {},
   "outputs": [
    {
     "data": {
      "text/plain": [
       " 1    6399\n",
       "-1    2659\n",
       " 4    1590\n",
       " 2     409\n",
       " 3      15\n",
       "Name: PREMPNOT_y, dtype: int64"
      ]
     },
     "execution_count": 20,
     "metadata": {},
     "output_type": "execute_result"
    }
   ],
   "source": [
    "census_df.PREMPNOT_y.value_counts()#apply(job_loss_categorization).value_counts()"
   ]
  },
  {
   "cell_type": "code",
   "execution_count": 18,
   "metadata": {},
   "outputs": [
    {
     "data": {
      "text/plain": [
       "1    11072\n",
       "Name: PREMPNOT_x, dtype: int64"
      ]
     },
     "execution_count": 18,
     "metadata": {},
     "output_type": "execute_result"
    }
   ],
   "source": [
    "census_df.PREMPNOT_x.value_counts()"
   ]
  },
  {
   "cell_type": "code",
   "execution_count": 21,
   "metadata": {},
   "outputs": [
    {
     "data": {
      "text/plain": [
       "0.24015534682080925"
      ]
     },
     "execution_count": 21,
     "metadata": {},
     "output_type": "execute_result"
    }
   ],
   "source": [
    "2659/11072"
   ]
  },
  {
   "cell_type": "code",
   "execution_count": 25,
   "metadata": {},
   "outputs": [],
   "source": [
    "census_df.drop_duplicates(subset='HH_ID', keep='first', inplace=True)"
   ]
  },
  {
   "cell_type": "code",
   "execution_count": 26,
   "metadata": {},
   "outputs": [
    {
     "data": {
      "text/plain": [
       "1    4432\n",
       "Name: PREMPNOT_x, dtype: int64"
      ]
     },
     "execution_count": 26,
     "metadata": {},
     "output_type": "execute_result"
    }
   ],
   "source": [
    "census_df.PREMPNOT_x.value_counts()"
   ]
  },
  {
   "cell_type": "code",
   "execution_count": 27,
   "metadata": {},
   "outputs": [
    {
     "data": {
      "text/plain": [
       " 1    3695\n",
       "-1     449\n",
       " 4     158\n",
       " 2     127\n",
       " 3       3\n",
       "Name: PREMPNOT_y, dtype: int64"
      ]
     },
     "execution_count": 27,
     "metadata": {},
     "output_type": "execute_result"
    }
   ],
   "source": [
    "census_df.PREMPNOT_y.value_counts()"
   ]
  },
  {
   "cell_type": "code",
   "execution_count": 29,
   "metadata": {},
   "outputs": [
    {
     "data": {
      "text/html": [
       "<div>\n",
       "<style scoped>\n",
       "    .dataframe tbody tr th:only-of-type {\n",
       "        vertical-align: middle;\n",
       "    }\n",
       "\n",
       "    .dataframe tbody tr th {\n",
       "        vertical-align: top;\n",
       "    }\n",
       "\n",
       "    .dataframe thead th {\n",
       "        text-align: right;\n",
       "    }\n",
       "</style>\n",
       "<table border=\"1\" class=\"dataframe\">\n",
       "  <thead>\n",
       "    <tr style=\"text-align: right;\">\n",
       "      <th></th>\n",
       "      <th>HRHHID_x</th>\n",
       "      <th>HRMONTH_x</th>\n",
       "      <th>HRYEAR4_x</th>\n",
       "      <th>HURESPLI_x</th>\n",
       "      <th>HUFINAL_x</th>\n",
       "      <th>HETENURE_x</th>\n",
       "      <th>HEHOUSUT_x</th>\n",
       "      <th>HETELHHD_x</th>\n",
       "      <th>HETELAVL_x</th>\n",
       "      <th>HEPHONEO_x</th>\n",
       "      <th>...</th>\n",
       "      <th>PTNMEMP1_y</th>\n",
       "      <th>PEPDEMP2_y</th>\n",
       "      <th>PTNMEMP2_y</th>\n",
       "      <th>PECERT1_y</th>\n",
       "      <th>PECERT2_y</th>\n",
       "      <th>PECERT3_y</th>\n",
       "      <th>PXCERT1_y</th>\n",
       "      <th>PXCERT2_y</th>\n",
       "      <th>PXCERT3_y</th>\n",
       "      <th>IND_ID_FINAL_y</th>\n",
       "    </tr>\n",
       "  </thead>\n",
       "  <tbody>\n",
       "    <tr>\n",
       "      <th>1075</th>\n",
       "      <td>129050010040777</td>\n",
       "      <td>4</td>\n",
       "      <td>2020</td>\n",
       "      <td>2</td>\n",
       "      <td>201</td>\n",
       "      <td>-1</td>\n",
       "      <td>1</td>\n",
       "      <td>1</td>\n",
       "      <td>-1</td>\n",
       "      <td>1</td>\n",
       "      <td>...</td>\n",
       "      <td>-1</td>\n",
       "      <td>-1</td>\n",
       "      <td>-1</td>\n",
       "      <td>-1</td>\n",
       "      <td>-1</td>\n",
       "      <td>-1</td>\n",
       "      <td>-1</td>\n",
       "      <td>-1</td>\n",
       "      <td>-1</td>\n",
       "      <td>12905001004077711111-1-1-1-1</td>\n",
       "    </tr>\n",
       "    <tr>\n",
       "      <th>1160</th>\n",
       "      <td>310959120604208</td>\n",
       "      <td>4</td>\n",
       "      <td>2020</td>\n",
       "      <td>1</td>\n",
       "      <td>201</td>\n",
       "      <td>-1</td>\n",
       "      <td>1</td>\n",
       "      <td>1</td>\n",
       "      <td>-1</td>\n",
       "      <td>0</td>\n",
       "      <td>...</td>\n",
       "      <td>-1</td>\n",
       "      <td>-1</td>\n",
       "      <td>-1</td>\n",
       "      <td>-1</td>\n",
       "      <td>-1</td>\n",
       "      <td>-1</td>\n",
       "      <td>-1</td>\n",
       "      <td>-1</td>\n",
       "      <td>-1</td>\n",
       "      <td>31095912060420810011-1-1-1-1</td>\n",
       "    </tr>\n",
       "    <tr>\n",
       "      <th>1932</th>\n",
       "      <td>602904401580005</td>\n",
       "      <td>4</td>\n",
       "      <td>2020</td>\n",
       "      <td>1</td>\n",
       "      <td>201</td>\n",
       "      <td>-1</td>\n",
       "      <td>1</td>\n",
       "      <td>1</td>\n",
       "      <td>2</td>\n",
       "      <td>1</td>\n",
       "      <td>...</td>\n",
       "      <td>-1</td>\n",
       "      <td>-1</td>\n",
       "      <td>-1</td>\n",
       "      <td>-1</td>\n",
       "      <td>-1</td>\n",
       "      <td>-1</td>\n",
       "      <td>-1</td>\n",
       "      <td>-1</td>\n",
       "      <td>-1</td>\n",
       "      <td>60290440158000510111-1-1-1-1</td>\n",
       "    </tr>\n",
       "    <tr>\n",
       "      <th>2058</th>\n",
       "      <td>20601151209317</td>\n",
       "      <td>4</td>\n",
       "      <td>2020</td>\n",
       "      <td>2</td>\n",
       "      <td>201</td>\n",
       "      <td>-1</td>\n",
       "      <td>1</td>\n",
       "      <td>1</td>\n",
       "      <td>-1</td>\n",
       "      <td>1</td>\n",
       "      <td>...</td>\n",
       "      <td>-1</td>\n",
       "      <td>-1</td>\n",
       "      <td>-1</td>\n",
       "      <td>-1</td>\n",
       "      <td>-1</td>\n",
       "      <td>-1</td>\n",
       "      <td>-1</td>\n",
       "      <td>-1</td>\n",
       "      <td>-1</td>\n",
       "      <td>2060115120931710011-1-1-1-1</td>\n",
       "    </tr>\n",
       "    <tr>\n",
       "      <th>2367</th>\n",
       "      <td>231225003600071</td>\n",
       "      <td>4</td>\n",
       "      <td>2020</td>\n",
       "      <td>1</td>\n",
       "      <td>201</td>\n",
       "      <td>-1</td>\n",
       "      <td>1</td>\n",
       "      <td>1</td>\n",
       "      <td>-1</td>\n",
       "      <td>1</td>\n",
       "      <td>...</td>\n",
       "      <td>-1</td>\n",
       "      <td>-1</td>\n",
       "      <td>-1</td>\n",
       "      <td>-1</td>\n",
       "      <td>-1</td>\n",
       "      <td>-1</td>\n",
       "      <td>-1</td>\n",
       "      <td>-1</td>\n",
       "      <td>-1</td>\n",
       "      <td>23122500360007110111-1-1-1-1</td>\n",
       "    </tr>\n",
       "    <tr>\n",
       "      <th>...</th>\n",
       "      <td>...</td>\n",
       "      <td>...</td>\n",
       "      <td>...</td>\n",
       "      <td>...</td>\n",
       "      <td>...</td>\n",
       "      <td>...</td>\n",
       "      <td>...</td>\n",
       "      <td>...</td>\n",
       "      <td>...</td>\n",
       "      <td>...</td>\n",
       "      <td>...</td>\n",
       "      <td>...</td>\n",
       "      <td>...</td>\n",
       "      <td>...</td>\n",
       "      <td>...</td>\n",
       "      <td>...</td>\n",
       "      <td>...</td>\n",
       "      <td>...</td>\n",
       "      <td>...</td>\n",
       "      <td>...</td>\n",
       "      <td>...</td>\n",
       "    </tr>\n",
       "    <tr>\n",
       "      <th>71643</th>\n",
       "      <td>510008465382816</td>\n",
       "      <td>4</td>\n",
       "      <td>2020</td>\n",
       "      <td>1</td>\n",
       "      <td>201</td>\n",
       "      <td>-1</td>\n",
       "      <td>1</td>\n",
       "      <td>1</td>\n",
       "      <td>-1</td>\n",
       "      <td>1</td>\n",
       "      <td>...</td>\n",
       "      <td>-1</td>\n",
       "      <td>-1</td>\n",
       "      <td>-1</td>\n",
       "      <td>-1</td>\n",
       "      <td>-1</td>\n",
       "      <td>-1</td>\n",
       "      <td>-1</td>\n",
       "      <td>-1</td>\n",
       "      <td>-1</td>\n",
       "      <td>51000846538281610011-1-1-1-1</td>\n",
       "    </tr>\n",
       "    <tr>\n",
       "      <th>71743</th>\n",
       "      <td>622770406691205</td>\n",
       "      <td>4</td>\n",
       "      <td>2020</td>\n",
       "      <td>2</td>\n",
       "      <td>201</td>\n",
       "      <td>-1</td>\n",
       "      <td>1</td>\n",
       "      <td>1</td>\n",
       "      <td>-1</td>\n",
       "      <td>1</td>\n",
       "      <td>...</td>\n",
       "      <td>-1</td>\n",
       "      <td>-1</td>\n",
       "      <td>-1</td>\n",
       "      <td>-1</td>\n",
       "      <td>-1</td>\n",
       "      <td>-1</td>\n",
       "      <td>-1</td>\n",
       "      <td>-1</td>\n",
       "      <td>-1</td>\n",
       "      <td>62277040669120510011-1-1-1-1</td>\n",
       "    </tr>\n",
       "    <tr>\n",
       "      <th>71756</th>\n",
       "      <td>641170592691205</td>\n",
       "      <td>4</td>\n",
       "      <td>2020</td>\n",
       "      <td>1</td>\n",
       "      <td>201</td>\n",
       "      <td>-1</td>\n",
       "      <td>1</td>\n",
       "      <td>1</td>\n",
       "      <td>-1</td>\n",
       "      <td>1</td>\n",
       "      <td>...</td>\n",
       "      <td>-1</td>\n",
       "      <td>-1</td>\n",
       "      <td>-1</td>\n",
       "      <td>-1</td>\n",
       "      <td>-1</td>\n",
       "      <td>-1</td>\n",
       "      <td>-1</td>\n",
       "      <td>-1</td>\n",
       "      <td>-1</td>\n",
       "      <td>64117059269120510012-1-1-1-1</td>\n",
       "    </tr>\n",
       "    <tr>\n",
       "      <th>71761</th>\n",
       "      <td>648510487141105</td>\n",
       "      <td>4</td>\n",
       "      <td>2020</td>\n",
       "      <td>1</td>\n",
       "      <td>201</td>\n",
       "      <td>-1</td>\n",
       "      <td>1</td>\n",
       "      <td>1</td>\n",
       "      <td>-1</td>\n",
       "      <td>1</td>\n",
       "      <td>...</td>\n",
       "      <td>-1</td>\n",
       "      <td>-1</td>\n",
       "      <td>-1</td>\n",
       "      <td>-1</td>\n",
       "      <td>-1</td>\n",
       "      <td>-1</td>\n",
       "      <td>-1</td>\n",
       "      <td>-1</td>\n",
       "      <td>-1</td>\n",
       "      <td>64851048714110511011-1-1-1-1</td>\n",
       "    </tr>\n",
       "    <tr>\n",
       "      <th>72062</th>\n",
       "      <td>161086766501781</td>\n",
       "      <td>4</td>\n",
       "      <td>2020</td>\n",
       "      <td>1</td>\n",
       "      <td>201</td>\n",
       "      <td>-1</td>\n",
       "      <td>1</td>\n",
       "      <td>1</td>\n",
       "      <td>-1</td>\n",
       "      <td>1</td>\n",
       "      <td>...</td>\n",
       "      <td>-1</td>\n",
       "      <td>-1</td>\n",
       "      <td>-1</td>\n",
       "      <td>-1</td>\n",
       "      <td>-1</td>\n",
       "      <td>-1</td>\n",
       "      <td>-1</td>\n",
       "      <td>-1</td>\n",
       "      <td>-1</td>\n",
       "      <td>16108676650178111011-1-1-1-1</td>\n",
       "    </tr>\n",
       "  </tbody>\n",
       "</table>\n",
       "<p>449 rows × 777 columns</p>\n",
       "</div>"
      ],
      "text/plain": [
       "              HRHHID_x  HRMONTH_x  HRYEAR4_x  HURESPLI_x  HUFINAL_x  \\\n",
       "1075   129050010040777          4       2020           2        201   \n",
       "1160   310959120604208          4       2020           1        201   \n",
       "1932   602904401580005          4       2020           1        201   \n",
       "2058    20601151209317          4       2020           2        201   \n",
       "2367   231225003600071          4       2020           1        201   \n",
       "...                ...        ...        ...         ...        ...   \n",
       "71643  510008465382816          4       2020           1        201   \n",
       "71743  622770406691205          4       2020           2        201   \n",
       "71756  641170592691205          4       2020           1        201   \n",
       "71761  648510487141105          4       2020           1        201   \n",
       "72062  161086766501781          4       2020           1        201   \n",
       "\n",
       "       HETENURE_x  HEHOUSUT_x  HETELHHD_x  HETELAVL_x  HEPHONEO_x  ...  \\\n",
       "1075           -1           1           1          -1           1  ...   \n",
       "1160           -1           1           1          -1           0  ...   \n",
       "1932           -1           1           1           2           1  ...   \n",
       "2058           -1           1           1          -1           1  ...   \n",
       "2367           -1           1           1          -1           1  ...   \n",
       "...           ...         ...         ...         ...         ...  ...   \n",
       "71643          -1           1           1          -1           1  ...   \n",
       "71743          -1           1           1          -1           1  ...   \n",
       "71756          -1           1           1          -1           1  ...   \n",
       "71761          -1           1           1          -1           1  ...   \n",
       "72062          -1           1           1          -1           1  ...   \n",
       "\n",
       "       PTNMEMP1_y  PEPDEMP2_y  PTNMEMP2_y  PECERT1_y  PECERT2_y  PECERT3_y  \\\n",
       "1075           -1          -1          -1         -1         -1         -1   \n",
       "1160           -1          -1          -1         -1         -1         -1   \n",
       "1932           -1          -1          -1         -1         -1         -1   \n",
       "2058           -1          -1          -1         -1         -1         -1   \n",
       "2367           -1          -1          -1         -1         -1         -1   \n",
       "...           ...         ...         ...        ...        ...        ...   \n",
       "71643          -1          -1          -1         -1         -1         -1   \n",
       "71743          -1          -1          -1         -1         -1         -1   \n",
       "71756          -1          -1          -1         -1         -1         -1   \n",
       "71761          -1          -1          -1         -1         -1         -1   \n",
       "72062          -1          -1          -1         -1         -1         -1   \n",
       "\n",
       "       PXCERT1_y  PXCERT2_y  PXCERT3_y                IND_ID_FINAL_y  \n",
       "1075          -1         -1         -1  12905001004077711111-1-1-1-1  \n",
       "1160          -1         -1         -1  31095912060420810011-1-1-1-1  \n",
       "1932          -1         -1         -1  60290440158000510111-1-1-1-1  \n",
       "2058          -1         -1         -1   2060115120931710011-1-1-1-1  \n",
       "2367          -1         -1         -1  23122500360007110111-1-1-1-1  \n",
       "...          ...        ...        ...                           ...  \n",
       "71643         -1         -1         -1  51000846538281610011-1-1-1-1  \n",
       "71743         -1         -1         -1  62277040669120510011-1-1-1-1  \n",
       "71756         -1         -1         -1  64117059269120510012-1-1-1-1  \n",
       "71761         -1         -1         -1  64851048714110511011-1-1-1-1  \n",
       "72062         -1         -1         -1  16108676650178111011-1-1-1-1  \n",
       "\n",
       "[449 rows x 777 columns]"
      ]
     },
     "execution_count": 29,
     "metadata": {},
     "output_type": "execute_result"
    }
   ],
   "source": [
    "census_df[census_df.PREMPNOT_y == -1]"
   ]
  },
  {
   "cell_type": "code",
   "execution_count": null,
   "metadata": {},
   "outputs": [],
   "source": []
  }
 ],
 "metadata": {
  "kernelspec": {
   "display_name": "learn-env",
   "language": "python",
   "name": "learn-env"
  },
  "language_info": {
   "codemirror_mode": {
    "name": "ipython",
    "version": 3
   },
   "file_extension": ".py",
   "mimetype": "text/x-python",
   "name": "python",
   "nbconvert_exporter": "python",
   "pygments_lexer": "ipython3",
   "version": "3.6.9"
  }
 },
 "nbformat": 4,
 "nbformat_minor": 4
}
