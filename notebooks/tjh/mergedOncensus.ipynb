{
 "cells": [
  {
   "cell_type": "code",
   "execution_count": 1,
   "metadata": {},
   "outputs": [],
   "source": [
    "import pandas as pd\n",
    "import geopandas as gpd\n",
    "import numpy as np\n",
    "import matplotlib.pyplot as plt\n",
    "import seaborn as sns\n",
    "\n",
    "sns.set_style('whitegrid')\n",
    "\n",
    "%matplotlib inline"
   ]
  },
  {
   "cell_type": "markdown",
   "metadata": {},
   "source": [
    "# Write a function that takes in the URL of the data frame and returns a cleaned an paired down one"
   ]
  },
  {
   "cell_type": "code",
   "execution_count": 70,
   "metadata": {},
   "outputs": [],
   "source": [
    "def catch_up(directory):\n",
    "    \"\"\"\n",
    "    directory --> string, url of the the csv\n",
    "        - eg '../../src/csv/employed_adults_apr2020_jul2020.csv'\n",
    "    \n",
    "    returns --> pandas.DataFrame containing features of intereast\n",
    "    \n",
    "    dependencies: \n",
    "    packages: pandas\n",
    "    functions: job_loss_categorization\n",
    "    \"\"\"\n",
    "    # load in df\n",
    "    df = pd.read_csv('../../src/csv/employed_adults_apr2020_jul2020.csv', index_col=0)\n",
    "    \n",
    "    # create target variable\n",
    "    target = df.PREMPNOT_y.apply(job_loss_categorization)\n",
    "                                        \n",
    "    # append target to df\n",
    "    df['target'] = target\n",
    "    \n",
    "    # drop future data\n",
    "    to_drop = [column for column in df.columns if \"_y\" in column]\n",
    "    df = df.drop(columns=to_drop)\n",
    "    \n",
    "    # remove _x from columns\n",
    "    df.columns = [column.split(\"_\")[0] for column in df.columns]\n",
    "    \n",
    "    # feature list\n",
    "    feature_list = [\n",
    "    'HEHOUSUT', # type of housing unit to dummy DONE\n",
    "    'HWHHWGT', # Household weight\n",
    "    'GESTFIPS', # state codes\n",
    "    \"GTMETSTA\", # Metropolitan or not DONE\n",
    "    'HEFAMINC', # total family income \n",
    "    \"HRNUMHOU\", # total number of people living in the house hold\n",
    "    'HRHTYPE', # household type eg civilian or married etc\n",
    "    'PERRP', # relationship to reference, -1, 40 and 41\n",
    "    'PRTAGE', # person's age\n",
    "    'PEMARITL', # marital status\n",
    "    'PESEX', # gender 1 == male, 2 == female\n",
    "    'PEEDUCA', # level of education see dict for coding\n",
    "    'PTDTRACE', # race composition of the house. See data dict\n",
    "    \"PEHSPNON\", # hispanic or not hispanic\n",
    "    'PENATVTY', # country of birth ie US born or not\n",
    "    \"PRCITSHP\", # citezen status\n",
    "    \"PRINUSYR\", # Year since immigration -1== us born, else coded by decade\n",
    "    \"PRHRUSL\", # Hours at work, dummy into full time or not full time\n",
    "    \"HUBUS\", # Does anyone have a business or a farm? are you a business owner?\n",
    "    \"PEMJOT\", # Do you have more than 1 job?\n",
    "    \"PEMJNUM\", # how many jobs do you have?\n",
    "    \"PEHRFTPT\", # Do you normally spend more than 35 hours a week at your main job?\n",
    "    \"PEHRRSN2\", # what is the main reason you do not want to work 35 hours. Speaks to motivation of keeping job.\n",
    "    \"PEHRACTT\", # sum of hours worked between all jobs\n",
    "    \"PRAGNA\", # Agricultural industry yes or no\n",
    "    \"PRNMCHLD\", # number of children less than 18 years old (-1 not a parent, 0-99 number of children)\n",
    "    \"PECYC\", # How much college credit in years has the reference person recieved?\n",
    "    \"PECERT1\", # Do you have a professional certification issued at state or federal level.\n",
    "    \"PRMJIND1\", # industry cat\n",
    "    \"PRMJOCC1\", # industry cat\n",
    "    'target'\n",
    "    ]\n",
    "    \n",
    "    # subset the data frame with our desired columns\n",
    "    df = df[feature_list]\n",
    "    \n",
    "    return df"
   ]
  },
  {
   "cell_type": "code",
   "execution_count": 71,
   "metadata": {},
   "outputs": [],
   "source": [
    "df = catch_up('../../src/csv/employed_adults_apr2020_jul2020.csv')"
   ]
  },
  {
   "cell_type": "code",
   "execution_count": null,
   "metadata": {},
   "outputs": [],
   "source": [
    "for column in iter"
   ]
  },
  {
   "cell_type": "code",
   "execution_count": 77,
   "metadata": {},
   "outputs": [],
   "source": [
    "census_df = pd.read_csv('../../src/csv/employed_adults_apr2020_jul2020.csv', index_col=0)"
   ]
  },
  {
   "cell_type": "code",
   "execution_count": 3,
   "metadata": {},
   "outputs": [
    {
     "name": "stdout",
     "output_type": "stream",
     "text": [
      "<class 'pandas.core.frame.DataFrame'>\n",
      "Int64Index: 3983 entries, 9 to 72340\n",
      "Columns: 777 entries, HRHHID_x to IND_ID_FINAL_y\n",
      "dtypes: int64(774), object(3)\n",
      "memory usage: 23.6+ MB\n"
     ]
    }
   ],
   "source": [
    "census_df.info()"
   ]
  },
  {
   "cell_type": "code",
   "execution_count": 4,
   "metadata": {},
   "outputs": [
    {
     "data": {
      "text/plain": [
       "Index(['HRHHID_x', 'HRMONTH_x', 'HRYEAR4_x', 'HURESPLI_x', 'HUFINAL_x',\n",
       "       'HETENURE_x', 'HEHOUSUT_x', 'HETELHHD_x', 'HETELAVL_x', 'HEPHONEO_x',\n",
       "       ...\n",
       "       'PTNMEMP1_y', 'PEPDEMP2_y', 'PTNMEMP2_y', 'PECERT1_y', 'PECERT2_y',\n",
       "       'PECERT3_y', 'PXCERT1_y', 'PXCERT2_y', 'PXCERT3_y', 'IND_ID_FINAL_y'],\n",
       "      dtype='object', length=777)"
      ]
     },
     "execution_count": 4,
     "metadata": {},
     "output_type": "execute_result"
    }
   ],
   "source": [
    "census_df.columns"
   ]
  },
  {
   "cell_type": "markdown",
   "metadata": {},
   "source": [
    "# X is from our april data set, Y is from our july data set\n",
    "\n",
    "## Create our target variable from PREMPNOT_y\n",
    "\n",
    "#### From the data dict:\n",
    "1\tEMPLOYED\n",
    "2\tUNEMPLOYED\n",
    "3\tNOT IN LABOR FORCE (NILF)-discouraged\n",
    "4\tNOT IN LABOR FORCE (NILF)-other\n",
    "\n",
    "So we want a bin the variable as 1 being unemployed ie they DID lose their job\n"
   ]
  },
  {
   "cell_type": "code",
   "execution_count": null,
   "metadata": {},
   "outputs": [],
   "source": []
  },
  {
   "cell_type": "code",
   "execution_count": 60,
   "metadata": {},
   "outputs": [],
   "source": [
    "def job_loss_categorization(n):\n",
    "    if n > 1:\n",
    "        return 1\n",
    "    else:\n",
    "        return 0"
   ]
  },
  {
   "cell_type": "markdown",
   "metadata": {},
   "source": [
    "# Create Target"
   ]
  },
  {
   "cell_type": "code",
   "execution_count": 61,
   "metadata": {},
   "outputs": [
    {
     "data": {
      "text/plain": [
       "9        0\n",
       "18       0\n",
       "33       0\n",
       "46       0\n",
       "62       0\n",
       "        ..\n",
       "72227    0\n",
       "72231    0\n",
       "72233    0\n",
       "72290    0\n",
       "72340    0\n",
       "Name: target, Length: 3983, dtype: int64"
      ]
     },
     "execution_count": 61,
     "metadata": {},
     "output_type": "execute_result"
    }
   ],
   "source": [
    "census_df['target'] = census_df.PREMPNOT_y.apply(job_loss_categorization)\n",
    "census_df.target"
   ]
  },
  {
   "cell_type": "markdown",
   "metadata": {},
   "source": [
    "# Drop all columns ending in _y"
   ]
  },
  {
   "cell_type": "code",
   "execution_count": 62,
   "metadata": {},
   "outputs": [
    {
     "data": {
      "text/plain": [
       "9        0\n",
       "18       0\n",
       "33       0\n",
       "46       0\n",
       "62       0\n",
       "        ..\n",
       "72227    0\n",
       "72231    0\n",
       "72233    0\n",
       "72290    0\n",
       "72340    0\n",
       "Name: target, Length: 3983, dtype: int64"
      ]
     },
     "execution_count": 62,
     "metadata": {},
     "output_type": "execute_result"
    }
   ],
   "source": [
    "to_drop = [column for column in census_df.columns if \"_y\" in column]\n",
    "df = census_df.drop(columns=to_drop)\n",
    "df.target"
   ]
  },
  {
   "cell_type": "markdown",
   "metadata": {},
   "source": [
    "# Remove _x from all column names"
   ]
  },
  {
   "cell_type": "code",
   "execution_count": 63,
   "metadata": {},
   "outputs": [
    {
     "data": {
      "text/plain": [
       "True"
      ]
     },
     "execution_count": 63,
     "metadata": {},
     "output_type": "execute_result"
    }
   ],
   "source": [
    "df.columns = [column.split(\"_\")[0] for column in df.columns ]\n",
    "\"PRMJIND1\" in df.columns"
   ]
  },
  {
   "cell_type": "markdown",
   "metadata": {},
   "source": [
    "# Filter for selected columns from the dict"
   ]
  },
  {
   "cell_type": "code",
   "execution_count": 64,
   "metadata": {},
   "outputs": [],
   "source": [
    "to_keep = [\n",
    "    'HEHOUSUT', # type of housing unit to dummy DONE\n",
    "    'HWHHWGT', # Household weight\n",
    "    'GESTFIPS', # state codes\n",
    "    \"GTMETSTA\", # Metropolitan or not DONE\n",
    "    'HEFAMINC', # total family income \n",
    "    \"HRNUMHOU\", # total number of people living in the house hold\n",
    "    'HRHTYPE', # household type eg civilian or married etc\n",
    "    'PERRP', # relationship to reference, -1, 40 and 41\n",
    "    'PRTAGE', # person's age\n",
    "    'PEMARITL', # marital status\n",
    "    'PESEX', # gender 1 == male, 2 == female\n",
    "    'PEEDUCA', # level of education see dict for coding\n",
    "    'PTDTRACE', # race composition of the house. See data dict\n",
    "    \"PEHSPNON\", # hispanic or not hispanic\n",
    "    'PENATVTY', # country of birth ie US born or not\n",
    "    \"PRCITSHP\", # citezen status\n",
    "    \"PRINUSYR\", # Year since immigration -1== us born, else coded by decade\n",
    "    \"PRHRUSL\", # Hours at work, dummy into full time or not full time\n",
    "    \"HUBUS\", # Does anyone have a business or a farm? are you a business owner?\n",
    "    \"PEMJOT\", # Do you have more than 1 job?\n",
    "    \"PEMJNUM\", # how many jobs do you have?\n",
    "    \"PEHRFTPT\", # Do you normally spend more than 35 hours a week at your main job?\n",
    "    \"PEHRRSN2\", # what is the main reason you do not want to work 35 hours. Speaks to motivation of keeping job.\n",
    "    \"PEHRACTT\", # sum of hours worked between all jobs\n",
    "    \"PRAGNA\", # Agricultural industry yes or no\n",
    "    \"PRNMCHLD\", # number of children less than 18 years old (-1 not a parent, 0-99 number of children)\n",
    "    \"PECYC\", # How much college credit in years has the reference person recieved?\n",
    "    \"PECERT1\", # Do you have a professional certification issued at state or federal level.\n",
    "    \"PRMJIND1\", # industry cat\n",
    "    \"PRMJOCC1\", # industry cat\n",
    "    'target'\n",
    "]"
   ]
  },
  {
   "cell_type": "code",
   "execution_count": 65,
   "metadata": {},
   "outputs": [
    {
     "data": {
      "text/plain": [
       "9        13\n",
       "18       13\n",
       "33       13\n",
       "46       10\n",
       "62        5\n",
       "         ..\n",
       "72227     3\n",
       "72231    11\n",
       "72233     5\n",
       "72290    12\n",
       "72340    13\n",
       "Name: PRMJIND1, Length: 3983, dtype: int64"
      ]
     },
     "execution_count": 65,
     "metadata": {},
     "output_type": "execute_result"
    }
   ],
   "source": [
    "df = df[to_keep]\n",
    "df.PRMJIND1"
   ]
  },
  {
   "cell_type": "markdown",
   "metadata": {},
   "source": [
    "# Decode the columns\n",
    "\n",
    "Group most similar groups based on total housing income\n",
    "\n",
    "1 and 7 are both housing units. 4 is a rooming house. 5 is a mobile home and 6 is a nicer mobile home"
   ]
  },
  {
   "cell_type": "code",
   "execution_count": 30,
   "metadata": {},
   "outputs": [
    {
     "data": {
      "text/plain": [
       "<matplotlib.axes._subplots.AxesSubplot at 0x7fed8a6e12b0>"
      ]
     },
     "execution_count": 30,
     "metadata": {},
     "output_type": "execute_result"
    },
    {
     "data": {
      "image/png": "[encoded data removed]",
      "text/plain": [
       "<Figure size 432x288 with 1 Axes>"
      ]
     },
     "metadata": {
      "needs_background": "light"
     },
     "output_type": "display_data"
    }
   ],
   "source": [
    "df.groupby(['HEHOUSUT']).HEFAMINC.count().plot(kind='bar')"
   ]
  },
  {
   "cell_type": "code",
   "execution_count": 31,
   "metadata": {},
   "outputs": [],
   "source": [
    "# 'HEHOUSUT' aka type of housing\n",
    "def housing_cat(n):\n",
    "    if n == 1:\n",
    "        return 'HU'\n",
    "    elif n != 1:\n",
    "        return 'other'"
   ]
  },
  {
   "cell_type": "code",
   "execution_count": 32,
   "metadata": {},
   "outputs": [
    {
     "data": {
      "text/plain": [
       "HU       3879\n",
       "other     104\n",
       "Name: housing_cat, dtype: int64"
      ]
     },
     "execution_count": 32,
     "metadata": {},
     "output_type": "execute_result"
    }
   ],
   "source": [
    "df['housing_cat'] = df.HEHOUSUT.apply(housing_cat)\n",
    "df['housing_cat'].value_counts()"
   ]
  },
  {
   "cell_type": "code",
   "execution_count": null,
   "metadata": {},
   "outputs": [],
   "source": []
  },
  {
   "cell_type": "markdown",
   "metadata": {},
   "source": [
    "# Metropolitan or not"
   ]
  },
  {
   "cell_type": "code",
   "execution_count": 33,
   "metadata": {},
   "outputs": [
    {
     "data": {
      "text/plain": [
       "GTMETSTA\n",
       "1    3176\n",
       "2     766\n",
       "3      41\n",
       "Name: HEFAMINC, dtype: int64"
      ]
     },
     "execution_count": 33,
     "metadata": {},
     "output_type": "execute_result"
    }
   ],
   "source": [
    "df.groupby([\"GTMETSTA\"]).HEFAMINC.count()"
   ]
  },
  {
   "cell_type": "code",
   "execution_count": 34,
   "metadata": {},
   "outputs": [],
   "source": [
    "def metro_cat(n):\n",
    "    if n == 1 or n==3:\n",
    "        return 1\n",
    "    else:\n",
    "        return 0"
   ]
  },
  {
   "cell_type": "code",
   "execution_count": 35,
   "metadata": {},
   "outputs": [],
   "source": [
    "df['metropolitan'] = df.GTMETSTA.apply(metro_cat)"
   ]
  },
  {
   "cell_type": "code",
   "execution_count": 36,
   "metadata": {},
   "outputs": [
    {
     "data": {
      "text/plain": [
       "Index(['HEHOUSUT', 'HWHHWGT', 'GESTFIPS', 'GTMETSTA', 'HEFAMINC', 'HRNUMHOU',\n",
       "       'HRHTYPE', 'PERRP', 'PRTAGE', 'PEMARITL', 'PESEX', 'PEEDUCA',\n",
       "       'PTDTRACE', 'PEHSPNON', 'PENATVTY', 'PEMNTVTY', 'PEFNTVTY', 'PRCITSHP',\n",
       "       'PRINUSYR', 'PRHRUSL', 'HUBUS', 'PEMJOT', 'PEMJNUM', 'PEHRFTPT',\n",
       "       'PEHRRSN2', 'PEHRACTT', 'PRAGNA', 'PRNMCHLD', 'PECYC', 'PEIO1ICD',\n",
       "       'PEIO1OCD', 'PECERT1', 'target', 'housing_cat', 'metropolitan'],\n",
       "      dtype='object')"
      ]
     },
     "execution_count": 36,
     "metadata": {},
     "output_type": "execute_result"
    }
   ],
   "source": [
    "df.metropolitan.value_counts()\n",
    "df.columns"
   ]
  },
  {
   "cell_type": "markdown",
   "metadata": {},
   "source": [
    "# Total Family Income"
   ]
  },
  {
   "cell_type": "code",
   "execution_count": 46,
   "metadata": {},
   "outputs": [
    {
     "data": {
      "text/plain": [
       "<matplotlib.axes._subplots.AxesSubplot at 0x7fed8b470cf8>"
      ]
     },
     "execution_count": 46,
     "metadata": {},
     "output_type": "execute_result"
    },
    {
     "data": {
      "image/png": "[encoded data removed]",
      "text/plain": [
       "<Figure size 432x288 with 1 Axes>"
      ]
     },
     "metadata": {
      "needs_background": "light"
     },
     "output_type": "display_data"
    }
   ],
   "source": [
    "sns.scatterplot(data=df[df.HEFAMINC > 5], x='HEFAMINC', y='PRTAGE', hue='target')"
   ]
  },
  {
   "cell_type": "markdown",
   "metadata": {},
   "source": [
    "No clear relationship exists between the "
   ]
  },
  {
   "cell_type": "code",
   "execution_count": 51,
   "metadata": {},
   "outputs": [
    {
     "data": {
      "text/plain": [
       "<matplotlib.axes._subplots.AxesSubplot at 0x7fed8b992390>"
      ]
     },
     "execution_count": 51,
     "metadata": {},
     "output_type": "execute_result"
    },
    {
     "data": {
      "image/png": "[encoded data removed]",
      "text/plain": [
       "<Figure size 432x288 with 1 Axes>"
      ]
     },
     "metadata": {
      "needs_background": "light"
     },
     "output_type": "display_data"
    }
   ],
   "source": [
    "(df.groupby(['HEFAMINC']).target.sum() / df.groupby(['HEFAMINC']).target.count()).plot(kind='bar')"
   ]
  },
  {
   "cell_type": "code",
   "execution_count": 40,
   "metadata": {},
   "outputs": [
    {
     "data": {
      "image/png": "[encoded data removed]",
      "text/plain": [
       "<Figure size 432x288 with 1 Axes>"
      ]
     },
     "metadata": {
      "needs_background": "light"
     },
     "output_type": "display_data"
    }
   ],
   "source": [
    "df.HEFAMINC.plot(kind='hist', bins=20);"
   ]
  },
  {
   "cell_type": "code",
   "execution_count": 80,
   "metadata": {},
   "outputs": [
    {
     "data": {
      "text/plain": [
       "10    79\n",
       "9     35\n",
       "5     31\n",
       "4     27\n",
       "11    22\n",
       "3     19\n",
       "6     18\n",
       "1     13\n",
       "13    12\n",
       "12    12\n",
       "8      9\n",
       "7      8\n",
       "2      3\n",
       "Name: PRMJIND1, dtype: int64"
      ]
     },
     "execution_count": 80,
     "metadata": {},
     "output_type": "execute_result"
    }
   ],
   "source": [
    "df[df.target == 1].PRMJIND1.value_counts()"
   ]
  },
  {
   "cell_type": "code",
   "execution_count": null,
   "metadata": {},
   "outputs": [],
   "source": []
  }
 ],
 "metadata": {
  "kernelspec": {
   "display_name": "learn-env",
   "language": "python",
   "name": "learn-env"
  },
  "language_info": {
   "codemirror_mode": {
    "name": "ipython",
    "version": 3
   },
   "file_extension": ".py",
   "mimetype": "text/x-python",
   "name": "python",
   "nbconvert_exporter": "python",
   "pygments_lexer": "ipython3",
   "version": "3.6.9"
  }
 },
 "nbformat": 4,
 "nbformat_minor": 4
}
