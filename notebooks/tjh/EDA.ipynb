{
 "cells": [
  {
   "cell_type": "code",
   "execution_count": 7,
   "metadata": {},
   "outputs": [
    {
     "name": "stdout",
     "output_type": "stream",
     "text": [
      "The autoreload extension is already loaded. To reload it, use:\n",
      "  %reload_ext autoreload\n"
     ]
    }
   ],
   "source": [
    "%load_ext autoreload\n",
    "%autoreload 2\n",
    "\n",
    "import os\n",
    "import sys\n",
    "\n",
    "module_path = os.path.abspath(os.path.join(os.pardir, os.pardir, 'src'))\n",
    "if module_path not in sys.path:\n",
    "    sys.path.append(module_path)\n",
    "    \n",
    "from modules import dataloading as dl\n",
    "from modules import cleaning as c\n",
    "import pandas as pd\n",
    "targetdir = '../../src/data/'"
   ]
  },
  {
   "cell_type": "code",
   "execution_count": 9,
   "metadata": {},
   "outputs": [],
   "source": [
    "# import data'\n",
    "apr_2020_df = dl.CPS_raw(targetdir, ['apr2020'], None)\n",
    "jul_2020_df = dl.CPS_raw(targetdir, ['jul2020'], None)\n",
    "# jan_feb_2020_df = dl.CPS_raw(targetdir, ['jan2020', 'feb2020'], None)\n"
   ]
  },
  {
   "cell_type": "code",
   "execution_count": 41,
   "metadata": {},
   "outputs": [
    {
     "name": "stdout",
     "output_type": "stream",
     "text": [
      "<class 'pandas.core.frame.DataFrame'>\n",
      "RangeIndex: 129382 entries, 0 to 129381\n",
      "Columns: 391 entries, HRHHID to IND_ID_FINAL\n",
      "dtypes: int64(387), object(4)\n",
      "memory usage: 386.0+ MB\n"
     ]
    }
   ],
   "source": [
    "apr_2020_df.info()"
   ]
  },
  {
   "cell_type": "markdown",
   "metadata": {},
   "source": [
    "# We decided on which columns to keep and which to discard\n",
    "\n",
    "The target variable will be change in employment status from having a job to not. We could also make a conditional where if the they WHERE full time (40 hours+) but now are not, that could also represent a change in the employment status.\n",
    "\n",
    "\n",
    "But if our question is: How many people lost full time work during the first wave of the pandemic, The data set becomes much simpler."
   ]
  },
  {
   "cell_type": "code",
   "execution_count": 68,
   "metadata": {},
   "outputs": [],
   "source": [
    "to_keep = [\n",
    "    'PREMPNOT', # EMPLOY TARGET VARIABLE\n",
    "    'PEMLR', # TARGET VARIABLE 1-6 employment status\n",
    "    'PRPERTYP', # Type of person recode \n",
    "    'HEHOUSUT', # type of housing unit to dummy\n",
    "    'HETENURE', # rent or morgage status\n",
    "    'HWHHWGT', # Household weight\n",
    "    'GESTFIPS', # state codes\n",
    "    \"GTMETSTA\", # Metropolitan or not\n",
    "    'HEFAMINC', # total family income\n",
    "    \"HRNUMHOU\", # total number of people living in the house hold\n",
    "    'HRHTYPE', # household type eg civilian or married etc\n",
    "    'PERRP', # relationship to reference, -1, 40 and 41\n",
    "    'PRTAGE', # person's age\n",
    "    'PEMARITL', # marital status\n",
    "    'PESPOUSE', # line number of spouse (-1) == no spouse\n",
    "    'PESEX', # gender 1 == male, 2 == female\n",
    "    'PEEDUCA', # level of education see dict for coding\n",
    "    'PTDTRACE', # race composition of the house. See data dict\n",
    "    \"PEHSPNON\", # hispanic or not hispanic\n",
    "    'PUCHINHH', # change in household composition. See data dict\n",
    "    'PENATVTY', # country of birth ie US born or not\n",
    "    \"PEMNTVTY\", # mothers country of birth, \n",
    "    \"PEFNTVTY\", # fathers country of birth ie are they a first generation imiigrant?\n",
    "    \"PRCITSHP\", # citezen status\n",
    "    \"PRINUSYR\", # Year since immigration -1== us born, else coded by decade\n",
    "    \"PUABSOT\", # Did you have a job last week TARGET POTENTIAL\n",
    "    \"PULAY\", # Where you on layoff from your job last week?\n",
    "    \"PEABSRSN\", # reason for not being at work the day before.\n",
    "    \"PRHRUSL\", # Hours at work, dummy into full time or not full time\n",
    "    \"HUBUS\", # Does anyone have a business or a farm?\n",
    "    \"PEMJOT\", # Do you have more than 1 job?\n",
    "    \"PEMJNUM\", # how many jobs do you have?\n",
    "    \"PEHRFTPT\", # Do you normally spend more than 35 hours a week at your main job?\n",
    "    \"PEHRRSN2\", # what is the main reason you do not want to work 35 hours. Speaks to motivation of keeping job.\n",
    "    \"PEHRACTT\", # sum of hours worked between all jobs\n",
    "    \"PRCIVLF\", # in the civiliarn labour force = 1 \n",
    "    \"PRAGNA\", # Agricultural industry yes or no\n",
    "    \"PRMJIND1\", # industry recode\n",
    "    \"PEERNUOT\", # Do you usually recieve tips at your work\n",
    "    \"PEERNHRY\", # hourly vs non-hourly status\n",
    "    \"PRERNWA\", # weekly earnings\n",
    "    \"PEERNLAB\", # part of a labour union\n",
    "    \"PRNLFSCH\", # In school or not\n",
    "    \"PRNMCHLD\", # number of children less than 18 years old (-1 not a parent, 0-99 number of children)\n",
    "    \"PECYC\", # How much college credit in years has the reference person recieved?\n",
    "    \"PEIO1ICD\", # Inustry code for primary jobs lin1\n",
    "    \"PEIO1OCD\", # Occupation code for primary jobs lin1\n",
    "    \"PECERT1\", # Do you have a professional certification issued at state or federal level.\n",
    "    \"PUIODP2\", # did your job change last month\n",
    "]"
   ]
  },
  {
   "cell_type": "code",
   "execution_count": 69,
   "metadata": {},
   "outputs": [
    {
     "data": {
      "text/plain": [
       "49"
      ]
     },
     "execution_count": 69,
     "metadata": {},
     "output_type": "execute_result"
    }
   ],
   "source": [
    "len(to_keep)"
   ]
  },
  {
   "cell_type": "code",
   "execution_count": 1,
   "metadata": {},
   "outputs": [
    {
     "data": {
      "text/plain": [
       "'\\n1 Agriculture, forestry, fishing, and hunting2 Mining\\n3 Construction\\n4 Manufacturing\\n5 Wholesale and retail trade\\n6 Transportation and utilities      \\n7 Information\\n8 Financial activities\\n9 Professional and business services\\n10 Educational and health services\\n11 Leisure and hospitality\\n12 Other services\\n13 Public administration\\n14 Armed Forces'"
      ]
     },
     "execution_count": 1,
     "metadata": {},
     "output_type": "execute_result"
    }
   ],
   "source": [
    "#\"PRMJIND1\" & PRMJIND2,  industry codes Primary business industry job 1\n",
    "\n",
    "\"\"\"\n",
    "1 Agriculture, forestry, fishing, and hunting\\\n",
    "2 Mining\n",
    "3 Construction\n",
    "4 Manufacturing\n",
    "5 Wholesale and retail trade\n",
    "6 Transportation and utilities      \n",
    "7 Information\n",
    "8 Financial activities\n",
    "9 Professional and business services\n",
    "10 Educational and health services\n",
    "11 Leisure and hospitality\n",
    "12 Other services\n",
    "13 Public administration\n",
    "14 Armed Forces\"\"\""
   ]
  },
  {
   "cell_type": "code",
   "execution_count": 67,
   "metadata": {},
   "outputs": [
    {
     "data": {
      "text/plain": [
       "'U.S. Census Bureau\\t\\t\\t\\t\\t\\n2020 Current Population Survey Public Use Industry Code List\\t\\t\\t\\t\\t\\n\\t\\t\\t\\t\\t\\n\\t*  0010 - 0560  Agriculture, Forestry, Fishing and Hunting, and Mining\\t\\t\\t\\t\\n\\t*  0770 - 1060  Construction\\t\\t\\t\\t\\n\\t*  1070 - 4060  Manufacturing\\t\\t\\t\\t\\n\\t*  4070 - 4660  Wholesale Trade\\t\\t\\t\\t\\n\\t*  4670 - 6060  Retail Trade\\t\\t\\t\\t\\n\\t*  6070 - 6460, 0570 - 0760  Transportation and Warehousing, and Utilities\\t\\t\\t\\t\\n\\t*  6470 - 6860  Information\\t\\t\\t\\t\\n\\t*  6870 - 7260  Finance and Insurance,  and Real Estate and Rental and Leasing\\t\\t\\t\\t\\n\\t*  7270 - 7790  Professional, Scientific, and Management, and  Administrative and Waste Management Services\\t\\t\\t\\t\\n\\t*  7860 - 8490  Educational Services, and Health Care and Social Assistance\\t\\t\\t\\t\\n\\t*  8560 - 8690  Arts, Entertainment, and Recreation, and  Accommodation and Food Services\\t\\t\\t\\t\\n\\t*  8770 - 9290  Other Services (except Public Administration)\\t\\t\\t\\t\\n\\t*  9370 - 9590  Public Administration\\t\\t\\t\\t\\n\\t*  9890         Military\\t'"
      ]
     },
     "execution_count": 67,
     "metadata": {},
     "output_type": "execute_result"
    }
   ],
   "source": [
    "\"\"\"U.S. Census Bureau\n",
    "2020 Current Population Survey Public Use Industry Code List\t\t\t\t\t\n",
    "\t\t\t\t\t\n",
    "\t*  0010 - 0560  Agriculture, Forestry, Fishing and Hunting, and Mining\t\t\t\t\n",
    "\t*  0770 - 1060  Construction\t\t\t\t\n",
    "\t*  1070 - 4060  Manufacturing\t\t\t\t\n",
    "\t*  4070 - 4660  Wholesale Trade\t\t\t\t\n",
    "\t*  4670 - 6060  Retail Trade\t\t\t\t\n",
    "\t*  6070 - 6460, 0570 - 0760  Transportation and Warehousing, and Utilities\t\t\t\t\n",
    "\t*  6470 - 6860  Information\t\t\t\t\n",
    "\t*  6870 - 7260  Finance and Insurance,  and Real Estate and Rental and Leasing\t\t\t\t\n",
    "\t*  7270 - 7790  Professional, Scientific, and Management, and  Administrative and Waste Management Services\t\t\t\t\n",
    "\t*  7860 - 8490  Educational Services, and Health Care and Social Assistance\t\t\t\t\n",
    "\t*  8560 - 8690  Arts, Entertainment, and Recreation, and  Accommodation and Food Services\t\t\t\t\n",
    "\t*  8770 - 9290  Other Services (except Public Administration)\t\t\t\t\n",
    "\t*  9370 - 9590  Public Administration\t\t\t\t\n",
    "\t*  9890         Military\t\"\"\""
   ]
  },
  {
   "cell_type": "code",
   "execution_count": 20,
   "metadata": {},
   "outputs": [],
   "source": [
    "apr_cleaned = c.clean_CPS_df(apr_2020_df)\n",
    "jul_cleaned = c.clean_CPS_df(jul_2020_df)"
   ]
  },
  {
   "cell_type": "code",
   "execution_count": null,
   "metadata": {},
   "outputs": [],
   "source": []
  },
  {
   "cell_type": "code",
   "execution_count": null,
   "metadata": {},
   "outputs": [],
   "source": []
  }
 ],
 "metadata": {
  "kernelspec": {
   "display_name": "Python 3",
   "language": "python",
   "name": "python3"
  },
  "language_info": {
   "codemirror_mode": {
    "name": "ipython",
    "version": 3
   },
   "file_extension": ".py",
   "mimetype": "text/x-python",
   "name": "python",
   "nbconvert_exporter": "python",
   "pygments_lexer": "ipython3",
   "version": "3.6.9"
  }
 },
 "nbformat": 4,
 "nbformat_minor": 4
}
