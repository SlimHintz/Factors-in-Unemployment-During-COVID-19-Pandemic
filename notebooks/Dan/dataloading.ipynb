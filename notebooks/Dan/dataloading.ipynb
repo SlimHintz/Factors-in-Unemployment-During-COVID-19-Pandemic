{
 "cells": [
  {
   "cell_type": "markdown",
   "metadata": {},
   "source": [
    "# Dataloading"
   ]
  },
  {
   "cell_type": "code",
   "execution_count": 5,
   "metadata": {},
   "outputs": [
    {
     "name": "stdout",
     "output_type": "stream",
     "text": [
      "The autoreload extension is already loaded. To reload it, use:\n",
      "  %reload_ext autoreload\n"
     ]
    }
   ],
   "source": [
    "%load_ext autoreload\n",
    "%autoreload 2\n",
    "\n",
    "import os\n",
    "import sys\n",
    "import pandas as pd\n",
    "\n",
    "module_path = os.path.abspath(os.path.join(os.pardir, os.pardir, 'src'))\n",
    "if module_path not in sys.path:\n",
    "    sys.path.append(module_path)\n",
    "    \n",
    "from modules import dataloading as dl\n",
    "data_targetdir = '../../src/data/'\n",
    "csv_targetdir = '../../src/csv/'"
   ]
  },
  {
   "cell_type": "code",
   "execution_count": 15,
   "metadata": {},
   "outputs": [],
   "source": [
    "df = dl.CPS_raw(targetdir, ['sep2020'], None)"
   ]
  },
  {
   "cell_type": "code",
   "execution_count": 3,
   "metadata": {},
   "outputs": [
    {
     "data": {
      "text/html": [
       "<div>\n",
       "<style scoped>\n",
       "    .dataframe tbody tr th:only-of-type {\n",
       "        vertical-align: middle;\n",
       "    }\n",
       "\n",
       "    .dataframe tbody tr th {\n",
       "        vertical-align: top;\n",
       "    }\n",
       "\n",
       "    .dataframe thead th {\n",
       "        text-align: right;\n",
       "    }\n",
       "</style>\n",
       "<table border=\"1\" class=\"dataframe\">\n",
       "  <thead>\n",
       "    <tr style=\"text-align: right;\">\n",
       "      <th></th>\n",
       "      <th>HRHHID</th>\n",
       "      <th>HRMONTH</th>\n",
       "      <th>HRYEAR4</th>\n",
       "      <th>HURESPLI</th>\n",
       "      <th>HUFINAL</th>\n",
       "      <th>HETENURE</th>\n",
       "      <th>HEHOUSUT</th>\n",
       "      <th>HETELHHD</th>\n",
       "      <th>HETELAVL</th>\n",
       "      <th>HEPHONEO</th>\n",
       "      <th>...</th>\n",
       "      <th>PEPDEMP1</th>\n",
       "      <th>PTNMEMP1</th>\n",
       "      <th>PEPDEMP2</th>\n",
       "      <th>PTNMEMP2</th>\n",
       "      <th>PECERT1</th>\n",
       "      <th>PECERT2</th>\n",
       "      <th>PECERT3</th>\n",
       "      <th>PXCERT1</th>\n",
       "      <th>PXCERT2</th>\n",
       "      <th>PXCERT3</th>\n",
       "    </tr>\n",
       "  </thead>\n",
       "  <tbody>\n",
       "    <tr>\n",
       "      <th>0</th>\n",
       "      <td>71691004941</td>\n",
       "      <td>9</td>\n",
       "      <td>2020</td>\n",
       "      <td>-1</td>\n",
       "      <td>226</td>\n",
       "      <td>-1</td>\n",
       "      <td>1</td>\n",
       "      <td>-1</td>\n",
       "      <td>-1</td>\n",
       "      <td>0</td>\n",
       "      <td>...</td>\n",
       "      <td>-1</td>\n",
       "      <td>-1</td>\n",
       "      <td>-1</td>\n",
       "      <td>-1</td>\n",
       "      <td>-1</td>\n",
       "      <td>-1</td>\n",
       "      <td>-1</td>\n",
       "      <td>-1</td>\n",
       "      <td>-1</td>\n",
       "      <td>-1</td>\n",
       "    </tr>\n",
       "    <tr>\n",
       "      <th>1</th>\n",
       "      <td>110233098483</td>\n",
       "      <td>9</td>\n",
       "      <td>2020</td>\n",
       "      <td>-1</td>\n",
       "      <td>248</td>\n",
       "      <td>-1</td>\n",
       "      <td>1</td>\n",
       "      <td>-1</td>\n",
       "      <td>-1</td>\n",
       "      <td>0</td>\n",
       "      <td>...</td>\n",
       "      <td>-1</td>\n",
       "      <td>-1</td>\n",
       "      <td>-1</td>\n",
       "      <td>-1</td>\n",
       "      <td>-1</td>\n",
       "      <td>-1</td>\n",
       "      <td>-1</td>\n",
       "      <td>-1</td>\n",
       "      <td>-1</td>\n",
       "      <td>-1</td>\n",
       "    </tr>\n",
       "    <tr>\n",
       "      <th>2</th>\n",
       "      <td>110327856469</td>\n",
       "      <td>9</td>\n",
       "      <td>2020</td>\n",
       "      <td>1</td>\n",
       "      <td>201</td>\n",
       "      <td>-1</td>\n",
       "      <td>1</td>\n",
       "      <td>1</td>\n",
       "      <td>-1</td>\n",
       "      <td>1</td>\n",
       "      <td>...</td>\n",
       "      <td>-1</td>\n",
       "      <td>-1</td>\n",
       "      <td>-1</td>\n",
       "      <td>-1</td>\n",
       "      <td>2</td>\n",
       "      <td>-1</td>\n",
       "      <td>-1</td>\n",
       "      <td>20</td>\n",
       "      <td>0</td>\n",
       "      <td>0</td>\n",
       "    </tr>\n",
       "    <tr>\n",
       "      <th>3</th>\n",
       "      <td>110359424339</td>\n",
       "      <td>9</td>\n",
       "      <td>2020</td>\n",
       "      <td>1</td>\n",
       "      <td>201</td>\n",
       "      <td>-1</td>\n",
       "      <td>1</td>\n",
       "      <td>1</td>\n",
       "      <td>-1</td>\n",
       "      <td>1</td>\n",
       "      <td>...</td>\n",
       "      <td>-1</td>\n",
       "      <td>-1</td>\n",
       "      <td>-1</td>\n",
       "      <td>-1</td>\n",
       "      <td>1</td>\n",
       "      <td>1</td>\n",
       "      <td>1</td>\n",
       "      <td>0</td>\n",
       "      <td>0</td>\n",
       "      <td>0</td>\n",
       "    </tr>\n",
       "    <tr>\n",
       "      <th>4</th>\n",
       "      <td>110359424339</td>\n",
       "      <td>9</td>\n",
       "      <td>2020</td>\n",
       "      <td>1</td>\n",
       "      <td>201</td>\n",
       "      <td>-1</td>\n",
       "      <td>1</td>\n",
       "      <td>1</td>\n",
       "      <td>-1</td>\n",
       "      <td>1</td>\n",
       "      <td>...</td>\n",
       "      <td>-1</td>\n",
       "      <td>-1</td>\n",
       "      <td>-1</td>\n",
       "      <td>-1</td>\n",
       "      <td>1</td>\n",
       "      <td>1</td>\n",
       "      <td>1</td>\n",
       "      <td>0</td>\n",
       "      <td>0</td>\n",
       "      <td>0</td>\n",
       "    </tr>\n",
       "  </tbody>\n",
       "</table>\n",
       "<p>5 rows × 387 columns</p>\n",
       "</div>"
      ],
      "text/plain": [
       "         HRHHID  HRMONTH  HRYEAR4  HURESPLI  HUFINAL  HETENURE  HEHOUSUT  \\\n",
       "0   71691004941        9     2020        -1      226        -1         1   \n",
       "1  110233098483        9     2020        -1      248        -1         1   \n",
       "2  110327856469        9     2020         1      201        -1         1   \n",
       "3  110359424339        9     2020         1      201        -1         1   \n",
       "4  110359424339        9     2020         1      201        -1         1   \n",
       "\n",
       "   HETELHHD  HETELAVL  HEPHONEO  ...  PEPDEMP1  PTNMEMP1  PEPDEMP2  PTNMEMP2  \\\n",
       "0        -1        -1         0  ...        -1        -1        -1        -1   \n",
       "1        -1        -1         0  ...        -1        -1        -1        -1   \n",
       "2         1        -1         1  ...        -1        -1        -1        -1   \n",
       "3         1        -1         1  ...        -1        -1        -1        -1   \n",
       "4         1        -1         1  ...        -1        -1        -1        -1   \n",
       "\n",
       "   PECERT1  PECERT2  PECERT3  PXCERT1  PXCERT2  PXCERT3  \n",
       "0       -1       -1       -1       -1       -1       -1  \n",
       "1       -1       -1       -1       -1       -1       -1  \n",
       "2        2       -1       -1       20        0        0  \n",
       "3        1        1        1        0        0        0  \n",
       "4        1        1        1        0        0        0  \n",
       "\n",
       "[5 rows x 387 columns]"
      ]
     },
     "execution_count": 3,
     "metadata": {},
     "output_type": "execute_result"
    }
   ],
   "source": [
    "df.head()"
   ]
  },
  {
   "cell_type": "code",
   "execution_count": 4,
   "metadata": {},
   "outputs": [
    {
     "name": "stdout",
     "output_type": "stream",
     "text": [
      "<class 'pandas.core.frame.DataFrame'>\n",
      "RangeIndex: 133448 entries, 0 to 133447\n",
      "Columns: 387 entries, HRHHID to PXCERT3\n",
      "dtypes: int64(387)\n",
      "memory usage: 394.0 MB\n"
     ]
    }
   ],
   "source": [
    "df.info()"
   ]
  },
  {
   "cell_type": "markdown",
   "metadata": {},
   "source": [
    "## Double-checking that each variable lines up with data dict"
   ]
  },
  {
   "cell_type": "markdown",
   "metadata": {},
   "source": [
    "PEHRRSN1\t\t2\t\tWHAT IS YOUR MAIN REASON FOR\t\t\t\t\t229 - 230\n",
    " \t\t\t\t\tWORKING PART-TIME?\n",
    "\n",
    "\t\t\t\t\tEDITED UNIVERSE:\tPEHRWANT = 1 (PEMLR = 1 AND PEHRUSLT < 35)                        \n",
    "\t\t\t\t\t\n",
    "\t\t\t\t\tVALID ENTRIES\n",
    "\n",
    "\t\t\t\t\t1      SLACK WORK/BUSINESS CONDITIONS\n",
    "\t\t\t\t\t2      COULD ONLY FIND PART-TIME WORK\n",
    "\t\t\t\t\t3      SEASONAL WORK\n",
    "\t\t\t\t\t4      CHILD CARE PROBLEMS\n",
    "\t\t\t\t\t5      OTHER FAMILY/PERSONAL OBLIGATIONS\n",
    "\t\t\t\t\t6      HEALTH/MEDICAL LIMITATIONS\n",
    "\t\t\t\t\t7      SCHOOL/TRAINING\n",
    "\t\t\t\t\t8      RETIRED/SOCIAL SECURITY LIMIT ON EARNINGS\n",
    "\t\t\t\t\t9      FULL-TIME WORKWEEK IS LESS THAN 35 HRS\n",
    "\t\t\t\t\t10    OTHER - SPECIFY"
   ]
  },
  {
   "cell_type": "code",
   "execution_count": 20,
   "metadata": {},
   "outputs": [
    {
     "data": {
      "text/plain": [
       "-1     67813\n",
       " 1       421\n",
       " 2       130\n",
       " 10      115\n",
       " 5        39\n",
       " 7        30\n",
       " 4        29\n",
       " 6        16\n",
       " 9         9\n",
       " 3         8\n",
       " 8         6\n",
       "Name: PEHRRSN1, dtype: int64"
      ]
     },
     "execution_count": 20,
     "metadata": {},
     "output_type": "execute_result"
    }
   ],
   "source": [
    "df[df.PERRP.isin([40,41,-1])].PEHRRSN1.value_counts()"
   ]
  },
  {
   "cell_type": "markdown",
   "metadata": {},
   "source": [
    "PEHRWANT\t\t2\t\tDO YOU WANT TO WORK A FULL-TIME \t\t\t\t227 - 228\n",
    "\t\t\t\t\tWORK WEEK OF 35 HOURS OR MORE PER WEEK?\n",
    "\n",
    "\t\t\t\t\tEDITED UNIVERSE:\tPEMLR = 1 AND (PEHRUSLT = 0-34\n",
    "\t\t\t\t\t\t\t\t\tPEHRFTPT = 2)\n",
    "\n",
    "\t\t\t\t\tVALID ENTRIES\n",
    "\n",
    "\t\t\t\t\t1      YES\n",
    "\t\t\t\t\t2      NO\n",
    "\t\t\t\t\t3      REGULAR HOURS ARE FULL-TIME"
   ]
  },
  {
   "cell_type": "code",
   "execution_count": 21,
   "metadata": {},
   "outputs": [
    {
     "data": {
      "text/plain": [
       "-1    65091\n",
       " 2     2123\n",
       " 1      803\n",
       " 3      599\n",
       "Name: PEHRWANT, dtype: int64"
      ]
     },
     "execution_count": 21,
     "metadata": {},
     "output_type": "execute_result"
    }
   ],
   "source": [
    "df[df.PERRP.isin([40,41,-1])].PEHRWANT.value_counts()"
   ]
  },
  {
   "cell_type": "markdown",
   "metadata": {},
   "source": [
    "GTMETSTA\t\t1\t\tMETROPOLITAN STATUS\t\t\t\t\t\t\t105 - 105\n",
    "\n",
    "EDITED UNIVERSE:\tALL HHLD's IN SAMPLE\n",
    "\n",
    "VALID ENTRIES\n",
    "\n",
    "1\tMETROPOLITAN\n",
    "2\tNONMETROPOLITAN\n",
    "3\tNOT IDENTIFIED"
   ]
  },
  {
   "cell_type": "code",
   "execution_count": 22,
   "metadata": {},
   "outputs": [
    {
     "data": {
      "text/plain": [
       "1    53556\n",
       "2    14322\n",
       "3      738\n",
       "Name: GTMETSTA, dtype: int64"
      ]
     },
     "execution_count": 22,
     "metadata": {},
     "output_type": "execute_result"
    }
   ],
   "source": [
    "df[df.PERRP.isin([40,41,-1])].GTMETSTA.value_counts()"
   ]
  },
  {
   "cell_type": "markdown",
   "metadata": {},
   "source": [
    "GTCBSA\t\t\t5\t\tSPECIFIC METROPOLITAN CBSA CODE \t\t\t\t96 - 100\n",
    "\t\t\t\t\t(SEE GEOGRAPHIC ATTACHMENT)\n",
    "\t\t\t\t\t\t\t\t\n",
    "\t\t\t\t\tEDITED UNIVERSE:\tALL HHLD's IN SAMPLE\n",
    "\n",
    "\t\t\t\t\tVALID ENTRIES\n",
    "\n",
    "\t\t\t\t\t00000\tNOT IDENTIFIED OR NONMETROPOLITAN\n",
    "\t\t\t\t\t10180\tMIN VALUE\n",
    "\t\t\t\t\t49740\tMAX VALUE\n"
   ]
  },
  {
   "cell_type": "code",
   "execution_count": 23,
   "metadata": {},
   "outputs": [
    {
     "data": {
      "text/plain": [
       "0        19203\n",
       "35620     2777\n",
       "47900     2269\n",
       "31080     1556\n",
       "16980     1300\n",
       "         ...  \n",
       "40980       27\n",
       "13980       24\n",
       "48140       24\n",
       "31420       23\n",
       "47220       16\n",
       "Name: GTCBSA, Length: 261, dtype: int64"
      ]
     },
     "execution_count": 23,
     "metadata": {},
     "output_type": "execute_result"
    }
   ],
   "source": [
    "df[df.PERRP.isin([40,41,-1])].GTCBSA.value_counts()"
   ]
  },
  {
   "cell_type": "markdown",
   "metadata": {},
   "source": [
    "GTCSA\t\t\t3\t\tConsolidated Statistical Area (CSA) FIPS CODE\t\t\t108-110\n",
    "\t\t\t\t\t(SEE GEOGRAPHIC ATTACHMENT) \n",
    "\n",
    "EDITED UNIVERSE:\tALL HHLD's IN SAMPLE\n",
    "\n",
    "VALID ENTRIES\n",
    "\n",
    "000\tNOT IDENTIFIED OR NONMETROPOLITAN\n",
    "104\tMIN VALUE\n",
    "548\tMAX VALUE"
   ]
  },
  {
   "cell_type": "code",
   "execution_count": 24,
   "metadata": {},
   "outputs": [
    {
     "data": {
      "text/plain": [
       "0      41204\n",
       "408     3304\n",
       "548     2877\n",
       "148     2458\n",
       "348     2195\n",
       "428     1535\n",
       "176     1300\n",
       "488     1104\n",
       "206     1056\n",
       "370      937\n",
       "122      875\n",
       "220      778\n",
       "482      684\n",
       "500      664\n",
       "106      632\n",
       "440      617\n",
       "216      507\n",
       "184      501\n",
       "422      487\n",
       "340      431\n",
       "170      347\n",
       "438      332\n",
       "278      281\n",
       "376      279\n",
       "450      271\n",
       "273      267\n",
       "268      265\n",
       "162      232\n",
       "380      227\n",
       "266      214\n",
       "238      203\n",
       "518      187\n",
       "104      183\n",
       "276      148\n",
       "357      134\n",
       "174      131\n",
       "304      124\n",
       "515      123\n",
       "194      111\n",
       "168      105\n",
       "310       95\n",
       "546       83\n",
       "118       59\n",
       "356       53\n",
       "378       16\n",
       "Name: GTCSA, dtype: int64"
      ]
     },
     "execution_count": 24,
     "metadata": {},
     "output_type": "execute_result"
    }
   ],
   "source": [
    "df[df.PERRP.isin([40,41,-1])].GTCSA.value_counts()"
   ]
  },
  {
   "cell_type": "markdown",
   "metadata": {},
   "source": [
    "PRDASIAN\t\t2\t\tDETAILED ASIAN RACE RECODE\t\t\t\t\t934 – 935\n",
    "\n",
    "\t\t\t\t\t\t\tEDITED UNIVERSE:  \tPTDTRACE = 4\n",
    "\n",
    "\t\t\t\t\t\t\tVALID ENTRIES\n",
    "\n",
    "\t\t\t\t\t\t\t1 = Asian Indian\n",
    "\t\t\t\t\t\t\t2 = Chinese\n",
    "\t\t\t\t\t\t\t3 = Filipino\n",
    "\t\t\t\t\t\t\t4 = Japanese\n",
    "\t\t\t\t\t\t\t5 = Korean\n",
    "\t\t\t\t\t\t\t6 = Vietnamese\n",
    "\t\t\t\t\t\t\t7 = Other"
   ]
  },
  {
   "cell_type": "code",
   "execution_count": 25,
   "metadata": {},
   "outputs": [
    {
     "data": {
      "text/plain": [
       "-1    66472\n",
       " 2      489\n",
       " 1      432\n",
       " 7      347\n",
       " 3      299\n",
       " 4      208\n",
       " 5      190\n",
       " 6      179\n",
       "Name: PRDASIAN, dtype: int64"
      ]
     },
     "execution_count": 25,
     "metadata": {},
     "output_type": "execute_result"
    }
   ],
   "source": [
    "df[df.PERRP.isin([40,41,-1])].PRDASIAN.value_counts()"
   ]
  },
  {
   "cell_type": "markdown",
   "metadata": {},
   "source": [
    "# Creating CSV"
   ]
  },
  {
   "cell_type": "code",
   "execution_count": 38,
   "metadata": {},
   "outputs": [],
   "source": [
    "df = pd.read_csv(dl.employed_adults_csv(csv_targetdir, data_targetdir, ['apr2020', 'jul2020']))"
   ]
  },
  {
   "cell_type": "code",
   "execution_count": 43,
   "metadata": {},
   "outputs": [
    {
     "data": {
      "text/plain": [
       "2    3983\n",
       "Name: PRPERTYP_x, dtype: int64"
      ]
     },
     "execution_count": 43,
     "metadata": {},
     "output_type": "execute_result"
    }
   ],
   "source": [
    "df.PRPERTYP_x.value_counts()"
   ]
  },
  {
   "cell_type": "code",
   "execution_count": 44,
   "metadata": {},
   "outputs": [
    {
     "data": {
      "text/plain": [
       "2    3983\n",
       "Name: PRPERTYP_y, dtype: int64"
      ]
     },
     "execution_count": 44,
     "metadata": {},
     "output_type": "execute_result"
    }
   ],
   "source": [
    "df.PRPERTYP_y.value_counts()"
   ]
  },
  {
   "cell_type": "code",
   "execution_count": 47,
   "metadata": {},
   "outputs": [
    {
     "data": {
      "text/plain": [
       "1    3983\n",
       "Name: PREMPNOT_x, dtype: int64"
      ]
     },
     "execution_count": 47,
     "metadata": {},
     "output_type": "execute_result"
    }
   ],
   "source": [
    "df.PREMPNOT_x.value_counts()"
   ]
  },
  {
   "cell_type": "code",
   "execution_count": 46,
   "metadata": {},
   "outputs": [
    {
     "data": {
      "text/plain": [
       "1    3695\n",
       "4     158\n",
       "2     127\n",
       "3       3\n",
       "Name: PREMPNOT_y, dtype: int64"
      ]
     },
     "execution_count": 46,
     "metadata": {},
     "output_type": "execute_result"
    }
   ],
   "source": [
    "df.PREMPNOT_y.value_counts()"
   ]
  },
  {
   "cell_type": "code",
   "execution_count": null,
   "metadata": {},
   "outputs": [],
   "source": []
  }
 ],
 "metadata": {
  "kernelspec": {
   "display_name": "learn-env",
   "language": "python",
   "name": "learn-env"
  },
  "language_info": {
   "codemirror_mode": {
    "name": "ipython",
    "version": 3
   },
   "file_extension": ".py",
   "mimetype": "text/x-python",
   "name": "python",
   "nbconvert_exporter": "python",
   "pygments_lexer": "ipython3",
   "version": "3.6.10"
  }
 },
 "nbformat": 4,
 "nbformat_minor": 4
}
