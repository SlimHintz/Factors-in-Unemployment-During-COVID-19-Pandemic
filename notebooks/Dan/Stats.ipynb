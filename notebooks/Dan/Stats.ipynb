{
 "cells": [
  {
   "cell_type": "markdown",
   "metadata": {},
   "source": [
    "# T-Tests"
   ]
  },
  {
   "cell_type": "code",
   "execution_count": 13,
   "metadata": {},
   "outputs": [
    {
     "name": "stdout",
     "output_type": "stream",
     "text": [
      "The autoreload extension is already loaded. To reload it, use:\n",
      "  %reload_ext autoreload\n"
     ]
    }
   ],
   "source": [
    "%load_ext autoreload\n",
    "%autoreload 2\n",
    "\n",
    "import os\n",
    "import sys\n",
    "import pandas as pd\n",
    "from scipy.stats import ttest_ind\n",
    "    \n",
    "\n",
    "\n",
    "df = pd.read_csv('../../src/csv/final_dataframe.csv')"
   ]
  },
  {
   "cell_type": "code",
   "execution_count": 2,
   "metadata": {},
   "outputs": [
    {
     "data": {
      "text/html": [
       "<div>\n",
       "<style scoped>\n",
       "    .dataframe tbody tr th:only-of-type {\n",
       "        vertical-align: middle;\n",
       "    }\n",
       "\n",
       "    .dataframe tbody tr th {\n",
       "        vertical-align: top;\n",
       "    }\n",
       "\n",
       "    .dataframe thead th {\n",
       "        text-align: right;\n",
       "    }\n",
       "</style>\n",
       "<table border=\"1\" class=\"dataframe\">\n",
       "  <thead>\n",
       "    <tr style=\"text-align: right;\">\n",
       "      <th></th>\n",
       "      <th>HEHOUSUT</th>\n",
       "      <th>HWHHWGT</th>\n",
       "      <th>GTMETSTA</th>\n",
       "      <th>HEFAMINC</th>\n",
       "      <th>HRNUMHOU</th>\n",
       "      <th>HRHTYPE</th>\n",
       "      <th>PRTAGE</th>\n",
       "      <th>PEMARITL</th>\n",
       "      <th>PENATVTY</th>\n",
       "      <th>PRINUSYR</th>\n",
       "      <th>...</th>\n",
       "      <th>PEEDUCA_45</th>\n",
       "      <th>PEEDUCA_46</th>\n",
       "      <th>PTDTRACE_1</th>\n",
       "      <th>PTDTRACE_3</th>\n",
       "      <th>PEHSPNON_2</th>\n",
       "      <th>population</th>\n",
       "      <th>case_delta</th>\n",
       "      <th>party</th>\n",
       "      <th>percent_red</th>\n",
       "      <th>pop_density</th>\n",
       "    </tr>\n",
       "  </thead>\n",
       "  <tbody>\n",
       "    <tr>\n",
       "      <th>0</th>\n",
       "      <td>1</td>\n",
       "      <td>40182430</td>\n",
       "      <td>1</td>\n",
       "      <td>16</td>\n",
       "      <td>3</td>\n",
       "      <td>1</td>\n",
       "      <td>31</td>\n",
       "      <td>1</td>\n",
       "      <td>1</td>\n",
       "      <td>0</td>\n",
       "      <td>...</td>\n",
       "      <td>0</td>\n",
       "      <td>0</td>\n",
       "      <td>0</td>\n",
       "      <td>0</td>\n",
       "      <td>1</td>\n",
       "      <td>4903185.0</td>\n",
       "      <td>57709.606452</td>\n",
       "      <td>1.0</td>\n",
       "      <td>62.087493</td>\n",
       "      <td>95.0</td>\n",
       "    </tr>\n",
       "    <tr>\n",
       "      <th>1</th>\n",
       "      <td>1</td>\n",
       "      <td>26376142</td>\n",
       "      <td>1</td>\n",
       "      <td>15</td>\n",
       "      <td>3</td>\n",
       "      <td>1</td>\n",
       "      <td>53</td>\n",
       "      <td>1</td>\n",
       "      <td>1</td>\n",
       "      <td>0</td>\n",
       "      <td>...</td>\n",
       "      <td>0</td>\n",
       "      <td>0</td>\n",
       "      <td>0</td>\n",
       "      <td>0</td>\n",
       "      <td>1</td>\n",
       "      <td>4903185.0</td>\n",
       "      <td>57709.606452</td>\n",
       "      <td>1.0</td>\n",
       "      <td>62.087493</td>\n",
       "      <td>95.0</td>\n",
       "    </tr>\n",
       "    <tr>\n",
       "      <th>2</th>\n",
       "      <td>1</td>\n",
       "      <td>37961372</td>\n",
       "      <td>1</td>\n",
       "      <td>13</td>\n",
       "      <td>3</td>\n",
       "      <td>1</td>\n",
       "      <td>53</td>\n",
       "      <td>1</td>\n",
       "      <td>1</td>\n",
       "      <td>0</td>\n",
       "      <td>...</td>\n",
       "      <td>0</td>\n",
       "      <td>0</td>\n",
       "      <td>0</td>\n",
       "      <td>0</td>\n",
       "      <td>1</td>\n",
       "      <td>4903185.0</td>\n",
       "      <td>57709.606452</td>\n",
       "      <td>1.0</td>\n",
       "      <td>62.087493</td>\n",
       "      <td>95.0</td>\n",
       "    </tr>\n",
       "    <tr>\n",
       "      <th>3</th>\n",
       "      <td>1</td>\n",
       "      <td>38997054</td>\n",
       "      <td>1</td>\n",
       "      <td>15</td>\n",
       "      <td>4</td>\n",
       "      <td>1</td>\n",
       "      <td>35</td>\n",
       "      <td>1</td>\n",
       "      <td>1</td>\n",
       "      <td>0</td>\n",
       "      <td>...</td>\n",
       "      <td>0</td>\n",
       "      <td>0</td>\n",
       "      <td>0</td>\n",
       "      <td>0</td>\n",
       "      <td>1</td>\n",
       "      <td>4903185.0</td>\n",
       "      <td>57709.606452</td>\n",
       "      <td>1.0</td>\n",
       "      <td>62.087493</td>\n",
       "      <td>95.0</td>\n",
       "    </tr>\n",
       "    <tr>\n",
       "      <th>4</th>\n",
       "      <td>1</td>\n",
       "      <td>42003612</td>\n",
       "      <td>1</td>\n",
       "      <td>11</td>\n",
       "      <td>8</td>\n",
       "      <td>3</td>\n",
       "      <td>40</td>\n",
       "      <td>0</td>\n",
       "      <td>1</td>\n",
       "      <td>0</td>\n",
       "      <td>...</td>\n",
       "      <td>0</td>\n",
       "      <td>0</td>\n",
       "      <td>1</td>\n",
       "      <td>0</td>\n",
       "      <td>1</td>\n",
       "      <td>4903185.0</td>\n",
       "      <td>57709.606452</td>\n",
       "      <td>1.0</td>\n",
       "      <td>62.087493</td>\n",
       "      <td>95.0</td>\n",
       "    </tr>\n",
       "  </tbody>\n",
       "</table>\n",
       "<p>5 rows × 69 columns</p>\n",
       "</div>"
      ],
      "text/plain": [
       "   HEHOUSUT   HWHHWGT  GTMETSTA  HEFAMINC  HRNUMHOU  HRHTYPE  PRTAGE  \\\n",
       "0         1  40182430         1        16         3        1      31   \n",
       "1         1  26376142         1        15         3        1      53   \n",
       "2         1  37961372         1        13         3        1      53   \n",
       "3         1  38997054         1        15         4        1      35   \n",
       "4         1  42003612         1        11         8        3      40   \n",
       "\n",
       "   PEMARITL  PENATVTY  PRINUSYR  ...  PEEDUCA_45  PEEDUCA_46  PTDTRACE_1  \\\n",
       "0         1         1         0  ...           0           0           0   \n",
       "1         1         1         0  ...           0           0           0   \n",
       "2         1         1         0  ...           0           0           0   \n",
       "3         1         1         0  ...           0           0           0   \n",
       "4         0         1         0  ...           0           0           1   \n",
       "\n",
       "   PTDTRACE_3  PEHSPNON_2  population    case_delta  party  percent_red  \\\n",
       "0           0           1   4903185.0  57709.606452    1.0    62.087493   \n",
       "1           0           1   4903185.0  57709.606452    1.0    62.087493   \n",
       "2           0           1   4903185.0  57709.606452    1.0    62.087493   \n",
       "3           0           1   4903185.0  57709.606452    1.0    62.087493   \n",
       "4           0           1   4903185.0  57709.606452    1.0    62.087493   \n",
       "\n",
       "   pop_density  \n",
       "0         95.0  \n",
       "1         95.0  \n",
       "2         95.0  \n",
       "3         95.0  \n",
       "4         95.0  \n",
       "\n",
       "[5 rows x 69 columns]"
      ]
     },
     "execution_count": 2,
     "metadata": {},
     "output_type": "execute_result"
    }
   ],
   "source": [
    "df.head()"
   ]
  },
  {
   "cell_type": "code",
   "execution_count": 11,
   "metadata": {},
   "outputs": [
    {
     "name": "stdout",
     "output_type": "stream",
     "text": [
      "(3622, 1)\n"
     ]
    },
    {
     "data": {
      "text/plain": [
       "(281, 1)"
      ]
     },
     "execution_count": 11,
     "metadata": {},
     "output_type": "execute_result"
    }
   ],
   "source": [
    "employed_hrs = df[df.target == 0][['PEHRACTT']]\n",
    "unemployed_hrs = df[df.target == 1][['PEHRACTT']]\n",
    "print(employed_hrs.shape)\n",
    "unemployed_hrs.shape\n",
    "\n"
   ]
  },
  {
   "cell_type": "code",
   "execution_count": 14,
   "metadata": {},
   "outputs": [
    {
     "data": {
      "text/plain": [
       "Ttest_indResult(statistic=array([10.52185702]), pvalue=array([2.42541487e-22]))"
      ]
     },
     "execution_count": 14,
     "metadata": {},
     "output_type": "execute_result"
    }
   ],
   "source": [
    "ttest_ind(employed_hrs, unemployed_hrs, equal_var=False)"
   ]
  },
  {
   "cell_type": "code",
   "execution_count": null,
   "metadata": {},
   "outputs": [],
   "source": []
  }
 ],
 "metadata": {
  "kernelspec": {
   "display_name": "learn-env",
   "language": "python",
   "name": "learn-env"
  },
  "language_info": {
   "codemirror_mode": {
    "name": "ipython",
    "version": 3
   },
   "file_extension": ".py",
   "mimetype": "text/x-python",
   "name": "python",
   "nbconvert_exporter": "python",
   "pygments_lexer": "ipython3",
   "version": "3.6.10"
  }
 },
 "nbformat": 4,
 "nbformat_minor": 4
}
