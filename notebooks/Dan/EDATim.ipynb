{
 "cells": [
  {
   "cell_type": "code",
   "execution_count": 1,
   "metadata": {},
   "outputs": [],
   "source": [
    "%load_ext autoreload\n",
    "%autoreload 2\n",
    "\n",
    "import os\n",
    "import sys\n",
    "\n",
    "module_path = os.path.abspath(os.path.join(os.pardir, os.pardir, 'src'))\n",
    "if module_path not in sys.path:\n",
    "    sys.path.append(module_path)\n",
    "    \n",
    "from modules import dataloading as dl\n",
    "from modules import cleaning as c\n",
    "import pandas as pd\n",
    "targetdir = '../../src/data/'\n",
    "\n",
    "\n",
    "\n",
    "# utility/data wrangling\n",
    "import pandas as pd\n",
    "import numpy as np\n",
    "from warnings import filterwarnings\n",
    "\n",
    "# chart creations\n",
    "import matplotlib.pyplot as plt\n",
    "import seaborn as sns\n",
    "\n",
    "# pre processing\n",
    "from sklearn.preprocessing import minmax_scale\n",
    "from sklearn.preprocessing import PolynomialFeatures\n",
    "from sklearn.preprocessing import StandardScaler\n",
    "from imblearn.under_sampling import TomekLinks # down sampling\n",
    "from imblearn.over_sampling import SMOTE # up sampling\n",
    "\n",
    "\n",
    "# model selection\n",
    "from sklearn.model_selection import train_test_split, cross_val_score\n",
    "from sklearn.model_selection import GridSearchCV\n",
    "\n",
    "# Models\n",
    "from sklearn.linear_model import LogisticRegression\n",
    "from sklearn.neighbors import  KNeighborsClassifier\n",
    "from sklearn.ensemble import RandomForestClassifier\n",
    "from sklearn.tree import DecisionTreeClassifier\n",
    "\n",
    "\n",
    "# Model Validation \n",
    "from sklearn.metrics import f1_score, accuracy_score, recall_score, roc_auc_score, roc_curve\n",
    "from sklearn.metrics import classification_report\n",
    "from sklearn.metrics import confusion_matrix\n",
    "\n",
    "# statistical testing\n",
    "from scipy.stats import f_oneway\n",
    "from scipy import stats"
   ]
  },
  {
   "cell_type": "code",
   "execution_count": 2,
   "metadata": {},
   "outputs": [],
   "source": [
    "pop_density = pd.read_html('https://simple.wikipedia.org/wiki/List_of_U.S._states_by_population_density')[1]\n",
    "to_drop = [\n",
    "'Geographic region',\n",
    "'Population/sqkm',\n",
    "'Rank'\n",
    "]\n",
    "pop_density.drop(columns=to_drop, inplace=True)"
   ]
  },
  {
   "cell_type": "code",
   "execution_count": 3,
   "metadata": {},
   "outputs": [],
   "source": [
    "# Import data\n",
    "adults_directory = '../../src/csv/employed_adults_apr2020_jul2020.csv'\n",
    "col_pol_directory = '../../src/csv/pol_covid.csv'"
   ]
  },
  {
   "cell_type": "code",
   "execution_count": 4,
   "metadata": {},
   "outputs": [
    {
     "data": {
      "text/html": [
       "<div>\n",
       "<style scoped>\n",
       "    .dataframe tbody tr th:only-of-type {\n",
       "        vertical-align: middle;\n",
       "    }\n",
       "\n",
       "    .dataframe tbody tr th {\n",
       "        vertical-align: top;\n",
       "    }\n",
       "\n",
       "    .dataframe thead th {\n",
       "        text-align: right;\n",
       "    }\n",
       "</style>\n",
       "<table border=\"1\" class=\"dataframe\">\n",
       "  <thead>\n",
       "    <tr style=\"text-align: right;\">\n",
       "      <th></th>\n",
       "      <th>HEHOUSUT</th>\n",
       "      <th>HWHHWGT</th>\n",
       "      <th>GESTFIPS</th>\n",
       "      <th>GTMETSTA</th>\n",
       "      <th>HEFAMINC</th>\n",
       "      <th>HRNUMHOU</th>\n",
       "      <th>HRHTYPE</th>\n",
       "      <th>PRTAGE</th>\n",
       "      <th>PEMARITL</th>\n",
       "      <th>PENATVTY</th>\n",
       "      <th>...</th>\n",
       "      <th>PEEDUCA_46</th>\n",
       "      <th>PTDTRACE_1</th>\n",
       "      <th>PTDTRACE_3</th>\n",
       "      <th>PEHSPNON_2</th>\n",
       "      <th>state</th>\n",
       "      <th>month</th>\n",
       "      <th>population</th>\n",
       "      <th>case_delta</th>\n",
       "      <th>party</th>\n",
       "      <th>percent_red</th>\n",
       "    </tr>\n",
       "  </thead>\n",
       "  <tbody>\n",
       "    <tr>\n",
       "      <th>0</th>\n",
       "      <td>1</td>\n",
       "      <td>40182430</td>\n",
       "      <td>1</td>\n",
       "      <td>1</td>\n",
       "      <td>16</td>\n",
       "      <td>3</td>\n",
       "      <td>1</td>\n",
       "      <td>31</td>\n",
       "      <td>1</td>\n",
       "      <td>1</td>\n",
       "      <td>...</td>\n",
       "      <td>0</td>\n",
       "      <td>0</td>\n",
       "      <td>0</td>\n",
       "      <td>1</td>\n",
       "      <td>Alabama</td>\n",
       "      <td>3.0</td>\n",
       "      <td>4903185.0</td>\n",
       "      <td>57709.606452</td>\n",
       "      <td>1.0</td>\n",
       "      <td>62.087493</td>\n",
       "    </tr>\n",
       "    <tr>\n",
       "      <th>1</th>\n",
       "      <td>1</td>\n",
       "      <td>26376142</td>\n",
       "      <td>1</td>\n",
       "      <td>1</td>\n",
       "      <td>15</td>\n",
       "      <td>3</td>\n",
       "      <td>1</td>\n",
       "      <td>53</td>\n",
       "      <td>1</td>\n",
       "      <td>1</td>\n",
       "      <td>...</td>\n",
       "      <td>0</td>\n",
       "      <td>0</td>\n",
       "      <td>0</td>\n",
       "      <td>1</td>\n",
       "      <td>Alabama</td>\n",
       "      <td>3.0</td>\n",
       "      <td>4903185.0</td>\n",
       "      <td>57709.606452</td>\n",
       "      <td>1.0</td>\n",
       "      <td>62.087493</td>\n",
       "    </tr>\n",
       "    <tr>\n",
       "      <th>2</th>\n",
       "      <td>1</td>\n",
       "      <td>37961372</td>\n",
       "      <td>1</td>\n",
       "      <td>1</td>\n",
       "      <td>13</td>\n",
       "      <td>3</td>\n",
       "      <td>1</td>\n",
       "      <td>53</td>\n",
       "      <td>1</td>\n",
       "      <td>1</td>\n",
       "      <td>...</td>\n",
       "      <td>0</td>\n",
       "      <td>0</td>\n",
       "      <td>0</td>\n",
       "      <td>1</td>\n",
       "      <td>Alabama</td>\n",
       "      <td>3.0</td>\n",
       "      <td>4903185.0</td>\n",
       "      <td>57709.606452</td>\n",
       "      <td>1.0</td>\n",
       "      <td>62.087493</td>\n",
       "    </tr>\n",
       "    <tr>\n",
       "      <th>3</th>\n",
       "      <td>1</td>\n",
       "      <td>38997054</td>\n",
       "      <td>1</td>\n",
       "      <td>1</td>\n",
       "      <td>15</td>\n",
       "      <td>4</td>\n",
       "      <td>1</td>\n",
       "      <td>35</td>\n",
       "      <td>1</td>\n",
       "      <td>1</td>\n",
       "      <td>...</td>\n",
       "      <td>0</td>\n",
       "      <td>0</td>\n",
       "      <td>0</td>\n",
       "      <td>1</td>\n",
       "      <td>Alabama</td>\n",
       "      <td>3.0</td>\n",
       "      <td>4903185.0</td>\n",
       "      <td>57709.606452</td>\n",
       "      <td>1.0</td>\n",
       "      <td>62.087493</td>\n",
       "    </tr>\n",
       "    <tr>\n",
       "      <th>4</th>\n",
       "      <td>1</td>\n",
       "      <td>42003612</td>\n",
       "      <td>1</td>\n",
       "      <td>1</td>\n",
       "      <td>11</td>\n",
       "      <td>8</td>\n",
       "      <td>3</td>\n",
       "      <td>40</td>\n",
       "      <td>0</td>\n",
       "      <td>1</td>\n",
       "      <td>...</td>\n",
       "      <td>0</td>\n",
       "      <td>1</td>\n",
       "      <td>0</td>\n",
       "      <td>1</td>\n",
       "      <td>Alabama</td>\n",
       "      <td>3.0</td>\n",
       "      <td>4903185.0</td>\n",
       "      <td>57709.606452</td>\n",
       "      <td>1.0</td>\n",
       "      <td>62.087493</td>\n",
       "    </tr>\n",
       "    <tr>\n",
       "      <th>...</th>\n",
       "      <td>...</td>\n",
       "      <td>...</td>\n",
       "      <td>...</td>\n",
       "      <td>...</td>\n",
       "      <td>...</td>\n",
       "      <td>...</td>\n",
       "      <td>...</td>\n",
       "      <td>...</td>\n",
       "      <td>...</td>\n",
       "      <td>...</td>\n",
       "      <td>...</td>\n",
       "      <td>...</td>\n",
       "      <td>...</td>\n",
       "      <td>...</td>\n",
       "      <td>...</td>\n",
       "      <td>...</td>\n",
       "      <td>...</td>\n",
       "      <td>...</td>\n",
       "      <td>...</td>\n",
       "      <td>...</td>\n",
       "      <td>...</td>\n",
       "    </tr>\n",
       "    <tr>\n",
       "      <th>3978</th>\n",
       "      <td>1</td>\n",
       "      <td>2614682</td>\n",
       "      <td>56</td>\n",
       "      <td>1</td>\n",
       "      <td>4</td>\n",
       "      <td>2</td>\n",
       "      <td>6</td>\n",
       "      <td>80</td>\n",
       "      <td>0</td>\n",
       "      <td>1</td>\n",
       "      <td>...</td>\n",
       "      <td>0</td>\n",
       "      <td>0</td>\n",
       "      <td>0</td>\n",
       "      <td>1</td>\n",
       "      <td>Wyoming</td>\n",
       "      <td>3.0</td>\n",
       "      <td>578759.0</td>\n",
       "      <td>1697.637634</td>\n",
       "      <td>1.0</td>\n",
       "      <td>69.958196</td>\n",
       "    </tr>\n",
       "    <tr>\n",
       "      <th>3979</th>\n",
       "      <td>1</td>\n",
       "      <td>3735059</td>\n",
       "      <td>56</td>\n",
       "      <td>1</td>\n",
       "      <td>6</td>\n",
       "      <td>1</td>\n",
       "      <td>6</td>\n",
       "      <td>55</td>\n",
       "      <td>0</td>\n",
       "      <td>1</td>\n",
       "      <td>...</td>\n",
       "      <td>0</td>\n",
       "      <td>0</td>\n",
       "      <td>0</td>\n",
       "      <td>1</td>\n",
       "      <td>Wyoming</td>\n",
       "      <td>3.0</td>\n",
       "      <td>578759.0</td>\n",
       "      <td>1697.637634</td>\n",
       "      <td>1.0</td>\n",
       "      <td>69.958196</td>\n",
       "    </tr>\n",
       "    <tr>\n",
       "      <th>3980</th>\n",
       "      <td>1</td>\n",
       "      <td>2859174</td>\n",
       "      <td>56</td>\n",
       "      <td>1</td>\n",
       "      <td>8</td>\n",
       "      <td>1</td>\n",
       "      <td>6</td>\n",
       "      <td>80</td>\n",
       "      <td>0</td>\n",
       "      <td>1</td>\n",
       "      <td>...</td>\n",
       "      <td>0</td>\n",
       "      <td>0</td>\n",
       "      <td>0</td>\n",
       "      <td>1</td>\n",
       "      <td>Wyoming</td>\n",
       "      <td>3.0</td>\n",
       "      <td>578759.0</td>\n",
       "      <td>1697.637634</td>\n",
       "      <td>1.0</td>\n",
       "      <td>69.958196</td>\n",
       "    </tr>\n",
       "    <tr>\n",
       "      <th>3981</th>\n",
       "      <td>1</td>\n",
       "      <td>4115505</td>\n",
       "      <td>56</td>\n",
       "      <td>1</td>\n",
       "      <td>10</td>\n",
       "      <td>7</td>\n",
       "      <td>1</td>\n",
       "      <td>35</td>\n",
       "      <td>1</td>\n",
       "      <td>1</td>\n",
       "      <td>...</td>\n",
       "      <td>0</td>\n",
       "      <td>0</td>\n",
       "      <td>0</td>\n",
       "      <td>1</td>\n",
       "      <td>Wyoming</td>\n",
       "      <td>3.0</td>\n",
       "      <td>578759.0</td>\n",
       "      <td>1697.637634</td>\n",
       "      <td>1.0</td>\n",
       "      <td>69.958196</td>\n",
       "    </tr>\n",
       "    <tr>\n",
       "      <th>3982</th>\n",
       "      <td>1</td>\n",
       "      <td>5198489</td>\n",
       "      <td>56</td>\n",
       "      <td>1</td>\n",
       "      <td>13</td>\n",
       "      <td>1</td>\n",
       "      <td>6</td>\n",
       "      <td>42</td>\n",
       "      <td>0</td>\n",
       "      <td>1</td>\n",
       "      <td>...</td>\n",
       "      <td>0</td>\n",
       "      <td>0</td>\n",
       "      <td>0</td>\n",
       "      <td>1</td>\n",
       "      <td>Wyoming</td>\n",
       "      <td>3.0</td>\n",
       "      <td>578759.0</td>\n",
       "      <td>1697.637634</td>\n",
       "      <td>1.0</td>\n",
       "      <td>69.958196</td>\n",
       "    </tr>\n",
       "  </tbody>\n",
       "</table>\n",
       "<p>3983 rows × 73 columns</p>\n",
       "</div>"
      ],
      "text/plain": [
       "      HEHOUSUT   HWHHWGT  GESTFIPS  GTMETSTA  HEFAMINC  HRNUMHOU  HRHTYPE  \\\n",
       "0            1  40182430         1         1        16         3        1   \n",
       "1            1  26376142         1         1        15         3        1   \n",
       "2            1  37961372         1         1        13         3        1   \n",
       "3            1  38997054         1         1        15         4        1   \n",
       "4            1  42003612         1         1        11         8        3   \n",
       "...        ...       ...       ...       ...       ...       ...      ...   \n",
       "3978         1   2614682        56         1         4         2        6   \n",
       "3979         1   3735059        56         1         6         1        6   \n",
       "3980         1   2859174        56         1         8         1        6   \n",
       "3981         1   4115505        56         1        10         7        1   \n",
       "3982         1   5198489        56         1        13         1        6   \n",
       "\n",
       "      PRTAGE  PEMARITL  PENATVTY  ...  PEEDUCA_46  PTDTRACE_1  PTDTRACE_3  \\\n",
       "0         31         1         1  ...           0           0           0   \n",
       "1         53         1         1  ...           0           0           0   \n",
       "2         53         1         1  ...           0           0           0   \n",
       "3         35         1         1  ...           0           0           0   \n",
       "4         40         0         1  ...           0           1           0   \n",
       "...      ...       ...       ...  ...         ...         ...         ...   \n",
       "3978      80         0         1  ...           0           0           0   \n",
       "3979      55         0         1  ...           0           0           0   \n",
       "3980      80         0         1  ...           0           0           0   \n",
       "3981      35         1         1  ...           0           0           0   \n",
       "3982      42         0         1  ...           0           0           0   \n",
       "\n",
       "      PEHSPNON_2    state  month  population    case_delta  party  percent_red  \n",
       "0              1  Alabama    3.0   4903185.0  57709.606452    1.0    62.087493  \n",
       "1              1  Alabama    3.0   4903185.0  57709.606452    1.0    62.087493  \n",
       "2              1  Alabama    3.0   4903185.0  57709.606452    1.0    62.087493  \n",
       "3              1  Alabama    3.0   4903185.0  57709.606452    1.0    62.087493  \n",
       "4              1  Alabama    3.0   4903185.0  57709.606452    1.0    62.087493  \n",
       "...          ...      ...    ...         ...           ...    ...          ...  \n",
       "3978           1  Wyoming    3.0    578759.0   1697.637634    1.0    69.958196  \n",
       "3979           1  Wyoming    3.0    578759.0   1697.637634    1.0    69.958196  \n",
       "3980           1  Wyoming    3.0    578759.0   1697.637634    1.0    69.958196  \n",
       "3981           1  Wyoming    3.0    578759.0   1697.637634    1.0    69.958196  \n",
       "3982           1  Wyoming    3.0    578759.0   1697.637634    1.0    69.958196  \n",
       "\n",
       "[3983 rows x 73 columns]"
      ]
     },
     "execution_count": 4,
     "metadata": {},
     "output_type": "execute_result"
    }
   ],
   "source": [
    "df = c.catch_up(adults_directory, col_pol_directory)\n",
    "df.target.value_counts()\n",
    "df"
   ]
  },
  {
   "cell_type": "code",
   "execution_count": 5,
   "metadata": {},
   "outputs": [],
   "source": [
    "pop_density.columns = ['state', 'pop_density']\n",
    "pop_density.pop_density = pop_density.pop_density.astype(int)\n",
    "df = df.merge(pop_density, on='state', how='left')"
   ]
  },
  {
   "cell_type": "markdown",
   "metadata": {},
   "source": [
    "# Null values for anyone in DC"
   ]
  },
  {
   "cell_type": "code",
   "execution_count": 6,
   "metadata": {},
   "outputs": [
    {
     "data": {
      "text/html": [
       "<div>\n",
       "<style scoped>\n",
       "    .dataframe tbody tr th:only-of-type {\n",
       "        vertical-align: middle;\n",
       "    }\n",
       "\n",
       "    .dataframe tbody tr th {\n",
       "        vertical-align: top;\n",
       "    }\n",
       "\n",
       "    .dataframe thead th {\n",
       "        text-align: right;\n",
       "    }\n",
       "</style>\n",
       "<table border=\"1\" class=\"dataframe\">\n",
       "  <thead>\n",
       "    <tr style=\"text-align: right;\">\n",
       "      <th></th>\n",
       "      <th>HEHOUSUT</th>\n",
       "      <th>HWHHWGT</th>\n",
       "      <th>GESTFIPS</th>\n",
       "      <th>GTMETSTA</th>\n",
       "      <th>HEFAMINC</th>\n",
       "      <th>HRNUMHOU</th>\n",
       "      <th>HRHTYPE</th>\n",
       "      <th>PRTAGE</th>\n",
       "      <th>PEMARITL</th>\n",
       "      <th>PENATVTY</th>\n",
       "      <th>...</th>\n",
       "      <th>PTDTRACE_1</th>\n",
       "      <th>PTDTRACE_3</th>\n",
       "      <th>PEHSPNON_2</th>\n",
       "      <th>state</th>\n",
       "      <th>month</th>\n",
       "      <th>population</th>\n",
       "      <th>case_delta</th>\n",
       "      <th>party</th>\n",
       "      <th>percent_red</th>\n",
       "      <th>pop_density</th>\n",
       "    </tr>\n",
       "  </thead>\n",
       "  <tbody>\n",
       "    <tr>\n",
       "      <th>0</th>\n",
       "      <td>1</td>\n",
       "      <td>40182430</td>\n",
       "      <td>1</td>\n",
       "      <td>1</td>\n",
       "      <td>16</td>\n",
       "      <td>3</td>\n",
       "      <td>1</td>\n",
       "      <td>31</td>\n",
       "      <td>1</td>\n",
       "      <td>1</td>\n",
       "      <td>...</td>\n",
       "      <td>0</td>\n",
       "      <td>0</td>\n",
       "      <td>1</td>\n",
       "      <td>Alabama</td>\n",
       "      <td>3.0</td>\n",
       "      <td>4903185.0</td>\n",
       "      <td>57709.606452</td>\n",
       "      <td>1.0</td>\n",
       "      <td>62.087493</td>\n",
       "      <td>95.0</td>\n",
       "    </tr>\n",
       "    <tr>\n",
       "      <th>1</th>\n",
       "      <td>1</td>\n",
       "      <td>26376142</td>\n",
       "      <td>1</td>\n",
       "      <td>1</td>\n",
       "      <td>15</td>\n",
       "      <td>3</td>\n",
       "      <td>1</td>\n",
       "      <td>53</td>\n",
       "      <td>1</td>\n",
       "      <td>1</td>\n",
       "      <td>...</td>\n",
       "      <td>0</td>\n",
       "      <td>0</td>\n",
       "      <td>1</td>\n",
       "      <td>Alabama</td>\n",
       "      <td>3.0</td>\n",
       "      <td>4903185.0</td>\n",
       "      <td>57709.606452</td>\n",
       "      <td>1.0</td>\n",
       "      <td>62.087493</td>\n",
       "      <td>95.0</td>\n",
       "    </tr>\n",
       "    <tr>\n",
       "      <th>2</th>\n",
       "      <td>1</td>\n",
       "      <td>37961372</td>\n",
       "      <td>1</td>\n",
       "      <td>1</td>\n",
       "      <td>13</td>\n",
       "      <td>3</td>\n",
       "      <td>1</td>\n",
       "      <td>53</td>\n",
       "      <td>1</td>\n",
       "      <td>1</td>\n",
       "      <td>...</td>\n",
       "      <td>0</td>\n",
       "      <td>0</td>\n",
       "      <td>1</td>\n",
       "      <td>Alabama</td>\n",
       "      <td>3.0</td>\n",
       "      <td>4903185.0</td>\n",
       "      <td>57709.606452</td>\n",
       "      <td>1.0</td>\n",
       "      <td>62.087493</td>\n",
       "      <td>95.0</td>\n",
       "    </tr>\n",
       "    <tr>\n",
       "      <th>3</th>\n",
       "      <td>1</td>\n",
       "      <td>38997054</td>\n",
       "      <td>1</td>\n",
       "      <td>1</td>\n",
       "      <td>15</td>\n",
       "      <td>4</td>\n",
       "      <td>1</td>\n",
       "      <td>35</td>\n",
       "      <td>1</td>\n",
       "      <td>1</td>\n",
       "      <td>...</td>\n",
       "      <td>0</td>\n",
       "      <td>0</td>\n",
       "      <td>1</td>\n",
       "      <td>Alabama</td>\n",
       "      <td>3.0</td>\n",
       "      <td>4903185.0</td>\n",
       "      <td>57709.606452</td>\n",
       "      <td>1.0</td>\n",
       "      <td>62.087493</td>\n",
       "      <td>95.0</td>\n",
       "    </tr>\n",
       "    <tr>\n",
       "      <th>4</th>\n",
       "      <td>1</td>\n",
       "      <td>42003612</td>\n",
       "      <td>1</td>\n",
       "      <td>1</td>\n",
       "      <td>11</td>\n",
       "      <td>8</td>\n",
       "      <td>3</td>\n",
       "      <td>40</td>\n",
       "      <td>0</td>\n",
       "      <td>1</td>\n",
       "      <td>...</td>\n",
       "      <td>1</td>\n",
       "      <td>0</td>\n",
       "      <td>1</td>\n",
       "      <td>Alabama</td>\n",
       "      <td>3.0</td>\n",
       "      <td>4903185.0</td>\n",
       "      <td>57709.606452</td>\n",
       "      <td>1.0</td>\n",
       "      <td>62.087493</td>\n",
       "      <td>95.0</td>\n",
       "    </tr>\n",
       "    <tr>\n",
       "      <th>...</th>\n",
       "      <td>...</td>\n",
       "      <td>...</td>\n",
       "      <td>...</td>\n",
       "      <td>...</td>\n",
       "      <td>...</td>\n",
       "      <td>...</td>\n",
       "      <td>...</td>\n",
       "      <td>...</td>\n",
       "      <td>...</td>\n",
       "      <td>...</td>\n",
       "      <td>...</td>\n",
       "      <td>...</td>\n",
       "      <td>...</td>\n",
       "      <td>...</td>\n",
       "      <td>...</td>\n",
       "      <td>...</td>\n",
       "      <td>...</td>\n",
       "      <td>...</td>\n",
       "      <td>...</td>\n",
       "      <td>...</td>\n",
       "      <td>...</td>\n",
       "    </tr>\n",
       "    <tr>\n",
       "      <th>3978</th>\n",
       "      <td>1</td>\n",
       "      <td>2614682</td>\n",
       "      <td>56</td>\n",
       "      <td>1</td>\n",
       "      <td>4</td>\n",
       "      <td>2</td>\n",
       "      <td>6</td>\n",
       "      <td>80</td>\n",
       "      <td>0</td>\n",
       "      <td>1</td>\n",
       "      <td>...</td>\n",
       "      <td>0</td>\n",
       "      <td>0</td>\n",
       "      <td>1</td>\n",
       "      <td>Wyoming</td>\n",
       "      <td>3.0</td>\n",
       "      <td>578759.0</td>\n",
       "      <td>1697.637634</td>\n",
       "      <td>1.0</td>\n",
       "      <td>69.958196</td>\n",
       "      <td>6.0</td>\n",
       "    </tr>\n",
       "    <tr>\n",
       "      <th>3979</th>\n",
       "      <td>1</td>\n",
       "      <td>3735059</td>\n",
       "      <td>56</td>\n",
       "      <td>1</td>\n",
       "      <td>6</td>\n",
       "      <td>1</td>\n",
       "      <td>6</td>\n",
       "      <td>55</td>\n",
       "      <td>0</td>\n",
       "      <td>1</td>\n",
       "      <td>...</td>\n",
       "      <td>0</td>\n",
       "      <td>0</td>\n",
       "      <td>1</td>\n",
       "      <td>Wyoming</td>\n",
       "      <td>3.0</td>\n",
       "      <td>578759.0</td>\n",
       "      <td>1697.637634</td>\n",
       "      <td>1.0</td>\n",
       "      <td>69.958196</td>\n",
       "      <td>6.0</td>\n",
       "    </tr>\n",
       "    <tr>\n",
       "      <th>3980</th>\n",
       "      <td>1</td>\n",
       "      <td>2859174</td>\n",
       "      <td>56</td>\n",
       "      <td>1</td>\n",
       "      <td>8</td>\n",
       "      <td>1</td>\n",
       "      <td>6</td>\n",
       "      <td>80</td>\n",
       "      <td>0</td>\n",
       "      <td>1</td>\n",
       "      <td>...</td>\n",
       "      <td>0</td>\n",
       "      <td>0</td>\n",
       "      <td>1</td>\n",
       "      <td>Wyoming</td>\n",
       "      <td>3.0</td>\n",
       "      <td>578759.0</td>\n",
       "      <td>1697.637634</td>\n",
       "      <td>1.0</td>\n",
       "      <td>69.958196</td>\n",
       "      <td>6.0</td>\n",
       "    </tr>\n",
       "    <tr>\n",
       "      <th>3981</th>\n",
       "      <td>1</td>\n",
       "      <td>4115505</td>\n",
       "      <td>56</td>\n",
       "      <td>1</td>\n",
       "      <td>10</td>\n",
       "      <td>7</td>\n",
       "      <td>1</td>\n",
       "      <td>35</td>\n",
       "      <td>1</td>\n",
       "      <td>1</td>\n",
       "      <td>...</td>\n",
       "      <td>0</td>\n",
       "      <td>0</td>\n",
       "      <td>1</td>\n",
       "      <td>Wyoming</td>\n",
       "      <td>3.0</td>\n",
       "      <td>578759.0</td>\n",
       "      <td>1697.637634</td>\n",
       "      <td>1.0</td>\n",
       "      <td>69.958196</td>\n",
       "      <td>6.0</td>\n",
       "    </tr>\n",
       "    <tr>\n",
       "      <th>3982</th>\n",
       "      <td>1</td>\n",
       "      <td>5198489</td>\n",
       "      <td>56</td>\n",
       "      <td>1</td>\n",
       "      <td>13</td>\n",
       "      <td>1</td>\n",
       "      <td>6</td>\n",
       "      <td>42</td>\n",
       "      <td>0</td>\n",
       "      <td>1</td>\n",
       "      <td>...</td>\n",
       "      <td>0</td>\n",
       "      <td>0</td>\n",
       "      <td>1</td>\n",
       "      <td>Wyoming</td>\n",
       "      <td>3.0</td>\n",
       "      <td>578759.0</td>\n",
       "      <td>1697.637634</td>\n",
       "      <td>1.0</td>\n",
       "      <td>69.958196</td>\n",
       "      <td>6.0</td>\n",
       "    </tr>\n",
       "  </tbody>\n",
       "</table>\n",
       "<p>3903 rows × 74 columns</p>\n",
       "</div>"
      ],
      "text/plain": [
       "      HEHOUSUT   HWHHWGT  GESTFIPS  GTMETSTA  HEFAMINC  HRNUMHOU  HRHTYPE  \\\n",
       "0            1  40182430         1         1        16         3        1   \n",
       "1            1  26376142         1         1        15         3        1   \n",
       "2            1  37961372         1         1        13         3        1   \n",
       "3            1  38997054         1         1        15         4        1   \n",
       "4            1  42003612         1         1        11         8        3   \n",
       "...        ...       ...       ...       ...       ...       ...      ...   \n",
       "3978         1   2614682        56         1         4         2        6   \n",
       "3979         1   3735059        56         1         6         1        6   \n",
       "3980         1   2859174        56         1         8         1        6   \n",
       "3981         1   4115505        56         1        10         7        1   \n",
       "3982         1   5198489        56         1        13         1        6   \n",
       "\n",
       "      PRTAGE  PEMARITL  PENATVTY  ...  PTDTRACE_1  PTDTRACE_3  PEHSPNON_2  \\\n",
       "0         31         1         1  ...           0           0           1   \n",
       "1         53         1         1  ...           0           0           1   \n",
       "2         53         1         1  ...           0           0           1   \n",
       "3         35         1         1  ...           0           0           1   \n",
       "4         40         0         1  ...           1           0           1   \n",
       "...      ...       ...       ...  ...         ...         ...         ...   \n",
       "3978      80         0         1  ...           0           0           1   \n",
       "3979      55         0         1  ...           0           0           1   \n",
       "3980      80         0         1  ...           0           0           1   \n",
       "3981      35         1         1  ...           0           0           1   \n",
       "3982      42         0         1  ...           0           0           1   \n",
       "\n",
       "        state  month  population    case_delta  party  percent_red  \\\n",
       "0     Alabama    3.0   4903185.0  57709.606452    1.0    62.087493   \n",
       "1     Alabama    3.0   4903185.0  57709.606452    1.0    62.087493   \n",
       "2     Alabama    3.0   4903185.0  57709.606452    1.0    62.087493   \n",
       "3     Alabama    3.0   4903185.0  57709.606452    1.0    62.087493   \n",
       "4     Alabama    3.0   4903185.0  57709.606452    1.0    62.087493   \n",
       "...       ...    ...         ...           ...    ...          ...   \n",
       "3978  Wyoming    3.0    578759.0   1697.637634    1.0    69.958196   \n",
       "3979  Wyoming    3.0    578759.0   1697.637634    1.0    69.958196   \n",
       "3980  Wyoming    3.0    578759.0   1697.637634    1.0    69.958196   \n",
       "3981  Wyoming    3.0    578759.0   1697.637634    1.0    69.958196   \n",
       "3982  Wyoming    3.0    578759.0   1697.637634    1.0    69.958196   \n",
       "\n",
       "      pop_density  \n",
       "0            95.0  \n",
       "1            95.0  \n",
       "2            95.0  \n",
       "3            95.0  \n",
       "4            95.0  \n",
       "...           ...  \n",
       "3978          6.0  \n",
       "3979          6.0  \n",
       "3980          6.0  \n",
       "3981          6.0  \n",
       "3982          6.0  \n",
       "\n",
       "[3903 rows x 74 columns]"
      ]
     },
     "execution_count": 6,
     "metadata": {},
     "output_type": "execute_result"
    }
   ],
   "source": [
    "df = df[df.GESTFIPS != 11]\n",
    "df"
   ]
  },
  {
   "cell_type": "code",
   "execution_count": 7,
   "metadata": {},
   "outputs": [
    {
     "data": {
      "text/plain": [
       "1.0    1977\n",
       "0.0    1926\n",
       "Name: party, dtype: int64"
      ]
     },
     "execution_count": 7,
     "metadata": {},
     "output_type": "execute_result"
    }
   ],
   "source": [
    "to_drop = [\n",
    "    'state',\n",
    "    'month', \n",
    "    'HH_ID',\n",
    "    'IND_ID_FINAL',\n",
    "]\n",
    "df.drop(columns=to_drop, inplace=True)\n",
    "df.party.value_counts()"
   ]
  },
  {
   "cell_type": "code",
   "execution_count": 8,
   "metadata": {},
   "outputs": [],
   "source": [
    "df.to_csv('../../src/csv/final_dataframe_graphing.csv', index=None)\n",
    "df.drop(columns=['GESTFIPS'], inplace=True)\n",
    "df.to_csv('../../src/csv/final_dataframe.csv', index=None)"
   ]
  },
  {
   "cell_type": "markdown",
   "metadata": {},
   "source": [
    "# Test train split"
   ]
  },
  {
   "cell_type": "code",
   "execution_count": 9,
   "metadata": {},
   "outputs": [
    {
     "data": {
      "text/plain": [
       "((2927, 68), (2927,), (976, 68), (976,))"
      ]
     },
     "execution_count": 9,
     "metadata": {},
     "output_type": "execute_result"
    }
   ],
   "source": [
    "X = df.drop(columns=['target'])\n",
    "y = df.target\n",
    "\n",
    "X_train, X_test, y_train, y_test = train_test_split(X, y, random_state=42)\n",
    "\n",
    "X_train.shape, y_train.shape, X_test.shape, y_test.shape"
   ]
  },
  {
   "cell_type": "code",
   "execution_count": 10,
   "metadata": {},
   "outputs": [
    {
     "name": "stdout",
     "output_type": "stream",
     "text": [
      "              precision    recall  f1-score   support\n",
      "\n",
      "           0       0.92      0.93      0.92       890\n",
      "           1       0.14      0.12      0.13        86\n",
      "\n",
      "    accuracy                           0.86       976\n",
      "   macro avg       0.53      0.52      0.53       976\n",
      "weighted avg       0.85      0.86      0.85       976\n",
      "\n"
     ]
    }
   ],
   "source": [
    "dTree_clf = DecisionTreeClassifier(class_weight='balanced')\n",
    "dTree_clf.fit(X_train, y_train)\n",
    "y_hat = dTree_clf.predict(X_test)\n",
    "print(classification_report(y_test, y_hat))"
   ]
  },
  {
   "cell_type": "code",
   "execution_count": 11,
   "metadata": {},
   "outputs": [
    {
     "name": "stdout",
     "output_type": "stream",
     "text": [
      "              precision    recall  f1-score   support\n",
      "\n",
      "           0       0.91      0.77      0.83       890\n",
      "           1       0.08      0.20      0.11        86\n",
      "\n",
      "    accuracy                           0.72       976\n",
      "   macro avg       0.49      0.48      0.47       976\n",
      "weighted avg       0.84      0.72      0.77       976\n",
      "\n"
     ]
    }
   ],
   "source": [
    "logReg = LogisticRegression(penalty='l2',class_weight='balanced')\n",
    "logReg.fit(X_train, y_train)\n",
    "y_hat_log = logReg.predict(X_test)\n",
    "print(classification_report(y_test, y_hat_log))"
   ]
  },
  {
   "cell_type": "code",
   "execution_count": 12,
   "metadata": {},
   "outputs": [],
   "source": [
    "scalar= StandardScaler()\n",
    "X_train_scaled = scalar.fit_transform(X_train)\n",
    "X_test_scaled  = scalar.transform(X_train)"
   ]
  },
  {
   "cell_type": "code",
   "execution_count": 13,
   "metadata": {},
   "outputs": [
    {
     "name": "stdout",
     "output_type": "stream",
     "text": [
      "              precision    recall  f1-score   support\n",
      "\n",
      "           0       0.97      0.71      0.82      2732\n",
      "           1       0.14      0.67      0.23       195\n",
      "\n",
      "    accuracy                           0.70      2927\n",
      "   macro avg       0.55      0.69      0.52      2927\n",
      "weighted avg       0.91      0.70      0.78      2927\n",
      "\n"
     ]
    }
   ],
   "source": [
    "logReg = LogisticRegression(class_weight='balanced')\n",
    "logReg.fit(X_train_scaled, y_train)\n",
    "y_hat_log = logReg.predict(X_train_scaled)\n",
    "print(classification_report(y_train, y_hat_log))"
   ]
  },
  {
   "cell_type": "code",
   "execution_count": 14,
   "metadata": {},
   "outputs": [
    {
     "name": "stdout",
     "output_type": "stream",
     "text": [
      "              precision    recall  f1-score   support\n",
      "\n",
      "           0       0.97      0.72      0.82      2732\n",
      "           1       0.14      0.65      0.23       195\n",
      "\n",
      "    accuracy                           0.71      2927\n",
      "   macro avg       0.55      0.68      0.53      2927\n",
      "weighted avg       0.91      0.71      0.78      2927\n",
      "\n"
     ]
    },
    {
     "name": "stderr",
     "output_type": "stream",
     "text": [
      "/Users/danielvalenzuela/opt/anaconda3/envs/learn-env/lib/python3.6/site-packages/sklearn/linear_model/_sag.py:330: ConvergenceWarning: The max_iter was reached which means the coef_ did not converge\n",
      "  \"the coef_ did not converge\", ConvergenceWarning)\n"
     ]
    }
   ],
   "source": [
    "logReg = LogisticRegression(penalty='elasticnet', l1_ratio=0.01, C=0.01, solver='saga',class_weight='balanced', max_iter=10*7)\n",
    "logReg.fit(X_train_scaled, y_train)\n",
    "y_hat_log = logReg.predict(X_train_scaled)\n",
    "print(classification_report(y_train, y_hat_log))"
   ]
  },
  {
   "cell_type": "markdown",
   "metadata": {},
   "source": [
    "# Dummy regression"
   ]
  },
  {
   "cell_type": "code",
   "execution_count": 15,
   "metadata": {},
   "outputs": [
    {
     "name": "stdout",
     "output_type": "stream",
     "text": [
      "              precision    recall  f1-score   support\n",
      "\n",
      "           0       0.93      1.00      0.97      2732\n",
      "           1       0.00      0.00      0.00       195\n",
      "\n",
      "    accuracy                           0.93      2927\n",
      "   macro avg       0.47      0.50      0.48      2927\n",
      "weighted avg       0.87      0.93      0.90      2927\n",
      "\n"
     ]
    },
    {
     "name": "stderr",
     "output_type": "stream",
     "text": [
      "/Users/danielvalenzuela/opt/anaconda3/envs/learn-env/lib/python3.6/site-packages/sklearn/metrics/_classification.py:1221: UndefinedMetricWarning: Precision and F-score are ill-defined and being set to 0.0 in labels with no predicted samples. Use `zero_division` parameter to control this behavior.\n",
      "  _warn_prf(average, modifier, msg_start, len(result))\n"
     ]
    }
   ],
   "source": [
    "dummy = [0 for x in y_train]\n",
    "print(classification_report(y_train, dummy))"
   ]
  },
  {
   "cell_type": "code",
   "execution_count": null,
   "metadata": {},
   "outputs": [],
   "source": []
  },
  {
   "cell_type": "code",
   "execution_count": 16,
   "metadata": {},
   "outputs": [
    {
     "name": "stdout",
     "output_type": "stream",
     "text": [
      "              precision    recall  f1-score   support\n",
      "\n",
      "           0       0.97      0.71      0.82      3622\n",
      "           1       0.15      0.67      0.25       281\n",
      "\n",
      "    accuracy                           0.71      3903\n",
      "   macro avg       0.56      0.69      0.53      3903\n",
      "weighted avg       0.91      0.71      0.78      3903\n",
      "\n"
     ]
    },
    {
     "name": "stderr",
     "output_type": "stream",
     "text": [
      "/Users/danielvalenzuela/opt/anaconda3/envs/learn-env/lib/python3.6/site-packages/sklearn/linear_model/_sag.py:330: ConvergenceWarning: The max_iter was reached which means the coef_ did not converge\n",
      "  \"the coef_ did not converge\", ConvergenceWarning)\n"
     ]
    }
   ],
   "source": [
    "X = df.drop(columns =['target'])\n",
    "y = df.target\n",
    "\n",
    "scalar_final = StandardScaler()\n",
    "X_scaled = scalar_final.fit_transform(X)\n",
    "logReg = LogisticRegression(class_weight='balanced', solver='saga', penalty='l2', C=0.015)\n",
    "logReg.fit(X_scaled, y)\n",
    "y_hat_log = logReg.predict(X_scaled)\n",
    "print(classification_report(y, y_hat_log))"
   ]
  },
  {
   "cell_type": "code",
   "execution_count": 17,
   "metadata": {},
   "outputs": [
    {
     "name": "stdout",
     "output_type": "stream",
     "text": [
      "              precision    recall  f1-score   support\n",
      "\n",
      "           0       0.97      0.53      0.69      3622\n",
      "           1       0.12      0.82      0.21       281\n",
      "\n",
      "    accuracy                           0.55      3903\n",
      "   macro avg       0.55      0.67      0.45      3903\n",
      "weighted avg       0.91      0.55      0.65      3903\n",
      "\n"
     ]
    }
   ],
   "source": [
    "y_pred_new_threshold = (logReg.predict_proba(X_scaled)[:,1]>=0.4).astype(int)\n",
    "print(classification_report(y, y_pred_new_threshold))"
   ]
  },
  {
   "cell_type": "code",
   "execution_count": 18,
   "metadata": {},
   "outputs": [],
   "source": [
    "# grid_params = {\n",
    "#     'penalty': ['l1', 'l2'],\n",
    "#     'class_weight': [None, 'balanced'],\n",
    "#     'C': np.linspace(0,1,1000)   \n",
    "# }\n",
    "# logReg_grid = LogisticRegression(solver='saga', max_iter=10**4)\n",
    "# log_grid = GridSearchCV(logReg_grid, param_grid=grid_params, scoring='recall', cv=10, n_jobs=-1, verbose=1 )\n",
    "# log_grid.fit(X_scaled, y)"
   ]
  },
  {
   "cell_type": "markdown",
   "metadata": {},
   "source": [
    "# Most important features in losing your job:\n",
    "     - Age PRTAGE\n",
    "     - population of your state population\n",
    "     - Part time medical conditions PEHRRSN2_1\n",
    "     - native american populations PTDTRACE_3\n",
    "     - Country of birth. American born more likely to be unemployed\n",
    "     - People have have more than 1 job more likely to loose both.\n",
    "     - people who worked in sales\n",
    "     "
   ]
  },
  {
   "cell_type": "code",
   "execution_count": 73,
   "metadata": {},
   "outputs": [],
   "source": [
    "coef_list = sorted(zip(X_train.columns.to_list(),logReg.coef_[0]), key=lambda x: x[1], reverse=True)\n",
    "coef_list = [('PEHRRSN2_4', 0.12791888470310228),\n",
    " ('PRTAGE', 0.11997962364464325),\n",
    " ('population', 0.08629240348883842),\n",
    " ('PENATVTY', 0.0835137030698312),\n",
    " ('PRMJIND1_10', 0.07946028458828445),\n",
    " ('PEMJOT', 0.07451602183355875),\n",
    " ('PEHRRSN2_3', 0.07275775436335247),\n",
    " ('PEMARITL', 0.05917143009615273),\n",
    " ('PRAGNA', 0.05433387899169695),\n",
    " ('PRMJIND1_2', 0.04849754054782185),\n",
    " ('case_delta', 0.04310517536449647),\n",
    " ('PRMJIND1_11', 0.04098897978070467),\n",
    " ('PTDTRACE_3', 0.026040280135718304),\n",
    " ('PESEX_2', 0.01774987543313716),\n",
    " ('PEEDUCA_43', 0.010344077360354595),\n",
    " ('pop_density', 0.00990920038784068),\n",
    " ('PRMJOCC1_4', 0.005061728442107484),\n",
    " ('PEHRRSN2_5', 0.002119174182229764),\n",
    " ('PRMJOCC1_10', 0.0010083374434465976),\n",
    " ('party', 3.4673647417203396e-05),\n",
    " ('HEHOUSUT', 0.0),\n",
    " ('HRNUMHOU', 0.0),\n",
    " ('PEHRFTPT', 0.0),\n",
    " ('PRCITSHP_2', 0.0),\n",
    " ('PRCITSHP_3', 0.0),\n",
    " ('PRCITSHP_5', 0.0),\n",
    " ('PEHRRSN2_1', 0.0),\n",
    " ('PEHRRSN2_2', 0.0),\n",
    " ('PEHRRSN2_6', 0.0),\n",
    " ('PEHRRSN2_7', 0.0),\n",
    " ('PRMJIND1_3', 0.0),\n",
    " ('PRMJIND1_4', 0.0),\n",
    " ('PRMJIND1_6', 0.0),\n",
    " ('PRMJIND1_7', 0.0),\n",
    " ('PRMJIND1_9', 0.0),\n",
    " ('PRMJIND1_12', 0.0),\n",
    " ('PRMJOCC1_2', 0.0),\n",
    " ('PRMJOCC1_3', 0.0),\n",
    " ('PRMJOCC1_6', 0.0),\n",
    " ('PRMJOCC1_7', 0.0),\n",
    " ('PRMJOCC1_8', 0.0),\n",
    " ('PRMJOCC1_9', 0.0),\n",
    " ('PEEDUCA_40', 0.0),\n",
    " ('PEEDUCA_42', 0.0),\n",
    " ('PEEDUCA_44', 0.0),\n",
    " ('PEEDUCA_45', 0.0),\n",
    " ('PTDTRACE_1', 0.0),\n",
    " ('PEHSPNON_2', 0.0),\n",
    " ('HWHHWGT', -3.699842874558247e-05),\n",
    " ('PRNMCHLD', -4.711591972392344e-05),\n",
    " ('PRMJIND1_5', -0.00018995485003809437),\n",
    " ('HRHTYPE', -0.00028472946814202905),\n",
    " ('GTMETSTA', -0.0004248459954550815),\n",
    " ('HUBUS', -0.0005041326698757106),\n",
    " ('PRMJIND1_13', -0.0011480059817888365),\n",
    " ('PECYC', -0.0015526441295501995),\n",
    " ('PEMJNUM', -0.0015754193652904515),\n",
    " ('PECERT1', -0.002111225157580295),\n",
    " ('percent_red', -0.004153830115364483),\n",
    " ('PRINUSYR', -0.00685341006661304),\n",
    " ('PEEDUCA_41', -0.01778287217331979),\n",
    " ('PRMJOCC1_5', -0.024072114576131894),\n",
    " ('PRCITSHP_4', -0.04874971700270992),\n",
    " ('PEEDUCA_46', -0.05834621089257071),\n",
    " ('PRHRUSL', -0.06615587192529887),\n",
    " ('HEFAMINC', -0.14177332119017616),\n",
    " ('PRMJIND1_8', -0.15131353089753005),\n",
    " ('PEHRACTT', -0.4290377633644399)]\n",
    "coef_list = [('PRTAGE', 0.1580869663386851),\n",
    " ('PRCITSHP_2', 0.12846675050750822),\n",
    " ('PEMJOT', 0.12152635320025758),\n",
    " ('PENATVTY', 0.11935063912125483),\n",
    " ('population', 0.11706422972436824),\n",
    " ('PRHRUSL', -0.08941315008517435),\n",
    " ('PEEDUCA_46', -0.09400037020156596),\n",
    " ('HEFAMINC', -0.1708102348663844),\n",
    " ('PRMJIND1_8', -0.1916587461436261),\n",
    " ('PEHRACTT', -0.4802735230545318)]\n",
    "coef_df = pd.DataFrame(coef_list, columns=['Features', 'LogRegCoeff'])\n"
   ]
  },
  {
   "cell_type": "code",
   "execution_count": 70,
   "metadata": {},
   "outputs": [
    {
     "name": "stdout",
     "output_type": "stream",
     "text": [
      "The autoreload extension is already loaded. To reload it, use:\n",
      "  %reload_ext autoreload\n"
     ]
    }
   ],
   "source": [
    "%load_ext autoreload\n",
    "%autoreload 2\n",
    "\n",
    "import os\n",
    "import sys\n",
    "import pandas as pd\n",
    "\n",
    "module_path = os.path.abspath(os.path.join(os.pardir, os.pardir, 'src'))\n",
    "if module_path not in sys.path:\n",
    "    sys.path.append(module_path)\n",
    "    \n",
    "from modules import VizFig\n",
    "\n",
    "images_dir = '../../src/images/'"
   ]
  },
  {
   "cell_type": "code",
   "execution_count": 75,
   "metadata": {},
   "outputs": [],
   "source": [
    "import pandas as pd\n",
    "import seaborn as sns\n",
    "import matplotlib.pyplot as plt\n",
    "import matplotlib\n",
    "import numpy as np\n",
    "\n",
    "# Setting global variables\n",
    "\n",
    "dpi = 300\n",
    "figsize = (6, 7.5)\n",
    "fontscale = 1.4\n",
    "sns.set(font_scale = fontscale, style = 'whitegrid')\n",
    "markersize = 75\n",
    "\n",
    "\n",
    "labels_dict = {'PESEX_x': 'Sex',\n",
    "               'PREMPNOT_y': 'Employment Status',\n",
    "               'PRTAGE_x': 'Age',\n",
    "               'Features': 'Features',\n",
    "               'LogRegCoeff': 'Logistic Regression\\n Coefficients'\n",
    "               \n",
    "              }\n",
    "ticks_dict = {'LogRegCoeff': ['Age', \n",
    "                              'Born on U.S. Islands', \n",
    "                              'Have More than 1 Job', \n",
    "                              'Born on Mainland U.S.', \n",
    "                              'Population of State', \n",
    "                              'Usual Hours Worked in a Week',\n",
    "                              'Doctorate Degree',\n",
    "                              'Family Income',\n",
    "                              'Fin. Services Ind.',\n",
    "                              'Actual Hours Worked in a Week'\n",
    "                             ]\n",
    "             }\n",
    "\n",
    "\n",
    "\n",
    "\n",
    "def PlotCat(df, xvar,targetdir, yvar=None, orient=None, kind='count',palette=\"coolwarm_r\"):\n",
    "    \"\"\"Plot a categorical plot with automatic labels provided in a global dict in CustomModule. \n",
    "        Pass a dataframe through `df`, a string through `xvar`, and where to save the image through\n",
    "        `targetdir`. \n",
    "    \"\"\"\n",
    "    m_label = month_label(xvar)\n",
    "    \n",
    "    title = f'Scale of {labels_dict[xvar]}'\n",
    "    \n",
    "\n",
    "    fig = sns.catplot(data=df,\n",
    "                x=xvar,\n",
    "                y=yvar,\n",
    "                kind = kind,\n",
    "                orient = orient,\n",
    "                height = figsize[0],\n",
    "                aspect = figsize[1]/figsize[0],\n",
    "                palette=palette\n",
    "               )\n",
    "    plt.ylabel(yvar)\n",
    "    plt.xlabel('Scale')\n",
    "    plt.title(title)\n",
    "    labels = ticks_dict[xvar]\n",
    "    plt.yticks(list(range(len(labels))), labels)\n",
    "\n",
    "    fig.savefig(f'{targetdir}{title}.png', bbox_inches='tight')\n",
    "\n",
    "    return plt.show()\n",
    "\n",
    "def month_label(var):\n",
    "    if '_y' in var:\n",
    "        var = ' in July 2020'\n",
    "    else:\n",
    "        var= ''\n",
    "    return var"
   ]
  },
  {
   "cell_type": "code",
   "execution_count": 76,
   "metadata": {},
   "outputs": [
    {
     "data": {
      "image/png": "[encoded data removed]",
      "text/plain": [
       "<Figure size 540x432 with 1 Axes>"
      ]
     },
     "metadata": {},
     "output_type": "display_data"
    }
   ],
   "source": [
    "PlotCat(coef_df, yvar='Features',targetdir = images_dir, xvar='LogRegCoeff', orient='h',kind='bar')"
   ]
  },
  {
   "cell_type": "code",
   "execution_count": 30,
   "metadata": {},
   "outputs": [
    {
     "data": {
      "text/plain": [
       "[('PRMJIND1_10', 0.15771490972531163),\n",
       " ('PRMJIND1_2', 0.08806483590288766),\n",
       " ('PRMJIND1_11', 0.08116798476410675),\n",
       " ('PRMJIND1_6', 0.06063516213462951),\n",
       " ('PRMJIND1_12', 0.024959291707677363),\n",
       " ('PRMJIND1_4', 0.011928841921116828),\n",
       " ('PRMJIND1_9', -0.0024904722892550406),\n",
       " ('PRMJIND1_7', -0.008715229156755709),\n",
       " ('PRMJIND1_3', -0.0648185861577069),\n",
       " ('PRMJIND1_13', -0.07068328989027207),\n",
       " ('PRMJIND1_5', -0.18524174271819904),\n",
       " ('PRMJIND1_8', -0.3394974464231217)]"
      ]
     },
     "execution_count": 30,
     "metadata": {},
     "output_type": "execute_result"
    }
   ],
   "source": [
    "[x for x in coef_list if x[0][:8] in [\"PRMJIND1\"]]"
   ]
  },
  {
   "cell_type": "code",
   "execution_count": 31,
   "metadata": {},
   "outputs": [
    {
     "data": {
      "text/plain": [
       "[('PRMJOCC1_4', 0.19498953990693046),\n",
       " ('PRMJOCC1_7', 0.088688060730684),\n",
       " ('PRMJOCC1_8', 0.055790360293506855),\n",
       " ('PRMJOCC1_9', 0.016319311121921524),\n",
       " ('PRMJOCC1_10', -9.656240851708171e-06),\n",
       " ('PRMJOCC1_3', -0.00969246260329651),\n",
       " ('PRMJOCC1_5', -0.115774893695183),\n",
       " ('PRMJOCC1_2', -0.12116835888624614),\n",
       " ('PRMJOCC1_6', -0.17550532868454247)]"
      ]
     },
     "execution_count": 31,
     "metadata": {},
     "output_type": "execute_result"
    }
   ],
   "source": [
    "[x for x in coef_list if x[0][:8] in [\"PRMJOCC1\"]]"
   ]
  },
  {
   "cell_type": "markdown",
   "metadata": {},
   "source": [
    "### positive \n",
    "PECYC == Years of college credit\n",
    "PENATVTY == dummy country of birth\n",
    "PEMARITL == dummy married or not\n",
    "PRTAGE == persons age \n",
    "PEMJOT == more than one job dummy 1 yes 0 no\n",
    "case_delta == change in cases between April and July\n",
    "\n",
    "\n",
    "### negative \n",
    "PEHRACTT == sum of hours worked between all job\n",
    "PRMJIND1_8 == works in finance\n",
    "PEHRRSN2_1 == child care full time\n",
    "PEEDUCA_41 == Associates degree\n",
    "PEEDUCA_40 == Some college but not a degree\n",
    "HEFAMINC == FAMILY INCOME\n",
    "PRMJIND1_5 == Whole sale and retail trade"
   ]
  },
  {
   "cell_type": "code",
   "execution_count": null,
   "metadata": {},
   "outputs": [],
   "source": []
  },
  {
   "cell_type": "code",
   "execution_count": null,
   "metadata": {},
   "outputs": [],
   "source": []
  },
  {
   "cell_type": "code",
   "execution_count": null,
   "metadata": {},
   "outputs": [],
   "source": []
  },
  {
   "cell_type": "markdown",
   "metadata": {},
   "source": [
    "# Downsample dominant class using tomek links"
   ]
  },
  {
   "cell_type": "code",
   "execution_count": 223,
   "metadata": {},
   "outputs": [
    {
     "data": {
      "text/plain": [
       "((2927, 68), (2927,), (976, 68), (976,))"
      ]
     },
     "execution_count": 223,
     "metadata": {},
     "output_type": "execute_result"
    }
   ],
   "source": [
    "X = df.drop(columns=['target'])\n",
    "y = df.target\n",
    "\n",
    "X_train, X_test, y_train, y_test = train_test_split(X, y, random_state=42)\n",
    "\n",
    "X_train.shape, y_train.shape, X_test.shape, y_test.shape"
   ]
  },
  {
   "cell_type": "code",
   "execution_count": 224,
   "metadata": {},
   "outputs": [
    {
     "name": "stderr",
     "output_type": "stream",
     "text": [
      "/Users/TjH/opt/anaconda3/envs/learn-env/lib/python3.6/site-packages/ipykernel_launcher.py:4: FutureWarning: Method .as_matrix will be removed in a future version. Use .values instead.\n",
      "  after removing the cwd from sys.path.\n"
     ]
    },
    {
     "data": {
      "text/plain": [
       "0    2605\n",
       "1     195\n",
       "Name: default, dtype: int64"
      ]
     },
     "execution_count": 224,
     "metadata": {},
     "output_type": "execute_result"
    }
   ],
   "source": [
    "#Instantiate the object\n",
    "tl = TomekLinks()\n",
    "# resample the data\n",
    "X_res, y_res = tl.fit_resample(X_train.as_matrix(),y_train.as_matrix())\n",
    "\n",
    "# conform back to data frames\n",
    "df_X_res = pd.DataFrame(np.matrix(X_res))\n",
    "df_y_res = pd.DataFrame(np.matrix(y_res))\n",
    "\n",
    "# rename the columns\n",
    "df_X_res.columns = X.columns\n",
    "df_y_res = df_y_res.T\n",
    "df_y_res.columns = ['default']\n",
    "\n",
    "# join them back together\n",
    "df_res=pd.concat([df_X_res, df_y_res],axis=1)\n",
    "df_y_res.default.value_counts()"
   ]
  },
  {
   "cell_type": "markdown",
   "metadata": {},
   "source": [
    "# Scale"
   ]
  },
  {
   "cell_type": "code",
   "execution_count": 225,
   "metadata": {},
   "outputs": [],
   "source": [
    "scalar= StandardScaler()\n",
    "X_train_scaled = scalar.fit_transform(df_X_res)\n",
    "X_test_scaled  = scalar.transform(X_test)"
   ]
  },
  {
   "cell_type": "code",
   "execution_count": 226,
   "metadata": {},
   "outputs": [
    {
     "name": "stderr",
     "output_type": "stream",
     "text": [
      "/Users/TjH/opt/anaconda3/envs/learn-env/lib/python3.6/site-packages/sklearn/utils/validation.py:72: DataConversionWarning: A column-vector y was passed when a 1d array was expected. Please change the shape of y to (n_samples, ), for example using ravel().\n",
      "  return f(**kwargs)\n"
     ]
    },
    {
     "name": "stdout",
     "output_type": "stream",
     "text": [
      "              precision    recall  f1-score   support\n",
      "\n",
      "           0       0.92      0.92      0.92       890\n",
      "           1       0.16      0.16      0.16        86\n",
      "\n",
      "    accuracy                           0.85       976\n",
      "   macro avg       0.54      0.54      0.54       976\n",
      "weighted avg       0.85      0.85      0.85       976\n",
      "\n"
     ]
    }
   ],
   "source": [
    "logReg = LogisticRegression(class_weight='balanced',)\n",
    "logReg.fit(X_train_scaled, df_y_res)\n",
    "y_hat_log = logReg.predict(X_test_scaled)\n",
    "print(classification_report(y_test, y_hat))"
   ]
  },
  {
   "cell_type": "code",
   "execution_count": 227,
   "metadata": {},
   "outputs": [
    {
     "data": {
      "text/plain": [
       "array([[818,  72],\n",
       "       [ 72,  14]])"
      ]
     },
     "execution_count": 227,
     "metadata": {},
     "output_type": "execute_result"
    }
   ],
   "source": [
    "confusion_matrix(y_test, y_hat)"
   ]
  },
  {
   "cell_type": "markdown",
   "metadata": {},
   "source": [
    "## Scale continuous variables"
   ]
  },
  {
   "cell_type": "code",
   "execution_count": null,
   "metadata": {},
   "outputs": [],
   "source": [
    "X = df.drop(columns=['target'])\n",
    "y = df.target\n",
    "\n",
    "X_train, X_test, y_train, y_test = train_test_split(X, y, random_state=42)\n",
    "\n",
    "X_train.shape, y_train.shape, X_test.shape, y_test.shape"
   ]
  },
  {
   "cell_type": "code",
   "execution_count": 35,
   "metadata": {},
   "outputs": [],
   "source": [
    "pop_density = pd.read_html('https://simple.wikipedia.org/wiki/List_of_U.S._states_by_population_density')[1]"
   ]
  },
  {
   "cell_type": "code",
   "execution_count": 36,
   "metadata": {},
   "outputs": [
    {
     "data": {
      "text/plain": [
       "['Rank',\n",
       " 'State/Territory/Division/Region',\n",
       " 'Population/sqmi',\n",
       " 'Population/sqkm',\n",
       " 'Geographic region']"
      ]
     },
     "execution_count": 36,
     "metadata": {},
     "output_type": "execute_result"
    }
   ],
   "source": [
    "pop_density.columns.to_list()"
   ]
  },
  {
   "cell_type": "code",
   "execution_count": 40,
   "metadata": {},
   "outputs": [],
   "source": [
    "to_drop = [\n",
    "'Geographic region',\n",
    "'Population/sqkm',\n",
    "'Rank'\n",
    "]\n",
    "pop_density.drop(columns=to_drop, inplace=True)"
   ]
  },
  {
   "cell_type": "code",
   "execution_count": null,
   "metadata": {},
   "outputs": [],
   "source": []
  },
  {
   "cell_type": "code",
   "execution_count": null,
   "metadata": {},
   "outputs": [],
   "source": []
  },
  {
   "cell_type": "code",
   "execution_count": null,
   "metadata": {},
   "outputs": [],
   "source": []
  },
  {
   "cell_type": "code",
   "execution_count": null,
   "metadata": {},
   "outputs": [],
   "source": []
  },
  {
   "cell_type": "code",
   "execution_count": 9,
   "metadata": {},
   "outputs": [],
   "source": [
    "# import data'\n",
    "# apr_2020_df = dl.CPS_raw(targetdir, ['apr2020'], None)\n",
    "# jul_2020_df = dl.CPS_raw(targetdir, ['jul2020'], None)\n",
    "# jan_feb_2020_df = dl.CPS_raw(targetdir, ['jan2020', 'feb2020'], None)\n"
   ]
  },
  {
   "cell_type": "code",
   "execution_count": 41,
   "metadata": {},
   "outputs": [
    {
     "name": "stdout",
     "output_type": "stream",
     "text": [
      "<class 'pandas.core.frame.DataFrame'>\n",
      "RangeIndex: 129382 entries, 0 to 129381\n",
      "Columns: 391 entries, HRHHID to IND_ID_FINAL\n",
      "dtypes: int64(387), object(4)\n",
      "memory usage: 386.0+ MB\n"
     ]
    }
   ],
   "source": [
    "apr_2020_df.info()"
   ]
  },
  {
   "cell_type": "markdown",
   "metadata": {},
   "source": [
    "# We decided on which columns to keep and which to discard\n",
    "\n",
    "The target variable will be change in employment status from having a job to not. We could also make a conditional where if the they WHERE full time (40 hours+) but now are not, that could also represent a change in the employment status.\n",
    "\n",
    "\n",
    "But if our question is: How many people lost full time work during the first wave of the pandemic, The data set becomes much simpler."
   ]
  },
  {
   "cell_type": "code",
   "execution_count": 68,
   "metadata": {},
   "outputs": [],
   "source": [
    "to_keep = [\n",
    "    'PREMPNOT', # EMPLOY TARGET VARIABLE\n",
    "    'PEMLR', # TARGET VARIABLE 1-6 employment status\n",
    "    'PRPERTYP', # Type of person recode \n",
    "    'HEHOUSUT', # type of housing unit to dummy\n",
    "    'HETENURE', # rent or morgage status\n",
    "    'HWHHWGT', # Household weight\n",
    "    'GESTFIPS', # state codes\n",
    "    \"GTMETSTA\", # Metropolitan or not\n",
    "    'HEFAMINC', # total family income\n",
    "    \"HRNUMHOU\", # total number of people living in the house hold\n",
    "    'HRHTYPE', # household type eg civilian or married etc\n",
    "    'PERRP', # relationship to reference, -1, 40 and 41\n",
    "    'PRTAGE', # person's age\n",
    "    'PEMARITL', # marital status\n",
    "    'PESPOUSE', # line number of spouse (-1) == no spouse\n",
    "    'PESEX', # gender 1 == male, 2 == female\n",
    "    'PEEDUCA', # level of education see dict for coding\n",
    "    'PTDTRACE', # race composition of the house. See data dict\n",
    "    \"PEHSPNON\", # hispanic or not hispanic\n",
    "    'PUCHINHH', # change in household composition. See data dict\n",
    "    'PENATVTY', # country of birth ie US born or not\n",
    "    \"PEMNTVTY\", # mothers country of birth, \n",
    "    \"PEFNTVTY\", # fathers country of birth ie are they a first generation imiigrant?\n",
    "    \"PRCITSHP\", # citezen status\n",
    "    \"PRINUSYR\", # Year since immigration -1== us born, else coded by decade\n",
    "    \"PUABSOT\", # Did you have a job last week TARGET POTENTIAL\n",
    "    \"PULAY\", # Where you on layoff from your job last week?\n",
    "    \"PEABSRSN\", # reason for not being at work the day before.\n",
    "    \"PRHRUSL\", # Hours at work, dummy into full time or not full time\n",
    "    \"HUBUS\", # Does anyone have a business or a farm?\n",
    "    \"PEMJOT\", # Do you have more than 1 job?\n",
    "    \"PEMJNUM\", # how many jobs do you have?\n",
    "    \"PEHRFTPT\", # Do you normally spend more than 35 hours a week at your main job?\n",
    "    \"PEHRRSN2\", # what is the main reason you do not want to work 35 hours. Speaks to motivation of keeping job.\n",
    "    \"PEHRACTT\", # sum of hours worked between all jobs\n",
    "    \"PRCIVLF\", # in the civiliarn labour force = 1 \n",
    "    \"PRAGNA\", # Agricultural industry yes or no\n",
    "    \"PRMJIND1\", # industry recode\n",
    "    \"PEERNUOT\", # Do you usually recieve tips at your work\n",
    "    \"PEERNHRY\", # hourly vs non-hourly status\n",
    "    \"PRERNWA\", # weekly earnings\n",
    "    \"PEERNLAB\", # part of a labour union\n",
    "    \"PRNLFSCH\", # In school or not\n",
    "    \"PRNMCHLD\", # number of children less than 18 years old (-1 not a parent, 0-99 number of children)\n",
    "    \"PECYC\", # How much college credit in years has the reference person recieved?\n",
    "    \"PEIO1ICD\", # Inustry code for primary jobs lin1\n",
    "    \"PEIO1OCD\", # Occupation code for primary jobs lin1\n",
    "    \"PECERT1\", # Do you have a professional certification issued at state or federal level.\n",
    "    \"PUIODP2\", # did your job change last month\n",
    "]"
   ]
  },
  {
   "cell_type": "code",
   "execution_count": 69,
   "metadata": {},
   "outputs": [
    {
     "data": {
      "text/plain": [
       "49"
      ]
     },
     "execution_count": 69,
     "metadata": {},
     "output_type": "execute_result"
    }
   ],
   "source": [
    "len(to_keep)"
   ]
  },
  {
   "cell_type": "code",
   "execution_count": 1,
   "metadata": {},
   "outputs": [
    {
     "data": {
      "text/plain": [
       "'\\n1 Agriculture, forestry, fishing, and hunting2 Mining\\n3 Construction\\n4 Manufacturing\\n5 Wholesale and retail trade\\n6 Transportation and utilities      \\n7 Information\\n8 Financial activities\\n9 Professional and business services\\n10 Educational and health services\\n11 Leisure and hospitality\\n12 Other services\\n13 Public administration\\n14 Armed Forces'"
      ]
     },
     "execution_count": 1,
     "metadata": {},
     "output_type": "execute_result"
    }
   ],
   "source": [
    "#\"PRMJIND1\" & PRMJIND2,  industry codes Primary business industry job 1\n",
    "\n",
    "\"\"\"\n",
    "1 Agriculture, forestry, fishing, and hunting\\\n",
    "2 Mining\n",
    "3 Construction\n",
    "4 Manufacturing\n",
    "5 Wholesale and retail trade\n",
    "6 Transportation and utilities      \n",
    "7 Information\n",
    "8 Financial activities\n",
    "9 Professional and business services\n",
    "10 Educational and health services\n",
    "11 Leisure and hospitality\n",
    "12 Other services\n",
    "13 Public administration\n",
    "14 Armed Forces\"\"\""
   ]
  },
  {
   "cell_type": "code",
   "execution_count": 67,
   "metadata": {},
   "outputs": [
    {
     "data": {
      "text/plain": [
       "'U.S. Census Bureau\\t\\t\\t\\t\\t\\n2020 Current Population Survey Public Use Industry Code List\\t\\t\\t\\t\\t\\n\\t\\t\\t\\t\\t\\n\\t*  0010 - 0560  Agriculture, Forestry, Fishing and Hunting, and Mining\\t\\t\\t\\t\\n\\t*  0770 - 1060  Construction\\t\\t\\t\\t\\n\\t*  1070 - 4060  Manufacturing\\t\\t\\t\\t\\n\\t*  4070 - 4660  Wholesale Trade\\t\\t\\t\\t\\n\\t*  4670 - 6060  Retail Trade\\t\\t\\t\\t\\n\\t*  6070 - 6460, 0570 - 0760  Transportation and Warehousing, and Utilities\\t\\t\\t\\t\\n\\t*  6470 - 6860  Information\\t\\t\\t\\t\\n\\t*  6870 - 7260  Finance and Insurance,  and Real Estate and Rental and Leasing\\t\\t\\t\\t\\n\\t*  7270 - 7790  Professional, Scientific, and Management, and  Administrative and Waste Management Services\\t\\t\\t\\t\\n\\t*  7860 - 8490  Educational Services, and Health Care and Social Assistance\\t\\t\\t\\t\\n\\t*  8560 - 8690  Arts, Entertainment, and Recreation, and  Accommodation and Food Services\\t\\t\\t\\t\\n\\t*  8770 - 9290  Other Services (except Public Administration)\\t\\t\\t\\t\\n\\t*  9370 - 9590  Public Administration\\t\\t\\t\\t\\n\\t*  9890         Military\\t'"
      ]
     },
     "execution_count": 67,
     "metadata": {},
     "output_type": "execute_result"
    }
   ],
   "source": [
    "\"\"\"U.S. Census Bureau\n",
    "2020 Current Population Survey Public Use Industry Code List\t\t\t\t\t\n",
    "\t\t\t\t\t\n",
    "\t*  0010 - 0560  Agriculture, Forestry, Fishing and Hunting, and Mining\t\t\t\t\n",
    "\t*  0770 - 1060  Construction\t\t\t\t\n",
    "\t*  1070 - 4060  Manufacturing\t\t\t\t\n",
    "\t*  4070 - 4660  Wholesale Trade\t\t\t\t\n",
    "\t*  4670 - 6060  Retail Trade\t\t\t\t\n",
    "\t*  6070 - 6460, 0570 - 0760  Transportation and Warehousing, and Utilities\t\t\t\t\n",
    "\t*  6470 - 6860  Information\t\t\t\t\n",
    "\t*  6870 - 7260  Finance and Insurance,  and Real Estate and Rental and Leasing\t\t\t\t\n",
    "\t*  7270 - 7790  Professional, Scientific, and Management, and  Administrative and Waste Management Services\t\t\t\t\n",
    "\t*  7860 - 8490  Educational Services, and Health Care and Social Assistance\t\t\t\t\n",
    "\t*  8560 - 8690  Arts, Entertainment, and Recreation, and  Accommodation and Food Services\t\t\t\t\n",
    "\t*  8770 - 9290  Other Services (except Public Administration)\t\t\t\t\n",
    "\t*  9370 - 9590  Public Administration\t\t\t\t\n",
    "\t*  9890         Military\t\"\"\""
   ]
  },
  {
   "cell_type": "code",
   "execution_count": 20,
   "metadata": {},
   "outputs": [],
   "source": [
    "apr_cleaned = c.clean_CPS_df(apr_2020_df)\n",
    "jul_cleaned = c.clean_CPS_df(jul_2020_df)"
   ]
  },
  {
   "cell_type": "code",
   "execution_count": null,
   "metadata": {},
   "outputs": [],
   "source": []
  },
  {
   "cell_type": "code",
   "execution_count": null,
   "metadata": {},
   "outputs": [],
   "source": []
  }
 ],
 "metadata": {
  "kernelspec": {
   "display_name": "Python 3",
   "language": "python",
   "name": "python3"
  },
  "language_info": {
   "codemirror_mode": {
    "name": "ipython",
    "version": 3
   },
   "file_extension": ".py",
   "mimetype": "text/x-python",
   "name": "python",
   "nbconvert_exporter": "python",
   "pygments_lexer": "ipython3",
   "version": "3.6.10"
  }
 },
 "nbformat": 4,
 "nbformat_minor": 4
}
