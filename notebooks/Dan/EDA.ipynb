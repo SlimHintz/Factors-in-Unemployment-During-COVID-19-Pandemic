{
 "cells": [
  {
   "cell_type": "markdown",
   "metadata": {},
   "source": [
    "# EDA"
   ]
  },
  {
   "cell_type": "markdown",
   "metadata": {},
   "source": [
    "## Month-over-month churn"
   ]
  },
  {
   "cell_type": "markdown",
   "metadata": {},
   "source": [
    "This section attempts to determine the number of households that are re-interviewed in consecutive months in 2020. \n",
    "\n",
    "First, as a proof-of-concept, I'll calculate the number of households that were re-interviewed in Feb 2020 after having been interviewed in Jan 2020."
   ]
  },
  {
   "cell_type": "code",
   "execution_count": 1,
   "metadata": {},
   "outputs": [],
   "source": [
    "%load_ext autoreload\n",
    "%autoreload 2\n",
    "\n",
    "import os\n",
    "import sys\n",
    "\n",
    "module_path = os.path.abspath(os.path.join(os.pardir, os.pardir, 'src'))\n",
    "if module_path not in sys.path:\n",
    "    sys.path.append(module_path)\n",
    "    \n",
    "from modules import dataloading as dl\n",
    "from modules import cleaning as c\n",
    "import pandas as pd\n",
    "targetdir = '../../src/data/'"
   ]
  },
  {
   "cell_type": "code",
   "execution_count": 4,
   "metadata": {},
   "outputs": [
    {
     "ename": "KeyboardInterrupt",
     "evalue": "",
     "output_type": "error",
     "traceback": [
      "\u001b[0;31m---------------------------------------------------------------------------\u001b[0m",
      "\u001b[0;31mKeyboardInterrupt\u001b[0m                         Traceback (most recent call last)",
      "\u001b[0;32m<ipython-input-4-e917d3ab824a>\u001b[0m in \u001b[0;36m<module>\u001b[0;34m()\u001b[0m\n\u001b[1;32m      1\u001b[0m \u001b[0;31m# import data'\u001b[0m\u001b[0;34m\u001b[0m\u001b[0;34m\u001b[0m\u001b[0;34m\u001b[0m\u001b[0m\n\u001b[0;32m----> 2\u001b[0;31m \u001b[0mjan_2020_df\u001b[0m \u001b[0;34m=\u001b[0m \u001b[0mdl\u001b[0m\u001b[0;34m.\u001b[0m\u001b[0mCPS_raw\u001b[0m\u001b[0;34m(\u001b[0m\u001b[0mtargetdir\u001b[0m\u001b[0;34m,\u001b[0m \u001b[0;34m[\u001b[0m\u001b[0;34m'jan2020'\u001b[0m\u001b[0;34m]\u001b[0m\u001b[0;34m,\u001b[0m \u001b[0;32mNone\u001b[0m\u001b[0;34m)\u001b[0m\u001b[0;34m\u001b[0m\u001b[0;34m\u001b[0m\u001b[0m\n\u001b[0m\u001b[1;32m      3\u001b[0m \u001b[0mfeb_2020_df\u001b[0m \u001b[0;34m=\u001b[0m \u001b[0mdl\u001b[0m\u001b[0;34m.\u001b[0m\u001b[0mCPS_raw\u001b[0m\u001b[0;34m(\u001b[0m\u001b[0mtargetdir\u001b[0m\u001b[0;34m,\u001b[0m \u001b[0;34m[\u001b[0m\u001b[0;34m'jan2020'\u001b[0m\u001b[0;34m]\u001b[0m\u001b[0;34m,\u001b[0m \u001b[0;32mNone\u001b[0m\u001b[0;34m)\u001b[0m\u001b[0;34m\u001b[0m\u001b[0;34m\u001b[0m\u001b[0m\n\u001b[1;32m      4\u001b[0m \u001b[0mjan_feb_2020_df\u001b[0m \u001b[0;34m=\u001b[0m \u001b[0mdl\u001b[0m\u001b[0;34m.\u001b[0m\u001b[0mCPS_raw\u001b[0m\u001b[0;34m(\u001b[0m\u001b[0mtargetdir\u001b[0m\u001b[0;34m,\u001b[0m \u001b[0;34m[\u001b[0m\u001b[0;34m'jan2020'\u001b[0m\u001b[0;34m,\u001b[0m \u001b[0;34m'feb2020'\u001b[0m\u001b[0;34m]\u001b[0m\u001b[0;34m,\u001b[0m \u001b[0;32mNone\u001b[0m\u001b[0;34m)\u001b[0m\u001b[0;34m\u001b[0m\u001b[0;34m\u001b[0m\u001b[0m\n",
      "\u001b[0;32m/Users/danielvalenzuela/Documents/Flatiron/Repositories/phase3/Phase3-Proj/src/modules/dataloading.py\u001b[0m in \u001b[0;36mCPS_raw\u001b[0;34m(targetdir, list_of_mmmyyyy, series)\u001b[0m\n\u001b[1;32m     47\u001b[0m \u001b[0;34m\u001b[0m\u001b[0m\n\u001b[1;32m     48\u001b[0m         \u001b[0;31m# Extract files and return locations\u001b[0m\u001b[0;34m\u001b[0m\u001b[0;34m\u001b[0m\u001b[0;34m\u001b[0m\u001b[0m\n\u001b[0;32m---> 49\u001b[0;31m         \u001b[0mfile_locs\u001b[0m \u001b[0;34m=\u001b[0m \u001b[0mURL_DL_ZIP\u001b[0m\u001b[0;34m(\u001b[0m\u001b[0mtargetfile\u001b[0m\u001b[0;34m,\u001b[0m \u001b[0mtargetdir\u001b[0m\u001b[0;34m,\u001b[0m \u001b[0murl\u001b[0m\u001b[0;34m)\u001b[0m\u001b[0;34m\u001b[0m\u001b[0;34m\u001b[0m\u001b[0m\n\u001b[0m\u001b[1;32m     50\u001b[0m \u001b[0;34m\u001b[0m\u001b[0m\n\u001b[1;32m     51\u001b[0m \u001b[0;34m\u001b[0m\u001b[0m\n",
      "\u001b[0;32m/Users/danielvalenzuela/Documents/Flatiron/Repositories/phase3/Phase3-Proj/src/modules/dataloading.py\u001b[0m in \u001b[0;36mURL_DL_ZIP\u001b[0;34m(targetzip, targetdir, url)\u001b[0m\n\u001b[1;32m    238\u001b[0m \u001b[0;34m\u001b[0m\u001b[0m\n\u001b[1;32m    239\u001b[0m     \u001b[0;31m# Save Zip from archived site\u001b[0m\u001b[0;34m\u001b[0m\u001b[0;34m\u001b[0m\u001b[0;34m\u001b[0m\u001b[0m\n\u001b[0;32m--> 240\u001b[0;31m     \u001b[0mr_archive\u001b[0m \u001b[0;34m=\u001b[0m \u001b[0mrequests\u001b[0m\u001b[0;34m.\u001b[0m\u001b[0mget\u001b[0m\u001b[0;34m(\u001b[0m\u001b[0marchive_url\u001b[0m\u001b[0;34m)\u001b[0m\u001b[0;34m\u001b[0m\u001b[0;34m\u001b[0m\u001b[0m\n\u001b[0m\u001b[1;32m    241\u001b[0m     \u001b[0mr_url\u001b[0m \u001b[0;34m=\u001b[0m \u001b[0mrequests\u001b[0m\u001b[0;34m.\u001b[0m\u001b[0mget\u001b[0m\u001b[0;34m(\u001b[0m\u001b[0murl\u001b[0m\u001b[0;34m)\u001b[0m\u001b[0;34m\u001b[0m\u001b[0;34m\u001b[0m\u001b[0m\n\u001b[1;32m    242\u001b[0m     \u001b[0;32mtry\u001b[0m\u001b[0;34m:\u001b[0m\u001b[0;34m\u001b[0m\u001b[0;34m\u001b[0m\u001b[0m\n",
      "\u001b[0;32m/Users/danielvalenzuela/opt/anaconda3/envs/learn-env/lib/python3.6/site-packages/requests/api.py\u001b[0m in \u001b[0;36mget\u001b[0;34m(url, params, **kwargs)\u001b[0m\n\u001b[1;32m     74\u001b[0m \u001b[0;34m\u001b[0m\u001b[0m\n\u001b[1;32m     75\u001b[0m     \u001b[0mkwargs\u001b[0m\u001b[0;34m.\u001b[0m\u001b[0msetdefault\u001b[0m\u001b[0;34m(\u001b[0m\u001b[0;34m'allow_redirects'\u001b[0m\u001b[0;34m,\u001b[0m \u001b[0;32mTrue\u001b[0m\u001b[0;34m)\u001b[0m\u001b[0;34m\u001b[0m\u001b[0;34m\u001b[0m\u001b[0m\n\u001b[0;32m---> 76\u001b[0;31m     \u001b[0;32mreturn\u001b[0m \u001b[0mrequest\u001b[0m\u001b[0;34m(\u001b[0m\u001b[0;34m'get'\u001b[0m\u001b[0;34m,\u001b[0m \u001b[0murl\u001b[0m\u001b[0;34m,\u001b[0m \u001b[0mparams\u001b[0m\u001b[0;34m=\u001b[0m\u001b[0mparams\u001b[0m\u001b[0;34m,\u001b[0m \u001b[0;34m**\u001b[0m\u001b[0mkwargs\u001b[0m\u001b[0;34m)\u001b[0m\u001b[0;34m\u001b[0m\u001b[0;34m\u001b[0m\u001b[0m\n\u001b[0m\u001b[1;32m     77\u001b[0m \u001b[0;34m\u001b[0m\u001b[0m\n\u001b[1;32m     78\u001b[0m \u001b[0;34m\u001b[0m\u001b[0m\n",
      "\u001b[0;32m/Users/danielvalenzuela/opt/anaconda3/envs/learn-env/lib/python3.6/site-packages/requests/api.py\u001b[0m in \u001b[0;36mrequest\u001b[0;34m(method, url, **kwargs)\u001b[0m\n\u001b[1;32m     59\u001b[0m     \u001b[0;31m# cases, and look like a memory leak in others.\u001b[0m\u001b[0;34m\u001b[0m\u001b[0;34m\u001b[0m\u001b[0;34m\u001b[0m\u001b[0m\n\u001b[1;32m     60\u001b[0m     \u001b[0;32mwith\u001b[0m \u001b[0msessions\u001b[0m\u001b[0;34m.\u001b[0m\u001b[0mSession\u001b[0m\u001b[0;34m(\u001b[0m\u001b[0;34m)\u001b[0m \u001b[0;32mas\u001b[0m \u001b[0msession\u001b[0m\u001b[0;34m:\u001b[0m\u001b[0;34m\u001b[0m\u001b[0;34m\u001b[0m\u001b[0m\n\u001b[0;32m---> 61\u001b[0;31m         \u001b[0;32mreturn\u001b[0m \u001b[0msession\u001b[0m\u001b[0;34m.\u001b[0m\u001b[0mrequest\u001b[0m\u001b[0;34m(\u001b[0m\u001b[0mmethod\u001b[0m\u001b[0;34m=\u001b[0m\u001b[0mmethod\u001b[0m\u001b[0;34m,\u001b[0m \u001b[0murl\u001b[0m\u001b[0;34m=\u001b[0m\u001b[0murl\u001b[0m\u001b[0;34m,\u001b[0m \u001b[0;34m**\u001b[0m\u001b[0mkwargs\u001b[0m\u001b[0;34m)\u001b[0m\u001b[0;34m\u001b[0m\u001b[0;34m\u001b[0m\u001b[0m\n\u001b[0m\u001b[1;32m     62\u001b[0m \u001b[0;34m\u001b[0m\u001b[0m\n\u001b[1;32m     63\u001b[0m \u001b[0;34m\u001b[0m\u001b[0m\n",
      "\u001b[0;32m/Users/danielvalenzuela/opt/anaconda3/envs/learn-env/lib/python3.6/site-packages/requests/sessions.py\u001b[0m in \u001b[0;36mrequest\u001b[0;34m(self, method, url, params, data, headers, cookies, files, auth, timeout, allow_redirects, proxies, hooks, stream, verify, cert, json)\u001b[0m\n\u001b[1;32m    528\u001b[0m         }\n\u001b[1;32m    529\u001b[0m         \u001b[0msend_kwargs\u001b[0m\u001b[0;34m.\u001b[0m\u001b[0mupdate\u001b[0m\u001b[0;34m(\u001b[0m\u001b[0msettings\u001b[0m\u001b[0;34m)\u001b[0m\u001b[0;34m\u001b[0m\u001b[0;34m\u001b[0m\u001b[0m\n\u001b[0;32m--> 530\u001b[0;31m         \u001b[0mresp\u001b[0m \u001b[0;34m=\u001b[0m \u001b[0mself\u001b[0m\u001b[0;34m.\u001b[0m\u001b[0msend\u001b[0m\u001b[0;34m(\u001b[0m\u001b[0mprep\u001b[0m\u001b[0;34m,\u001b[0m \u001b[0;34m**\u001b[0m\u001b[0msend_kwargs\u001b[0m\u001b[0;34m)\u001b[0m\u001b[0;34m\u001b[0m\u001b[0;34m\u001b[0m\u001b[0m\n\u001b[0m\u001b[1;32m    531\u001b[0m \u001b[0;34m\u001b[0m\u001b[0m\n\u001b[1;32m    532\u001b[0m         \u001b[0;32mreturn\u001b[0m \u001b[0mresp\u001b[0m\u001b[0;34m\u001b[0m\u001b[0;34m\u001b[0m\u001b[0m\n",
      "\u001b[0;32m/Users/danielvalenzuela/opt/anaconda3/envs/learn-env/lib/python3.6/site-packages/requests/sessions.py\u001b[0m in \u001b[0;36msend\u001b[0;34m(self, request, **kwargs)\u001b[0m\n\u001b[1;32m    683\u001b[0m \u001b[0;34m\u001b[0m\u001b[0m\n\u001b[1;32m    684\u001b[0m         \u001b[0;32mif\u001b[0m \u001b[0;32mnot\u001b[0m \u001b[0mstream\u001b[0m\u001b[0;34m:\u001b[0m\u001b[0;34m\u001b[0m\u001b[0;34m\u001b[0m\u001b[0m\n\u001b[0;32m--> 685\u001b[0;31m             \u001b[0mr\u001b[0m\u001b[0;34m.\u001b[0m\u001b[0mcontent\u001b[0m\u001b[0;34m\u001b[0m\u001b[0;34m\u001b[0m\u001b[0m\n\u001b[0m\u001b[1;32m    686\u001b[0m \u001b[0;34m\u001b[0m\u001b[0m\n\u001b[1;32m    687\u001b[0m         \u001b[0;32mreturn\u001b[0m \u001b[0mr\u001b[0m\u001b[0;34m\u001b[0m\u001b[0;34m\u001b[0m\u001b[0m\n",
      "\u001b[0;32m/Users/danielvalenzuela/opt/anaconda3/envs/learn-env/lib/python3.6/site-packages/requests/models.py\u001b[0m in \u001b[0;36mcontent\u001b[0;34m(self)\u001b[0m\n\u001b[1;32m    827\u001b[0m                 \u001b[0mself\u001b[0m\u001b[0;34m.\u001b[0m\u001b[0m_content\u001b[0m \u001b[0;34m=\u001b[0m \u001b[0;32mNone\u001b[0m\u001b[0;34m\u001b[0m\u001b[0;34m\u001b[0m\u001b[0m\n\u001b[1;32m    828\u001b[0m             \u001b[0;32melse\u001b[0m\u001b[0;34m:\u001b[0m\u001b[0;34m\u001b[0m\u001b[0;34m\u001b[0m\u001b[0m\n\u001b[0;32m--> 829\u001b[0;31m                 \u001b[0mself\u001b[0m\u001b[0;34m.\u001b[0m\u001b[0m_content\u001b[0m \u001b[0;34m=\u001b[0m \u001b[0;34mb''\u001b[0m\u001b[0;34m.\u001b[0m\u001b[0mjoin\u001b[0m\u001b[0;34m(\u001b[0m\u001b[0mself\u001b[0m\u001b[0;34m.\u001b[0m\u001b[0miter_content\u001b[0m\u001b[0;34m(\u001b[0m\u001b[0mCONTENT_CHUNK_SIZE\u001b[0m\u001b[0;34m)\u001b[0m\u001b[0;34m)\u001b[0m \u001b[0;32mor\u001b[0m \u001b[0;34mb''\u001b[0m\u001b[0;34m\u001b[0m\u001b[0;34m\u001b[0m\u001b[0m\n\u001b[0m\u001b[1;32m    830\u001b[0m \u001b[0;34m\u001b[0m\u001b[0m\n\u001b[1;32m    831\u001b[0m         \u001b[0mself\u001b[0m\u001b[0;34m.\u001b[0m\u001b[0m_content_consumed\u001b[0m \u001b[0;34m=\u001b[0m \u001b[0;32mTrue\u001b[0m\u001b[0;34m\u001b[0m\u001b[0;34m\u001b[0m\u001b[0m\n",
      "\u001b[0;32m/Users/danielvalenzuela/opt/anaconda3/envs/learn-env/lib/python3.6/site-packages/requests/models.py\u001b[0m in \u001b[0;36mgenerate\u001b[0;34m()\u001b[0m\n\u001b[1;32m    749\u001b[0m             \u001b[0;32mif\u001b[0m \u001b[0mhasattr\u001b[0m\u001b[0;34m(\u001b[0m\u001b[0mself\u001b[0m\u001b[0;34m.\u001b[0m\u001b[0mraw\u001b[0m\u001b[0;34m,\u001b[0m \u001b[0;34m'stream'\u001b[0m\u001b[0;34m)\u001b[0m\u001b[0;34m:\u001b[0m\u001b[0;34m\u001b[0m\u001b[0;34m\u001b[0m\u001b[0m\n\u001b[1;32m    750\u001b[0m                 \u001b[0;32mtry\u001b[0m\u001b[0;34m:\u001b[0m\u001b[0;34m\u001b[0m\u001b[0;34m\u001b[0m\u001b[0m\n\u001b[0;32m--> 751\u001b[0;31m                     \u001b[0;32mfor\u001b[0m \u001b[0mchunk\u001b[0m \u001b[0;32min\u001b[0m \u001b[0mself\u001b[0m\u001b[0;34m.\u001b[0m\u001b[0mraw\u001b[0m\u001b[0;34m.\u001b[0m\u001b[0mstream\u001b[0m\u001b[0;34m(\u001b[0m\u001b[0mchunk_size\u001b[0m\u001b[0;34m,\u001b[0m \u001b[0mdecode_content\u001b[0m\u001b[0;34m=\u001b[0m\u001b[0;32mTrue\u001b[0m\u001b[0;34m)\u001b[0m\u001b[0;34m:\u001b[0m\u001b[0;34m\u001b[0m\u001b[0;34m\u001b[0m\u001b[0m\n\u001b[0m\u001b[1;32m    752\u001b[0m                         \u001b[0;32myield\u001b[0m \u001b[0mchunk\u001b[0m\u001b[0;34m\u001b[0m\u001b[0;34m\u001b[0m\u001b[0m\n\u001b[1;32m    753\u001b[0m                 \u001b[0;32mexcept\u001b[0m \u001b[0mProtocolError\u001b[0m \u001b[0;32mas\u001b[0m \u001b[0me\u001b[0m\u001b[0;34m:\u001b[0m\u001b[0;34m\u001b[0m\u001b[0;34m\u001b[0m\u001b[0m\n",
      "\u001b[0;32m/Users/danielvalenzuela/opt/anaconda3/envs/learn-env/lib/python3.6/site-packages/urllib3/response.py\u001b[0m in \u001b[0;36mstream\u001b[0;34m(self, amt, decode_content)\u001b[0m\n\u001b[1;32m    569\u001b[0m         \"\"\"\n\u001b[1;32m    570\u001b[0m         \u001b[0;32mif\u001b[0m \u001b[0mself\u001b[0m\u001b[0;34m.\u001b[0m\u001b[0mchunked\u001b[0m \u001b[0;32mand\u001b[0m \u001b[0mself\u001b[0m\u001b[0;34m.\u001b[0m\u001b[0msupports_chunked_reads\u001b[0m\u001b[0;34m(\u001b[0m\u001b[0;34m)\u001b[0m\u001b[0;34m:\u001b[0m\u001b[0;34m\u001b[0m\u001b[0;34m\u001b[0m\u001b[0m\n\u001b[0;32m--> 571\u001b[0;31m             \u001b[0;32mfor\u001b[0m \u001b[0mline\u001b[0m \u001b[0;32min\u001b[0m \u001b[0mself\u001b[0m\u001b[0;34m.\u001b[0m\u001b[0mread_chunked\u001b[0m\u001b[0;34m(\u001b[0m\u001b[0mamt\u001b[0m\u001b[0;34m,\u001b[0m \u001b[0mdecode_content\u001b[0m\u001b[0;34m=\u001b[0m\u001b[0mdecode_content\u001b[0m\u001b[0;34m)\u001b[0m\u001b[0;34m:\u001b[0m\u001b[0;34m\u001b[0m\u001b[0;34m\u001b[0m\u001b[0m\n\u001b[0m\u001b[1;32m    572\u001b[0m                 \u001b[0;32myield\u001b[0m \u001b[0mline\u001b[0m\u001b[0;34m\u001b[0m\u001b[0;34m\u001b[0m\u001b[0m\n\u001b[1;32m    573\u001b[0m         \u001b[0;32melse\u001b[0m\u001b[0;34m:\u001b[0m\u001b[0;34m\u001b[0m\u001b[0;34m\u001b[0m\u001b[0m\n",
      "\u001b[0;32m/Users/danielvalenzuela/opt/anaconda3/envs/learn-env/lib/python3.6/site-packages/urllib3/response.py\u001b[0m in \u001b[0;36mread_chunked\u001b[0;34m(self, amt, decode_content)\u001b[0m\n\u001b[1;32m    764\u001b[0m                 \u001b[0;32mif\u001b[0m \u001b[0mself\u001b[0m\u001b[0;34m.\u001b[0m\u001b[0mchunk_left\u001b[0m \u001b[0;34m==\u001b[0m \u001b[0;36m0\u001b[0m\u001b[0;34m:\u001b[0m\u001b[0;34m\u001b[0m\u001b[0;34m\u001b[0m\u001b[0m\n\u001b[1;32m    765\u001b[0m                     \u001b[0;32mbreak\u001b[0m\u001b[0;34m\u001b[0m\u001b[0;34m\u001b[0m\u001b[0m\n\u001b[0;32m--> 766\u001b[0;31m                 \u001b[0mchunk\u001b[0m \u001b[0;34m=\u001b[0m \u001b[0mself\u001b[0m\u001b[0;34m.\u001b[0m\u001b[0m_handle_chunk\u001b[0m\u001b[0;34m(\u001b[0m\u001b[0mamt\u001b[0m\u001b[0;34m)\u001b[0m\u001b[0;34m\u001b[0m\u001b[0;34m\u001b[0m\u001b[0m\n\u001b[0m\u001b[1;32m    767\u001b[0m                 decoded = self._decode(\n\u001b[1;32m    768\u001b[0m                     \u001b[0mchunk\u001b[0m\u001b[0;34m,\u001b[0m \u001b[0mdecode_content\u001b[0m\u001b[0;34m=\u001b[0m\u001b[0mdecode_content\u001b[0m\u001b[0;34m,\u001b[0m \u001b[0mflush_decoder\u001b[0m\u001b[0;34m=\u001b[0m\u001b[0;32mFalse\u001b[0m\u001b[0;34m\u001b[0m\u001b[0;34m\u001b[0m\u001b[0m\n",
      "\u001b[0;32m/Users/danielvalenzuela/opt/anaconda3/envs/learn-env/lib/python3.6/site-packages/urllib3/response.py\u001b[0m in \u001b[0;36m_handle_chunk\u001b[0;34m(self, amt)\u001b[0m\n\u001b[1;32m    708\u001b[0m             \u001b[0mself\u001b[0m\u001b[0;34m.\u001b[0m\u001b[0mchunk_left\u001b[0m \u001b[0;34m=\u001b[0m \u001b[0;32mNone\u001b[0m\u001b[0;34m\u001b[0m\u001b[0;34m\u001b[0m\u001b[0m\n\u001b[1;32m    709\u001b[0m         \u001b[0;32melif\u001b[0m \u001b[0mamt\u001b[0m \u001b[0;34m<\u001b[0m \u001b[0mself\u001b[0m\u001b[0;34m.\u001b[0m\u001b[0mchunk_left\u001b[0m\u001b[0;34m:\u001b[0m\u001b[0;34m\u001b[0m\u001b[0;34m\u001b[0m\u001b[0m\n\u001b[0;32m--> 710\u001b[0;31m             \u001b[0mvalue\u001b[0m \u001b[0;34m=\u001b[0m \u001b[0mself\u001b[0m\u001b[0;34m.\u001b[0m\u001b[0m_fp\u001b[0m\u001b[0;34m.\u001b[0m\u001b[0m_safe_read\u001b[0m\u001b[0;34m(\u001b[0m\u001b[0mamt\u001b[0m\u001b[0;34m)\u001b[0m\u001b[0;34m\u001b[0m\u001b[0;34m\u001b[0m\u001b[0m\n\u001b[0m\u001b[1;32m    711\u001b[0m             \u001b[0mself\u001b[0m\u001b[0;34m.\u001b[0m\u001b[0mchunk_left\u001b[0m \u001b[0;34m=\u001b[0m \u001b[0mself\u001b[0m\u001b[0;34m.\u001b[0m\u001b[0mchunk_left\u001b[0m \u001b[0;34m-\u001b[0m \u001b[0mamt\u001b[0m\u001b[0;34m\u001b[0m\u001b[0;34m\u001b[0m\u001b[0m\n\u001b[1;32m    712\u001b[0m             \u001b[0mreturned_chunk\u001b[0m \u001b[0;34m=\u001b[0m \u001b[0mvalue\u001b[0m\u001b[0;34m\u001b[0m\u001b[0;34m\u001b[0m\u001b[0m\n",
      "\u001b[0;32m/Users/danielvalenzuela/opt/anaconda3/envs/learn-env/lib/python3.6/http/client.py\u001b[0m in \u001b[0;36m_safe_read\u001b[0;34m(self, amt)\u001b[0m\n\u001b[1;32m    620\u001b[0m         \u001b[0ms\u001b[0m \u001b[0;34m=\u001b[0m \u001b[0;34m[\u001b[0m\u001b[0;34m]\u001b[0m\u001b[0;34m\u001b[0m\u001b[0;34m\u001b[0m\u001b[0m\n\u001b[1;32m    621\u001b[0m         \u001b[0;32mwhile\u001b[0m \u001b[0mamt\u001b[0m \u001b[0;34m>\u001b[0m \u001b[0;36m0\u001b[0m\u001b[0;34m:\u001b[0m\u001b[0;34m\u001b[0m\u001b[0;34m\u001b[0m\u001b[0m\n\u001b[0;32m--> 622\u001b[0;31m             \u001b[0mchunk\u001b[0m \u001b[0;34m=\u001b[0m \u001b[0mself\u001b[0m\u001b[0;34m.\u001b[0m\u001b[0mfp\u001b[0m\u001b[0;34m.\u001b[0m\u001b[0mread\u001b[0m\u001b[0;34m(\u001b[0m\u001b[0mmin\u001b[0m\u001b[0;34m(\u001b[0m\u001b[0mamt\u001b[0m\u001b[0;34m,\u001b[0m \u001b[0mMAXAMOUNT\u001b[0m\u001b[0;34m)\u001b[0m\u001b[0;34m)\u001b[0m\u001b[0;34m\u001b[0m\u001b[0;34m\u001b[0m\u001b[0m\n\u001b[0m\u001b[1;32m    623\u001b[0m             \u001b[0;32mif\u001b[0m \u001b[0;32mnot\u001b[0m \u001b[0mchunk\u001b[0m\u001b[0;34m:\u001b[0m\u001b[0;34m\u001b[0m\u001b[0;34m\u001b[0m\u001b[0m\n\u001b[1;32m    624\u001b[0m                 \u001b[0;32mraise\u001b[0m \u001b[0mIncompleteRead\u001b[0m\u001b[0;34m(\u001b[0m\u001b[0;34mb''\u001b[0m\u001b[0;34m.\u001b[0m\u001b[0mjoin\u001b[0m\u001b[0;34m(\u001b[0m\u001b[0ms\u001b[0m\u001b[0;34m)\u001b[0m\u001b[0;34m,\u001b[0m \u001b[0mamt\u001b[0m\u001b[0;34m)\u001b[0m\u001b[0;34m\u001b[0m\u001b[0;34m\u001b[0m\u001b[0m\n",
      "\u001b[0;32m/Users/danielvalenzuela/opt/anaconda3/envs/learn-env/lib/python3.6/socket.py\u001b[0m in \u001b[0;36mreadinto\u001b[0;34m(self, b)\u001b[0m\n\u001b[1;32m    584\u001b[0m         \u001b[0;32mwhile\u001b[0m \u001b[0;32mTrue\u001b[0m\u001b[0;34m:\u001b[0m\u001b[0;34m\u001b[0m\u001b[0;34m\u001b[0m\u001b[0m\n\u001b[1;32m    585\u001b[0m             \u001b[0;32mtry\u001b[0m\u001b[0;34m:\u001b[0m\u001b[0;34m\u001b[0m\u001b[0;34m\u001b[0m\u001b[0m\n\u001b[0;32m--> 586\u001b[0;31m                 \u001b[0;32mreturn\u001b[0m \u001b[0mself\u001b[0m\u001b[0;34m.\u001b[0m\u001b[0m_sock\u001b[0m\u001b[0;34m.\u001b[0m\u001b[0mrecv_into\u001b[0m\u001b[0;34m(\u001b[0m\u001b[0mb\u001b[0m\u001b[0;34m)\u001b[0m\u001b[0;34m\u001b[0m\u001b[0;34m\u001b[0m\u001b[0m\n\u001b[0m\u001b[1;32m    587\u001b[0m             \u001b[0;32mexcept\u001b[0m \u001b[0mtimeout\u001b[0m\u001b[0;34m:\u001b[0m\u001b[0;34m\u001b[0m\u001b[0;34m\u001b[0m\u001b[0m\n\u001b[1;32m    588\u001b[0m                 \u001b[0mself\u001b[0m\u001b[0;34m.\u001b[0m\u001b[0m_timeout_occurred\u001b[0m \u001b[0;34m=\u001b[0m \u001b[0;32mTrue\u001b[0m\u001b[0;34m\u001b[0m\u001b[0;34m\u001b[0m\u001b[0m\n",
      "\u001b[0;32m/Users/danielvalenzuela/opt/anaconda3/envs/learn-env/lib/python3.6/ssl.py\u001b[0m in \u001b[0;36mrecv_into\u001b[0;34m(self, buffer, nbytes, flags)\u001b[0m\n\u001b[1;32m   1010\u001b[0m                   \u001b[0;34m\"non-zero flags not allowed in calls to recv_into() on %s\"\u001b[0m \u001b[0;34m%\u001b[0m\u001b[0;34m\u001b[0m\u001b[0;34m\u001b[0m\u001b[0m\n\u001b[1;32m   1011\u001b[0m                   self.__class__)\n\u001b[0;32m-> 1012\u001b[0;31m             \u001b[0;32mreturn\u001b[0m \u001b[0mself\u001b[0m\u001b[0;34m.\u001b[0m\u001b[0mread\u001b[0m\u001b[0;34m(\u001b[0m\u001b[0mnbytes\u001b[0m\u001b[0;34m,\u001b[0m \u001b[0mbuffer\u001b[0m\u001b[0;34m)\u001b[0m\u001b[0;34m\u001b[0m\u001b[0;34m\u001b[0m\u001b[0m\n\u001b[0m\u001b[1;32m   1013\u001b[0m         \u001b[0;32melse\u001b[0m\u001b[0;34m:\u001b[0m\u001b[0;34m\u001b[0m\u001b[0;34m\u001b[0m\u001b[0m\n\u001b[1;32m   1014\u001b[0m             \u001b[0;32mreturn\u001b[0m \u001b[0msocket\u001b[0m\u001b[0;34m.\u001b[0m\u001b[0mrecv_into\u001b[0m\u001b[0;34m(\u001b[0m\u001b[0mself\u001b[0m\u001b[0;34m,\u001b[0m \u001b[0mbuffer\u001b[0m\u001b[0;34m,\u001b[0m \u001b[0mnbytes\u001b[0m\u001b[0;34m,\u001b[0m \u001b[0mflags\u001b[0m\u001b[0;34m)\u001b[0m\u001b[0;34m\u001b[0m\u001b[0;34m\u001b[0m\u001b[0m\n",
      "\u001b[0;32m/Users/danielvalenzuela/opt/anaconda3/envs/learn-env/lib/python3.6/ssl.py\u001b[0m in \u001b[0;36mread\u001b[0;34m(self, len, buffer)\u001b[0m\n\u001b[1;32m    872\u001b[0m             \u001b[0;32mraise\u001b[0m \u001b[0mValueError\u001b[0m\u001b[0;34m(\u001b[0m\u001b[0;34m\"Read on closed or unwrapped SSL socket.\"\u001b[0m\u001b[0;34m)\u001b[0m\u001b[0;34m\u001b[0m\u001b[0;34m\u001b[0m\u001b[0m\n\u001b[1;32m    873\u001b[0m         \u001b[0;32mtry\u001b[0m\u001b[0;34m:\u001b[0m\u001b[0;34m\u001b[0m\u001b[0;34m\u001b[0m\u001b[0m\n\u001b[0;32m--> 874\u001b[0;31m             \u001b[0;32mreturn\u001b[0m \u001b[0mself\u001b[0m\u001b[0;34m.\u001b[0m\u001b[0m_sslobj\u001b[0m\u001b[0;34m.\u001b[0m\u001b[0mread\u001b[0m\u001b[0;34m(\u001b[0m\u001b[0mlen\u001b[0m\u001b[0;34m,\u001b[0m \u001b[0mbuffer\u001b[0m\u001b[0;34m)\u001b[0m\u001b[0;34m\u001b[0m\u001b[0;34m\u001b[0m\u001b[0m\n\u001b[0m\u001b[1;32m    875\u001b[0m         \u001b[0;32mexcept\u001b[0m \u001b[0mSSLError\u001b[0m \u001b[0;32mas\u001b[0m \u001b[0mx\u001b[0m\u001b[0;34m:\u001b[0m\u001b[0;34m\u001b[0m\u001b[0;34m\u001b[0m\u001b[0m\n\u001b[1;32m    876\u001b[0m             \u001b[0;32mif\u001b[0m \u001b[0mx\u001b[0m\u001b[0;34m.\u001b[0m\u001b[0margs\u001b[0m\u001b[0;34m[\u001b[0m\u001b[0;36m0\u001b[0m\u001b[0;34m]\u001b[0m \u001b[0;34m==\u001b[0m \u001b[0mSSL_ERROR_EOF\u001b[0m \u001b[0;32mand\u001b[0m \u001b[0mself\u001b[0m\u001b[0;34m.\u001b[0m\u001b[0msuppress_ragged_eofs\u001b[0m\u001b[0;34m:\u001b[0m\u001b[0;34m\u001b[0m\u001b[0;34m\u001b[0m\u001b[0m\n",
      "\u001b[0;32m/Users/danielvalenzuela/opt/anaconda3/envs/learn-env/lib/python3.6/ssl.py\u001b[0m in \u001b[0;36mread\u001b[0;34m(self, len, buffer)\u001b[0m\n\u001b[1;32m    629\u001b[0m         \"\"\"\n\u001b[1;32m    630\u001b[0m         \u001b[0;32mif\u001b[0m \u001b[0mbuffer\u001b[0m \u001b[0;32mis\u001b[0m \u001b[0;32mnot\u001b[0m \u001b[0;32mNone\u001b[0m\u001b[0;34m:\u001b[0m\u001b[0;34m\u001b[0m\u001b[0;34m\u001b[0m\u001b[0m\n\u001b[0;32m--> 631\u001b[0;31m             \u001b[0mv\u001b[0m \u001b[0;34m=\u001b[0m \u001b[0mself\u001b[0m\u001b[0;34m.\u001b[0m\u001b[0m_sslobj\u001b[0m\u001b[0;34m.\u001b[0m\u001b[0mread\u001b[0m\u001b[0;34m(\u001b[0m\u001b[0mlen\u001b[0m\u001b[0;34m,\u001b[0m \u001b[0mbuffer\u001b[0m\u001b[0;34m)\u001b[0m\u001b[0;34m\u001b[0m\u001b[0;34m\u001b[0m\u001b[0m\n\u001b[0m\u001b[1;32m    632\u001b[0m         \u001b[0;32melse\u001b[0m\u001b[0;34m:\u001b[0m\u001b[0;34m\u001b[0m\u001b[0;34m\u001b[0m\u001b[0m\n\u001b[1;32m    633\u001b[0m             \u001b[0mv\u001b[0m \u001b[0;34m=\u001b[0m \u001b[0mself\u001b[0m\u001b[0;34m.\u001b[0m\u001b[0m_sslobj\u001b[0m\u001b[0;34m.\u001b[0m\u001b[0mread\u001b[0m\u001b[0;34m(\u001b[0m\u001b[0mlen\u001b[0m\u001b[0;34m)\u001b[0m\u001b[0;34m\u001b[0m\u001b[0;34m\u001b[0m\u001b[0m\n",
      "\u001b[0;31mKeyboardInterrupt\u001b[0m: "
     ]
    }
   ],
   "source": [
    "# import data'\n",
    "jan_2020_df = dl.CPS_raw(targetdir, ['jan2020'], None)\n",
    "feb_2020_df = dl.CPS_raw(targetdir, ['jan2020'], None)\n",
    "jan_feb_2020_df = dl.CPS_raw(targetdir, ['jan2020', 'feb2020'], None)\n"
   ]
  },
  {
   "cell_type": "code",
   "execution_count": 71,
   "metadata": {},
   "outputs": [],
   "source": [
    "# clean DF\n",
    "jan_2020_df = c.clean_CPS_df(jan_2020_df)\n",
    "feb_2020_df = c.clean_CPS_df(feb_2020_df)\n",
    "jan_feb_2020_df = c.clean_CPS_df(jan_feb_2020_df)"
   ]
  },
  {
   "cell_type": "markdown",
   "metadata": {},
   "source": [
    "## Trying to uniquely identify each row"
   ]
  },
  {
   "cell_type": "code",
   "execution_count": 38,
   "metadata": {},
   "outputs": [
    {
     "data": {
      "text/plain": [
       "count    88822.000000\n",
       "mean         3.129236\n",
       "std          2.380955\n",
       "min          1.000000\n",
       "25%          2.000000\n",
       "50%          2.000000\n",
       "75%          4.000000\n",
       "max         26.000000\n",
       "Name: ID, dtype: float64"
      ]
     },
     "execution_count": 38,
     "metadata": {},
     "output_type": "execute_result"
    }
   ],
   "source": [
    "jan_feb_2020_df.ID.value_counts().describe()"
   ]
  },
  {
   "cell_type": "markdown",
   "metadata": {},
   "source": [
    "It appears that there are a large number of rows with a large number of unique household IDs. We need to check out what differentiates these rows."
   ]
  },
  {
   "cell_type": "markdown",
   "metadata": {},
   "source": [
    "None of the rows in January are duplicates."
   ]
  },
  {
   "cell_type": "code",
   "execution_count": 15,
   "metadata": {},
   "outputs": [
    {
     "data": {
      "text/plain": [
       "False    102952\n",
       "dtype: int64"
      ]
     },
     "execution_count": 15,
     "metadata": {},
     "output_type": "execute_result"
    }
   ],
   "source": [
    "jan_2020_df.groupby('ID').filter(lambda x: len(x) > 1).duplicated().value_counts()"
   ]
  },
  {
   "cell_type": "markdown",
   "metadata": {},
   "source": [
    "By checking the number of people in each household you can tell that HRHHID + HRHHID2 quite literally is about households (combined together they become `HH_ID`. If you include PERRP, the relationship to the reference person, however, you see that you start getting unique identifiers (`IND_ID`). "
   ]
  },
  {
   "cell_type": "code",
   "execution_count": 42,
   "metadata": {},
   "outputs": [
    {
     "data": {
      "text/html": [
       "<div>\n",
       "<style scoped>\n",
       "    .dataframe tbody tr th:only-of-type {\n",
       "        vertical-align: middle;\n",
       "    }\n",
       "\n",
       "    .dataframe tbody tr th {\n",
       "        vertical-align: top;\n",
       "    }\n",
       "\n",
       "    .dataframe thead th {\n",
       "        text-align: right;\n",
       "    }\n",
       "</style>\n",
       "<table border=\"1\" class=\"dataframe\">\n",
       "  <thead>\n",
       "    <tr style=\"text-align: right;\">\n",
       "      <th></th>\n",
       "      <th>HRHHID</th>\n",
       "      <th>HRMONTH</th>\n",
       "      <th>HRYEAR4</th>\n",
       "      <th>HURESPLI</th>\n",
       "      <th>HUFINAL</th>\n",
       "      <th>HETENURE</th>\n",
       "      <th>HEHOUSUT</th>\n",
       "      <th>HETELHHD</th>\n",
       "      <th>HETELAVL</th>\n",
       "      <th>HEPHONEO</th>\n",
       "      <th>...</th>\n",
       "      <th>PECERT1</th>\n",
       "      <th>PECERT2</th>\n",
       "      <th>PECERT3</th>\n",
       "      <th>PXCERT1</th>\n",
       "      <th>PXCERT2</th>\n",
       "      <th>PXCERT3</th>\n",
       "      <th>ID</th>\n",
       "      <th>ID_PERRP</th>\n",
       "      <th>HH_ID</th>\n",
       "      <th>IND_ID</th>\n",
       "    </tr>\n",
       "  </thead>\n",
       "  <tbody>\n",
       "    <tr>\n",
       "      <th>0</th>\n",
       "      <td>4795110719</td>\n",
       "      <td>1</td>\n",
       "      <td>2020</td>\n",
       "      <td>1</td>\n",
       "      <td>201</td>\n",
       "      <td>-1</td>\n",
       "      <td>1</td>\n",
       "      <td>1</td>\n",
       "      <td>-1</td>\n",
       "      <td>1</td>\n",
       "      <td>...</td>\n",
       "      <td>2</td>\n",
       "      <td>-1</td>\n",
       "      <td>-1</td>\n",
       "      <td>20</td>\n",
       "      <td>0</td>\n",
       "      <td>0</td>\n",
       "      <td>47951107199011</td>\n",
       "      <td>4795110719901140</td>\n",
       "      <td>47951107199011</td>\n",
       "      <td>4795110719901140</td>\n",
       "    </tr>\n",
       "    <tr>\n",
       "      <th>1</th>\n",
       "      <td>4795110719</td>\n",
       "      <td>1</td>\n",
       "      <td>2020</td>\n",
       "      <td>1</td>\n",
       "      <td>201</td>\n",
       "      <td>-1</td>\n",
       "      <td>1</td>\n",
       "      <td>1</td>\n",
       "      <td>-1</td>\n",
       "      <td>1</td>\n",
       "      <td>...</td>\n",
       "      <td>2</td>\n",
       "      <td>-1</td>\n",
       "      <td>-1</td>\n",
       "      <td>20</td>\n",
       "      <td>0</td>\n",
       "      <td>0</td>\n",
       "      <td>47951107199011</td>\n",
       "      <td>4795110719901142</td>\n",
       "      <td>47951107199011</td>\n",
       "      <td>4795110719901142</td>\n",
       "    </tr>\n",
       "    <tr>\n",
       "      <th>8</th>\n",
       "      <td>110107755856</td>\n",
       "      <td>1</td>\n",
       "      <td>2020</td>\n",
       "      <td>1</td>\n",
       "      <td>201</td>\n",
       "      <td>-1</td>\n",
       "      <td>1</td>\n",
       "      <td>1</td>\n",
       "      <td>-1</td>\n",
       "      <td>0</td>\n",
       "      <td>...</td>\n",
       "      <td>2</td>\n",
       "      <td>-1</td>\n",
       "      <td>-1</td>\n",
       "      <td>20</td>\n",
       "      <td>0</td>\n",
       "      <td>0</td>\n",
       "      <td>11010775585611111</td>\n",
       "      <td>1101077558561111140</td>\n",
       "      <td>11010775585611111</td>\n",
       "      <td>1101077558561111140</td>\n",
       "    </tr>\n",
       "    <tr>\n",
       "      <th>9</th>\n",
       "      <td>110107755856</td>\n",
       "      <td>1</td>\n",
       "      <td>2020</td>\n",
       "      <td>1</td>\n",
       "      <td>201</td>\n",
       "      <td>-1</td>\n",
       "      <td>1</td>\n",
       "      <td>1</td>\n",
       "      <td>-1</td>\n",
       "      <td>0</td>\n",
       "      <td>...</td>\n",
       "      <td>2</td>\n",
       "      <td>-1</td>\n",
       "      <td>-1</td>\n",
       "      <td>20</td>\n",
       "      <td>0</td>\n",
       "      <td>0</td>\n",
       "      <td>11010775585611111</td>\n",
       "      <td>1101077558561111148</td>\n",
       "      <td>11010775585611111</td>\n",
       "      <td>1101077558561111148</td>\n",
       "    </tr>\n",
       "    <tr>\n",
       "      <th>17</th>\n",
       "      <td>110359424339</td>\n",
       "      <td>1</td>\n",
       "      <td>2020</td>\n",
       "      <td>1</td>\n",
       "      <td>201</td>\n",
       "      <td>-1</td>\n",
       "      <td>1</td>\n",
       "      <td>1</td>\n",
       "      <td>-1</td>\n",
       "      <td>1</td>\n",
       "      <td>...</td>\n",
       "      <td>1</td>\n",
       "      <td>1</td>\n",
       "      <td>1</td>\n",
       "      <td>20</td>\n",
       "      <td>20</td>\n",
       "      <td>20</td>\n",
       "      <td>11035942433910111</td>\n",
       "      <td>1103594243391011140</td>\n",
       "      <td>11035942433910111</td>\n",
       "      <td>1103594243391011140</td>\n",
       "    </tr>\n",
       "    <tr>\n",
       "      <th>18</th>\n",
       "      <td>110359424339</td>\n",
       "      <td>1</td>\n",
       "      <td>2020</td>\n",
       "      <td>1</td>\n",
       "      <td>201</td>\n",
       "      <td>-1</td>\n",
       "      <td>1</td>\n",
       "      <td>1</td>\n",
       "      <td>-1</td>\n",
       "      <td>1</td>\n",
       "      <td>...</td>\n",
       "      <td>2</td>\n",
       "      <td>-1</td>\n",
       "      <td>-1</td>\n",
       "      <td>20</td>\n",
       "      <td>0</td>\n",
       "      <td>0</td>\n",
       "      <td>11035942433910111</td>\n",
       "      <td>1103594243391011150</td>\n",
       "      <td>11035942433910111</td>\n",
       "      <td>1103594243391011150</td>\n",
       "    </tr>\n",
       "  </tbody>\n",
       "</table>\n",
       "<p>6 rows × 391 columns</p>\n",
       "</div>"
      ],
      "text/plain": [
       "          HRHHID  HRMONTH  HRYEAR4  HURESPLI  HUFINAL  HETENURE  HEHOUSUT  \\\n",
       "0     4795110719        1     2020         1      201        -1         1   \n",
       "1     4795110719        1     2020         1      201        -1         1   \n",
       "8   110107755856        1     2020         1      201        -1         1   \n",
       "9   110107755856        1     2020         1      201        -1         1   \n",
       "17  110359424339        1     2020         1      201        -1         1   \n",
       "18  110359424339        1     2020         1      201        -1         1   \n",
       "\n",
       "    HETELHHD  HETELAVL  HEPHONEO  ...  PECERT1  PECERT2  PECERT3  PXCERT1  \\\n",
       "0          1        -1         1  ...        2       -1       -1       20   \n",
       "1          1        -1         1  ...        2       -1       -1       20   \n",
       "8          1        -1         0  ...        2       -1       -1       20   \n",
       "9          1        -1         0  ...        2       -1       -1       20   \n",
       "17         1        -1         1  ...        1        1        1       20   \n",
       "18         1        -1         1  ...        2       -1       -1       20   \n",
       "\n",
       "    PXCERT2  PXCERT3                 ID             ID_PERRP  \\\n",
       "0         0        0     47951107199011     4795110719901140   \n",
       "1         0        0     47951107199011     4795110719901142   \n",
       "8         0        0  11010775585611111  1101077558561111140   \n",
       "9         0        0  11010775585611111  1101077558561111148   \n",
       "17       20       20  11035942433910111  1103594243391011140   \n",
       "18        0        0  11035942433910111  1103594243391011150   \n",
       "\n",
       "                HH_ID               IND_ID  \n",
       "0      47951107199011     4795110719901140  \n",
       "1      47951107199011     4795110719901142  \n",
       "8   11010775585611111  1101077558561111140  \n",
       "9   11010775585611111  1101077558561111148  \n",
       "17  11035942433910111  1103594243391011140  \n",
       "18  11035942433910111  1103594243391011150  \n",
       "\n",
       "[6 rows x 391 columns]"
      ]
     },
     "execution_count": 42,
     "metadata": {},
     "output_type": "execute_result"
    }
   ],
   "source": [
    "jan_2020_df[(jan_2020_df.HRNUMHOU == 2)].head(6)"
   ]
  },
  {
   "cell_type": "code",
   "execution_count": 35,
   "metadata": {},
   "outputs": [
    {
     "data": {
      "text/html": [
       "<div>\n",
       "<style scoped>\n",
       "    .dataframe tbody tr th:only-of-type {\n",
       "        vertical-align: middle;\n",
       "    }\n",
       "\n",
       "    .dataframe tbody tr th {\n",
       "        vertical-align: top;\n",
       "    }\n",
       "\n",
       "    .dataframe thead th {\n",
       "        text-align: right;\n",
       "    }\n",
       "</style>\n",
       "<table border=\"1\" class=\"dataframe\">\n",
       "  <thead>\n",
       "    <tr style=\"text-align: right;\">\n",
       "      <th></th>\n",
       "      <th>HRHHID</th>\n",
       "      <th>HRMONTH</th>\n",
       "      <th>HRYEAR4</th>\n",
       "      <th>HURESPLI</th>\n",
       "      <th>HUFINAL</th>\n",
       "      <th>HETENURE</th>\n",
       "      <th>HEHOUSUT</th>\n",
       "      <th>HETELHHD</th>\n",
       "      <th>HETELAVL</th>\n",
       "      <th>HEPHONEO</th>\n",
       "      <th>...</th>\n",
       "      <th>PEPDEMP2</th>\n",
       "      <th>PTNMEMP2</th>\n",
       "      <th>PECERT1</th>\n",
       "      <th>PECERT2</th>\n",
       "      <th>PECERT3</th>\n",
       "      <th>PXCERT1</th>\n",
       "      <th>PXCERT2</th>\n",
       "      <th>PXCERT3</th>\n",
       "      <th>ID</th>\n",
       "      <th>ID_PERRP</th>\n",
       "    </tr>\n",
       "  </thead>\n",
       "  <tbody>\n",
       "    <tr>\n",
       "      <th>10</th>\n",
       "      <td>110116792163</td>\n",
       "      <td>1</td>\n",
       "      <td>2020</td>\n",
       "      <td>1</td>\n",
       "      <td>201</td>\n",
       "      <td>-1</td>\n",
       "      <td>1</td>\n",
       "      <td>1</td>\n",
       "      <td>-1</td>\n",
       "      <td>1</td>\n",
       "      <td>...</td>\n",
       "      <td>-1</td>\n",
       "      <td>-1</td>\n",
       "      <td>2</td>\n",
       "      <td>-1</td>\n",
       "      <td>-1</td>\n",
       "      <td>20</td>\n",
       "      <td>0</td>\n",
       "      <td>0</td>\n",
       "      <td>11011679216311011</td>\n",
       "      <td>1101167921631101141</td>\n",
       "    </tr>\n",
       "    <tr>\n",
       "      <th>16</th>\n",
       "      <td>110327856469</td>\n",
       "      <td>1</td>\n",
       "      <td>2020</td>\n",
       "      <td>1</td>\n",
       "      <td>201</td>\n",
       "      <td>-1</td>\n",
       "      <td>1</td>\n",
       "      <td>1</td>\n",
       "      <td>-1</td>\n",
       "      <td>1</td>\n",
       "      <td>...</td>\n",
       "      <td>-1</td>\n",
       "      <td>-1</td>\n",
       "      <td>2</td>\n",
       "      <td>-1</td>\n",
       "      <td>-1</td>\n",
       "      <td>20</td>\n",
       "      <td>0</td>\n",
       "      <td>0</td>\n",
       "      <td>1103278564699111</td>\n",
       "      <td>110327856469911141</td>\n",
       "    </tr>\n",
       "    <tr>\n",
       "      <th>19</th>\n",
       "      <td>110405887199</td>\n",
       "      <td>1</td>\n",
       "      <td>2020</td>\n",
       "      <td>1</td>\n",
       "      <td>201</td>\n",
       "      <td>-1</td>\n",
       "      <td>1</td>\n",
       "      <td>1</td>\n",
       "      <td>-1</td>\n",
       "      <td>1</td>\n",
       "      <td>...</td>\n",
       "      <td>-1</td>\n",
       "      <td>-1</td>\n",
       "      <td>2</td>\n",
       "      <td>-1</td>\n",
       "      <td>-1</td>\n",
       "      <td>20</td>\n",
       "      <td>0</td>\n",
       "      <td>0</td>\n",
       "      <td>11040588719911011</td>\n",
       "      <td>1104058871991101141</td>\n",
       "    </tr>\n",
       "    <tr>\n",
       "      <th>22</th>\n",
       "      <td>110447170975</td>\n",
       "      <td>1</td>\n",
       "      <td>2020</td>\n",
       "      <td>1</td>\n",
       "      <td>201</td>\n",
       "      <td>-1</td>\n",
       "      <td>1</td>\n",
       "      <td>1</td>\n",
       "      <td>-1</td>\n",
       "      <td>1</td>\n",
       "      <td>...</td>\n",
       "      <td>-1</td>\n",
       "      <td>-1</td>\n",
       "      <td>2</td>\n",
       "      <td>-1</td>\n",
       "      <td>-1</td>\n",
       "      <td>0</td>\n",
       "      <td>0</td>\n",
       "      <td>0</td>\n",
       "      <td>11044717097511011</td>\n",
       "      <td>1104471709751101141</td>\n",
       "    </tr>\n",
       "    <tr>\n",
       "      <th>29</th>\n",
       "      <td>110509947170</td>\n",
       "      <td>1</td>\n",
       "      <td>2020</td>\n",
       "      <td>1</td>\n",
       "      <td>201</td>\n",
       "      <td>-1</td>\n",
       "      <td>1</td>\n",
       "      <td>1</td>\n",
       "      <td>-1</td>\n",
       "      <td>1</td>\n",
       "      <td>...</td>\n",
       "      <td>-1</td>\n",
       "      <td>-1</td>\n",
       "      <td>1</td>\n",
       "      <td>2</td>\n",
       "      <td>1</td>\n",
       "      <td>20</td>\n",
       "      <td>20</td>\n",
       "      <td>20</td>\n",
       "      <td>11050994717010011</td>\n",
       "      <td>1105099471701001141</td>\n",
       "    </tr>\n",
       "    <tr>\n",
       "      <th>30</th>\n",
       "      <td>110509947170</td>\n",
       "      <td>1</td>\n",
       "      <td>2020</td>\n",
       "      <td>1</td>\n",
       "      <td>201</td>\n",
       "      <td>-1</td>\n",
       "      <td>1</td>\n",
       "      <td>1</td>\n",
       "      <td>-1</td>\n",
       "      <td>1</td>\n",
       "      <td>...</td>\n",
       "      <td>-1</td>\n",
       "      <td>-1</td>\n",
       "      <td>2</td>\n",
       "      <td>-1</td>\n",
       "      <td>-1</td>\n",
       "      <td>20</td>\n",
       "      <td>0</td>\n",
       "      <td>0</td>\n",
       "      <td>1105099471709011</td>\n",
       "      <td>110509947170901141</td>\n",
       "    </tr>\n",
       "  </tbody>\n",
       "</table>\n",
       "<p>6 rows × 389 columns</p>\n",
       "</div>"
      ],
      "text/plain": [
       "          HRHHID  HRMONTH  HRYEAR4  HURESPLI  HUFINAL  HETENURE  HEHOUSUT  \\\n",
       "10  110116792163        1     2020         1      201        -1         1   \n",
       "16  110327856469        1     2020         1      201        -1         1   \n",
       "19  110405887199        1     2020         1      201        -1         1   \n",
       "22  110447170975        1     2020         1      201        -1         1   \n",
       "29  110509947170        1     2020         1      201        -1         1   \n",
       "30  110509947170        1     2020         1      201        -1         1   \n",
       "\n",
       "    HETELHHD  HETELAVL  HEPHONEO  ...  PEPDEMP2  PTNMEMP2  PECERT1  PECERT2  \\\n",
       "10         1        -1         1  ...        -1        -1        2       -1   \n",
       "16         1        -1         1  ...        -1        -1        2       -1   \n",
       "19         1        -1         1  ...        -1        -1        2       -1   \n",
       "22         1        -1         1  ...        -1        -1        2       -1   \n",
       "29         1        -1         1  ...        -1        -1        1        2   \n",
       "30         1        -1         1  ...        -1        -1        2       -1   \n",
       "\n",
       "    PECERT3  PXCERT1  PXCERT2  PXCERT3                 ID             ID_PERRP  \n",
       "10       -1       20        0        0  11011679216311011  1101167921631101141  \n",
       "16       -1       20        0        0   1103278564699111   110327856469911141  \n",
       "19       -1       20        0        0  11040588719911011  1104058871991101141  \n",
       "22       -1        0        0        0  11044717097511011  1104471709751101141  \n",
       "29        1       20       20       20  11050994717010011  1105099471701001141  \n",
       "30       -1       20        0        0   1105099471709011   110509947170901141  \n",
       "\n",
       "[6 rows x 389 columns]"
      ]
     },
     "execution_count": 35,
     "metadata": {},
     "output_type": "execute_result"
    }
   ],
   "source": [
    "jan_2020_df[(jan_2020_df.HRNUMHOU == 1)].head(6)"
   ]
  },
  {
   "cell_type": "code",
   "execution_count": 40,
   "metadata": {},
   "outputs": [
    {
     "data": {
      "text/html": [
       "<div>\n",
       "<style scoped>\n",
       "    .dataframe tbody tr th:only-of-type {\n",
       "        vertical-align: middle;\n",
       "    }\n",
       "\n",
       "    .dataframe tbody tr th {\n",
       "        vertical-align: top;\n",
       "    }\n",
       "\n",
       "    .dataframe thead th {\n",
       "        text-align: right;\n",
       "    }\n",
       "</style>\n",
       "<table border=\"1\" class=\"dataframe\">\n",
       "  <thead>\n",
       "    <tr style=\"text-align: right;\">\n",
       "      <th></th>\n",
       "      <th>HRHHID</th>\n",
       "      <th>HRMONTH</th>\n",
       "      <th>HRYEAR4</th>\n",
       "      <th>HURESPLI</th>\n",
       "      <th>HUFINAL</th>\n",
       "      <th>HETENURE</th>\n",
       "      <th>HEHOUSUT</th>\n",
       "      <th>HETELHHD</th>\n",
       "      <th>HETELAVL</th>\n",
       "      <th>HEPHONEO</th>\n",
       "      <th>...</th>\n",
       "      <th>PECERT1</th>\n",
       "      <th>PECERT2</th>\n",
       "      <th>PECERT3</th>\n",
       "      <th>PXCERT1</th>\n",
       "      <th>PXCERT2</th>\n",
       "      <th>PXCERT3</th>\n",
       "      <th>ID</th>\n",
       "      <th>ID_PERRP</th>\n",
       "      <th>HH_ID</th>\n",
       "      <th>IND_ID</th>\n",
       "    </tr>\n",
       "  </thead>\n",
       "  <tbody>\n",
       "    <tr>\n",
       "      <th>0</th>\n",
       "      <td>4795110719</td>\n",
       "      <td>1</td>\n",
       "      <td>2020</td>\n",
       "      <td>1</td>\n",
       "      <td>201</td>\n",
       "      <td>-1</td>\n",
       "      <td>1</td>\n",
       "      <td>1</td>\n",
       "      <td>-1</td>\n",
       "      <td>1</td>\n",
       "      <td>...</td>\n",
       "      <td>2</td>\n",
       "      <td>-1</td>\n",
       "      <td>-1</td>\n",
       "      <td>20</td>\n",
       "      <td>0</td>\n",
       "      <td>0</td>\n",
       "      <td>47951107199011</td>\n",
       "      <td>4795110719901140</td>\n",
       "      <td>47951107199011</td>\n",
       "      <td>4795110719901140</td>\n",
       "    </tr>\n",
       "    <tr>\n",
       "      <th>1</th>\n",
       "      <td>4795110719</td>\n",
       "      <td>1</td>\n",
       "      <td>2020</td>\n",
       "      <td>1</td>\n",
       "      <td>201</td>\n",
       "      <td>-1</td>\n",
       "      <td>1</td>\n",
       "      <td>1</td>\n",
       "      <td>-1</td>\n",
       "      <td>1</td>\n",
       "      <td>...</td>\n",
       "      <td>2</td>\n",
       "      <td>-1</td>\n",
       "      <td>-1</td>\n",
       "      <td>20</td>\n",
       "      <td>0</td>\n",
       "      <td>0</td>\n",
       "      <td>47951107199011</td>\n",
       "      <td>4795110719901142</td>\n",
       "      <td>47951107199011</td>\n",
       "      <td>4795110719901142</td>\n",
       "    </tr>\n",
       "    <tr>\n",
       "      <th>2</th>\n",
       "      <td>4795110719</td>\n",
       "      <td>1</td>\n",
       "      <td>2020</td>\n",
       "      <td>3</td>\n",
       "      <td>201</td>\n",
       "      <td>-1</td>\n",
       "      <td>1</td>\n",
       "      <td>1</td>\n",
       "      <td>-1</td>\n",
       "      <td>1</td>\n",
       "      <td>...</td>\n",
       "      <td>2</td>\n",
       "      <td>-1</td>\n",
       "      <td>-1</td>\n",
       "      <td>20</td>\n",
       "      <td>0</td>\n",
       "      <td>0</td>\n",
       "      <td>479511071910011</td>\n",
       "      <td>47951107191001140</td>\n",
       "      <td>479511071910011</td>\n",
       "      <td>47951107191001140</td>\n",
       "    </tr>\n",
       "    <tr>\n",
       "      <th>3</th>\n",
       "      <td>4795110719</td>\n",
       "      <td>1</td>\n",
       "      <td>2020</td>\n",
       "      <td>3</td>\n",
       "      <td>201</td>\n",
       "      <td>-1</td>\n",
       "      <td>1</td>\n",
       "      <td>1</td>\n",
       "      <td>-1</td>\n",
       "      <td>1</td>\n",
       "      <td>...</td>\n",
       "      <td>2</td>\n",
       "      <td>-1</td>\n",
       "      <td>-1</td>\n",
       "      <td>20</td>\n",
       "      <td>0</td>\n",
       "      <td>0</td>\n",
       "      <td>479511071910011</td>\n",
       "      <td>47951107191001148</td>\n",
       "      <td>479511071910011</td>\n",
       "      <td>47951107191001148</td>\n",
       "    </tr>\n",
       "    <tr>\n",
       "      <th>4</th>\n",
       "      <td>4795110719</td>\n",
       "      <td>1</td>\n",
       "      <td>2020</td>\n",
       "      <td>3</td>\n",
       "      <td>201</td>\n",
       "      <td>-1</td>\n",
       "      <td>1</td>\n",
       "      <td>1</td>\n",
       "      <td>-1</td>\n",
       "      <td>1</td>\n",
       "      <td>...</td>\n",
       "      <td>2</td>\n",
       "      <td>-1</td>\n",
       "      <td>-1</td>\n",
       "      <td>20</td>\n",
       "      <td>0</td>\n",
       "      <td>0</td>\n",
       "      <td>479511071910011</td>\n",
       "      <td>47951107191001155</td>\n",
       "      <td>479511071910011</td>\n",
       "      <td>47951107191001155</td>\n",
       "    </tr>\n",
       "  </tbody>\n",
       "</table>\n",
       "<p>5 rows × 391 columns</p>\n",
       "</div>"
      ],
      "text/plain": [
       "       HRHHID  HRMONTH  HRYEAR4  HURESPLI  HUFINAL  HETENURE  HEHOUSUT  \\\n",
       "0  4795110719        1     2020         1      201        -1         1   \n",
       "1  4795110719        1     2020         1      201        -1         1   \n",
       "2  4795110719        1     2020         3      201        -1         1   \n",
       "3  4795110719        1     2020         3      201        -1         1   \n",
       "4  4795110719        1     2020         3      201        -1         1   \n",
       "\n",
       "   HETELHHD  HETELAVL  HEPHONEO  ...  PECERT1  PECERT2  PECERT3  PXCERT1  \\\n",
       "0         1        -1         1  ...        2       -1       -1       20   \n",
       "1         1        -1         1  ...        2       -1       -1       20   \n",
       "2         1        -1         1  ...        2       -1       -1       20   \n",
       "3         1        -1         1  ...        2       -1       -1       20   \n",
       "4         1        -1         1  ...        2       -1       -1       20   \n",
       "\n",
       "   PXCERT2  PXCERT3               ID           ID_PERRP            HH_ID  \\\n",
       "0        0        0   47951107199011   4795110719901140   47951107199011   \n",
       "1        0        0   47951107199011   4795110719901142   47951107199011   \n",
       "2        0        0  479511071910011  47951107191001140  479511071910011   \n",
       "3        0        0  479511071910011  47951107191001148  479511071910011   \n",
       "4        0        0  479511071910011  47951107191001155  479511071910011   \n",
       "\n",
       "              IND_ID  \n",
       "0   4795110719901140  \n",
       "1   4795110719901142  \n",
       "2  47951107191001140  \n",
       "3  47951107191001148  \n",
       "4  47951107191001155  \n",
       "\n",
       "[5 rows x 391 columns]"
      ]
     },
     "execution_count": 40,
     "metadata": {},
     "output_type": "execute_result"
    }
   ],
   "source": [
    "jan_2020_df[(jan_2020_df.HRHHID == 4795110719)].head(6)"
   ]
  },
  {
   "cell_type": "markdown",
   "metadata": {},
   "source": [
    "Although initially `IND_ID` could have been a unique identifer, it seems that even in "
   ]
  },
  {
   "cell_type": "code",
   "execution_count": 46,
   "metadata": {},
   "outputs": [
    {
     "name": "stdout",
     "output_type": "stream",
     "text": [
      "(138697, 391)\n"
     ]
    },
    {
     "data": {
      "text/plain": [
       "False    121907\n",
       "True      16790\n",
       "Name: IND_ID, dtype: int64"
      ]
     },
     "execution_count": 46,
     "metadata": {},
     "output_type": "execute_result"
    }
   ],
   "source": [
    "print(jan_2020_df.shape)\n",
    "jan_2020_df.IND_ID.duplicated().value_counts()"
   ]
  },
  {
   "cell_type": "markdown",
   "metadata": {},
   "source": [
    "`IND_ID` = 5440319005164911148 is an individual ID that is repated three times."
   ]
  },
  {
   "cell_type": "code",
   "execution_count": 55,
   "metadata": {},
   "outputs": [
    {
     "data": {
      "text/html": [
       "<div>\n",
       "<style scoped>\n",
       "    .dataframe tbody tr th:only-of-type {\n",
       "        vertical-align: middle;\n",
       "    }\n",
       "\n",
       "    .dataframe tbody tr th {\n",
       "        vertical-align: top;\n",
       "    }\n",
       "\n",
       "    .dataframe thead th {\n",
       "        text-align: right;\n",
       "    }\n",
       "</style>\n",
       "<table border=\"1\" class=\"dataframe\">\n",
       "  <thead>\n",
       "    <tr style=\"text-align: right;\">\n",
       "      <th></th>\n",
       "      <th>HRHHID</th>\n",
       "      <th>HRMONTH</th>\n",
       "      <th>HRYEAR4</th>\n",
       "      <th>HURESPLI</th>\n",
       "      <th>HUFINAL</th>\n",
       "      <th>HETENURE</th>\n",
       "      <th>HEHOUSUT</th>\n",
       "      <th>HETELHHD</th>\n",
       "      <th>HETELAVL</th>\n",
       "      <th>HEPHONEO</th>\n",
       "      <th>...</th>\n",
       "      <th>PECERT1</th>\n",
       "      <th>PECERT2</th>\n",
       "      <th>PECERT3</th>\n",
       "      <th>PXCERT1</th>\n",
       "      <th>PXCERT2</th>\n",
       "      <th>PXCERT3</th>\n",
       "      <th>ID</th>\n",
       "      <th>ID_PERRP</th>\n",
       "      <th>HH_ID</th>\n",
       "      <th>IND_ID</th>\n",
       "    </tr>\n",
       "  </thead>\n",
       "  <tbody>\n",
       "    <tr>\n",
       "      <th>34</th>\n",
       "      <td>110665564993</td>\n",
       "      <td>1</td>\n",
       "      <td>2020</td>\n",
       "      <td>1</td>\n",
       "      <td>201</td>\n",
       "      <td>-1</td>\n",
       "      <td>1</td>\n",
       "      <td>1</td>\n",
       "      <td>-1</td>\n",
       "      <td>1</td>\n",
       "      <td>...</td>\n",
       "      <td>-1</td>\n",
       "      <td>-1</td>\n",
       "      <td>-1</td>\n",
       "      <td>-1</td>\n",
       "      <td>-1</td>\n",
       "      <td>-1</td>\n",
       "      <td>11066556499310011</td>\n",
       "      <td>1106655649931001148</td>\n",
       "      <td>11066556499310011</td>\n",
       "      <td>1106655649931001148</td>\n",
       "    </tr>\n",
       "    <tr>\n",
       "      <th>56</th>\n",
       "      <td>5440319005164</td>\n",
       "      <td>1</td>\n",
       "      <td>2020</td>\n",
       "      <td>2</td>\n",
       "      <td>201</td>\n",
       "      <td>-1</td>\n",
       "      <td>1</td>\n",
       "      <td>1</td>\n",
       "      <td>-1</td>\n",
       "      <td>1</td>\n",
       "      <td>...</td>\n",
       "      <td>-1</td>\n",
       "      <td>-1</td>\n",
       "      <td>-1</td>\n",
       "      <td>-1</td>\n",
       "      <td>-1</td>\n",
       "      <td>-1</td>\n",
       "      <td>54403190051649111</td>\n",
       "      <td>5440319005164911148</td>\n",
       "      <td>54403190051649111</td>\n",
       "      <td>5440319005164911148</td>\n",
       "    </tr>\n",
       "    <tr>\n",
       "      <th>57</th>\n",
       "      <td>5440319005164</td>\n",
       "      <td>1</td>\n",
       "      <td>2020</td>\n",
       "      <td>2</td>\n",
       "      <td>201</td>\n",
       "      <td>-1</td>\n",
       "      <td>1</td>\n",
       "      <td>1</td>\n",
       "      <td>-1</td>\n",
       "      <td>1</td>\n",
       "      <td>...</td>\n",
       "      <td>-1</td>\n",
       "      <td>-1</td>\n",
       "      <td>-1</td>\n",
       "      <td>-1</td>\n",
       "      <td>-1</td>\n",
       "      <td>-1</td>\n",
       "      <td>54403190051649111</td>\n",
       "      <td>5440319005164911148</td>\n",
       "      <td>54403190051649111</td>\n",
       "      <td>5440319005164911148</td>\n",
       "    </tr>\n",
       "    <tr>\n",
       "      <th>58</th>\n",
       "      <td>5440319005164</td>\n",
       "      <td>1</td>\n",
       "      <td>2020</td>\n",
       "      <td>2</td>\n",
       "      <td>201</td>\n",
       "      <td>-1</td>\n",
       "      <td>1</td>\n",
       "      <td>1</td>\n",
       "      <td>-1</td>\n",
       "      <td>1</td>\n",
       "      <td>...</td>\n",
       "      <td>-1</td>\n",
       "      <td>-1</td>\n",
       "      <td>-1</td>\n",
       "      <td>-1</td>\n",
       "      <td>-1</td>\n",
       "      <td>-1</td>\n",
       "      <td>54403190051649111</td>\n",
       "      <td>5440319005164911148</td>\n",
       "      <td>54403190051649111</td>\n",
       "      <td>5440319005164911148</td>\n",
       "    </tr>\n",
       "    <tr>\n",
       "      <th>65</th>\n",
       "      <td>5660614093159</td>\n",
       "      <td>1</td>\n",
       "      <td>2020</td>\n",
       "      <td>1</td>\n",
       "      <td>201</td>\n",
       "      <td>-1</td>\n",
       "      <td>1</td>\n",
       "      <td>1</td>\n",
       "      <td>-1</td>\n",
       "      <td>1</td>\n",
       "      <td>...</td>\n",
       "      <td>2</td>\n",
       "      <td>-1</td>\n",
       "      <td>-1</td>\n",
       "      <td>20</td>\n",
       "      <td>0</td>\n",
       "      <td>0</td>\n",
       "      <td>56606140931599011</td>\n",
       "      <td>5660614093159901151</td>\n",
       "      <td>56606140931599011</td>\n",
       "      <td>5660614093159901151</td>\n",
       "    </tr>\n",
       "    <tr>\n",
       "      <th>...</th>\n",
       "      <td>...</td>\n",
       "      <td>...</td>\n",
       "      <td>...</td>\n",
       "      <td>...</td>\n",
       "      <td>...</td>\n",
       "      <td>...</td>\n",
       "      <td>...</td>\n",
       "      <td>...</td>\n",
       "      <td>...</td>\n",
       "      <td>...</td>\n",
       "      <td>...</td>\n",
       "      <td>...</td>\n",
       "      <td>...</td>\n",
       "      <td>...</td>\n",
       "      <td>...</td>\n",
       "      <td>...</td>\n",
       "      <td>...</td>\n",
       "      <td>...</td>\n",
       "      <td>...</td>\n",
       "      <td>...</td>\n",
       "      <td>...</td>\n",
       "    </tr>\n",
       "    <tr>\n",
       "      <th>138638</th>\n",
       "      <td>802505343610855</td>\n",
       "      <td>1</td>\n",
       "      <td>2020</td>\n",
       "      <td>1</td>\n",
       "      <td>201</td>\n",
       "      <td>-1</td>\n",
       "      <td>1</td>\n",
       "      <td>1</td>\n",
       "      <td>-1</td>\n",
       "      <td>1</td>\n",
       "      <td>...</td>\n",
       "      <td>-1</td>\n",
       "      <td>-1</td>\n",
       "      <td>-1</td>\n",
       "      <td>-1</td>\n",
       "      <td>-1</td>\n",
       "      <td>-1</td>\n",
       "      <td>80250534361085511111</td>\n",
       "      <td>8025053436108551111148</td>\n",
       "      <td>80250534361085511111</td>\n",
       "      <td>8025053436108551111148</td>\n",
       "    </tr>\n",
       "    <tr>\n",
       "      <th>138645</th>\n",
       "      <td>802505349610555</td>\n",
       "      <td>1</td>\n",
       "      <td>2020</td>\n",
       "      <td>1</td>\n",
       "      <td>201</td>\n",
       "      <td>-1</td>\n",
       "      <td>1</td>\n",
       "      <td>1</td>\n",
       "      <td>-1</td>\n",
       "      <td>0</td>\n",
       "      <td>...</td>\n",
       "      <td>-1</td>\n",
       "      <td>-1</td>\n",
       "      <td>-1</td>\n",
       "      <td>-1</td>\n",
       "      <td>-1</td>\n",
       "      <td>-1</td>\n",
       "      <td>8025053496105559011</td>\n",
       "      <td>802505349610555901148</td>\n",
       "      <td>8025053496105559011</td>\n",
       "      <td>802505349610555901148</td>\n",
       "    </tr>\n",
       "    <tr>\n",
       "      <th>138646</th>\n",
       "      <td>802505349610555</td>\n",
       "      <td>1</td>\n",
       "      <td>2020</td>\n",
       "      <td>1</td>\n",
       "      <td>201</td>\n",
       "      <td>-1</td>\n",
       "      <td>1</td>\n",
       "      <td>1</td>\n",
       "      <td>-1</td>\n",
       "      <td>0</td>\n",
       "      <td>...</td>\n",
       "      <td>2</td>\n",
       "      <td>-1</td>\n",
       "      <td>-1</td>\n",
       "      <td>0</td>\n",
       "      <td>0</td>\n",
       "      <td>0</td>\n",
       "      <td>8025053496105559011</td>\n",
       "      <td>802505349610555901148</td>\n",
       "      <td>8025053496105559011</td>\n",
       "      <td>802505349610555901148</td>\n",
       "    </tr>\n",
       "    <tr>\n",
       "      <th>138670</th>\n",
       "      <td>905517039610115</td>\n",
       "      <td>1</td>\n",
       "      <td>2020</td>\n",
       "      <td>2</td>\n",
       "      <td>201</td>\n",
       "      <td>-1</td>\n",
       "      <td>1</td>\n",
       "      <td>1</td>\n",
       "      <td>-1</td>\n",
       "      <td>1</td>\n",
       "      <td>...</td>\n",
       "      <td>-1</td>\n",
       "      <td>-1</td>\n",
       "      <td>-1</td>\n",
       "      <td>-1</td>\n",
       "      <td>-1</td>\n",
       "      <td>-1</td>\n",
       "      <td>9055170396101159012</td>\n",
       "      <td>905517039610115901248</td>\n",
       "      <td>9055170396101159012</td>\n",
       "      <td>905517039610115901248</td>\n",
       "    </tr>\n",
       "    <tr>\n",
       "      <th>138671</th>\n",
       "      <td>905517039610115</td>\n",
       "      <td>1</td>\n",
       "      <td>2020</td>\n",
       "      <td>2</td>\n",
       "      <td>201</td>\n",
       "      <td>-1</td>\n",
       "      <td>1</td>\n",
       "      <td>1</td>\n",
       "      <td>-1</td>\n",
       "      <td>1</td>\n",
       "      <td>...</td>\n",
       "      <td>2</td>\n",
       "      <td>-1</td>\n",
       "      <td>-1</td>\n",
       "      <td>20</td>\n",
       "      <td>0</td>\n",
       "      <td>0</td>\n",
       "      <td>9055170396101159012</td>\n",
       "      <td>905517039610115901248</td>\n",
       "      <td>9055170396101159012</td>\n",
       "      <td>905517039610115901248</td>\n",
       "    </tr>\n",
       "  </tbody>\n",
       "</table>\n",
       "<p>16790 rows × 391 columns</p>\n",
       "</div>"
      ],
      "text/plain": [
       "                 HRHHID  HRMONTH  HRYEAR4  HURESPLI  HUFINAL  HETENURE  \\\n",
       "34         110665564993        1     2020         1      201        -1   \n",
       "56        5440319005164        1     2020         2      201        -1   \n",
       "57        5440319005164        1     2020         2      201        -1   \n",
       "58        5440319005164        1     2020         2      201        -1   \n",
       "65        5660614093159        1     2020         1      201        -1   \n",
       "...                 ...      ...      ...       ...      ...       ...   \n",
       "138638  802505343610855        1     2020         1      201        -1   \n",
       "138645  802505349610555        1     2020         1      201        -1   \n",
       "138646  802505349610555        1     2020         1      201        -1   \n",
       "138670  905517039610115        1     2020         2      201        -1   \n",
       "138671  905517039610115        1     2020         2      201        -1   \n",
       "\n",
       "        HEHOUSUT  HETELHHD  HETELAVL  HEPHONEO  ...  PECERT1  PECERT2  \\\n",
       "34             1         1        -1         1  ...       -1       -1   \n",
       "56             1         1        -1         1  ...       -1       -1   \n",
       "57             1         1        -1         1  ...       -1       -1   \n",
       "58             1         1        -1         1  ...       -1       -1   \n",
       "65             1         1        -1         1  ...        2       -1   \n",
       "...          ...       ...       ...       ...  ...      ...      ...   \n",
       "138638         1         1        -1         1  ...       -1       -1   \n",
       "138645         1         1        -1         0  ...       -1       -1   \n",
       "138646         1         1        -1         0  ...        2       -1   \n",
       "138670         1         1        -1         1  ...       -1       -1   \n",
       "138671         1         1        -1         1  ...        2       -1   \n",
       "\n",
       "        PECERT3  PXCERT1  PXCERT2  PXCERT3                    ID  \\\n",
       "34           -1       -1       -1       -1     11066556499310011   \n",
       "56           -1       -1       -1       -1     54403190051649111   \n",
       "57           -1       -1       -1       -1     54403190051649111   \n",
       "58           -1       -1       -1       -1     54403190051649111   \n",
       "65           -1       20        0        0     56606140931599011   \n",
       "...         ...      ...      ...      ...                   ...   \n",
       "138638       -1       -1       -1       -1  80250534361085511111   \n",
       "138645       -1       -1       -1       -1   8025053496105559011   \n",
       "138646       -1        0        0        0   8025053496105559011   \n",
       "138670       -1       -1       -1       -1   9055170396101159012   \n",
       "138671       -1       20        0        0   9055170396101159012   \n",
       "\n",
       "                      ID_PERRP                 HH_ID                  IND_ID  \n",
       "34         1106655649931001148     11066556499310011     1106655649931001148  \n",
       "56         5440319005164911148     54403190051649111     5440319005164911148  \n",
       "57         5440319005164911148     54403190051649111     5440319005164911148  \n",
       "58         5440319005164911148     54403190051649111     5440319005164911148  \n",
       "65         5660614093159901151     56606140931599011     5660614093159901151  \n",
       "...                        ...                   ...                     ...  \n",
       "138638  8025053436108551111148  80250534361085511111  8025053436108551111148  \n",
       "138645   802505349610555901148   8025053496105559011   802505349610555901148  \n",
       "138646   802505349610555901148   8025053496105559011   802505349610555901148  \n",
       "138670   905517039610115901248   9055170396101159012   905517039610115901248  \n",
       "138671   905517039610115901248   9055170396101159012   905517039610115901248  \n",
       "\n",
       "[16790 rows x 391 columns]"
      ]
     },
     "execution_count": 55,
     "metadata": {},
     "output_type": "execute_result"
    }
   ],
   "source": [
    "jan_2020_df[jan_2020_df.IND_ID.duplicated() == True]"
   ]
  },
  {
   "cell_type": "markdown",
   "metadata": {},
   "source": [
    "The last two digits of `IND_ID` shows the relationship to the reference person. Since thea above `IND_ID` had 48 at the end in three different duplicates of it, then it must be the case that they must all have the same relationship to the reference person. "
   ]
  },
  {
   "cell_type": "code",
   "execution_count": 58,
   "metadata": {},
   "outputs": [
    {
     "data": {
      "text/plain": [
       "48    14109\n",
       "49      708\n",
       "52      511\n",
       "50      414\n",
       "55      382\n",
       "51      262\n",
       "58      136\n",
       "54       79\n",
       "57       69\n",
       "59       68\n",
       "53       39\n",
       "56       13\n",
       "Name: PERRP, dtype: int64"
      ]
     },
     "execution_count": 58,
     "metadata": {},
     "output_type": "execute_result"
    }
   ],
   "source": [
    "jan_2020_df[jan_2020_df.IND_ID.duplicated() == True].PERRP.value_counts()"
   ]
  },
  {
   "cell_type": "markdown",
   "metadata": {},
   "source": [
    "48\tCHILD\n",
    "49\tGRANDCHILD\n",
    "50\tPARENT\n",
    "51\tBROTHER/SISTER\n",
    "52\tOTHER REL. OR REF. PERSON\n",
    "53\tFOSTER CHILD\n",
    "54\tHOUSEMATE/ROOMMATE W/RELS.\n",
    "55\tHOUSEMATE/ROOMMATEW/O RELS.\n",
    "56\tROOMER/BOARDER W/RELS.\n",
    "57\tROOMER/BOARDER W/OUT RELS.\n",
    "58\tNONRELATIVE OF REFERENCE PERSON W/RELS.\n",
    "59\tNONRELATIVE OF REFERENCE PERSON W/OUT RELS."
   ]
  },
  {
   "cell_type": "markdown",
   "metadata": {},
   "source": [
    "Finding out the age for each of the three IND_ID duplicates shows that they are different people. Adding Sex and Age should fix this issue. Will be done in the .py file and executed in cells above."
   ]
  },
  {
   "cell_type": "code",
   "execution_count": 64,
   "metadata": {},
   "outputs": [
    {
     "data": {
      "text/plain": [
       "56     4\n",
       "57     8\n",
       "58    12\n",
       "Name: PRTAGE, dtype: int64"
      ]
     },
     "execution_count": 64,
     "metadata": {},
     "output_type": "execute_result"
    }
   ],
   "source": [
    "jan_2020_df[(jan_2020_df.IND_ID.duplicated() == True) & (jan_2020_df.IND_ID == '5440319005164911148')].PRTAGE"
   ]
  },
  {
   "cell_type": "markdown",
   "metadata": {},
   "source": [
    "Adding sex and age to the individual ID helps a a great bit, but there are still a number of duplicates"
   ]
  },
  {
   "cell_type": "code",
   "execution_count": 66,
   "metadata": {},
   "outputs": [
    {
     "name": "stdout",
     "output_type": "stream",
     "text": [
      "(138697, 392)\n"
     ]
    },
    {
     "data": {
      "text/plain": [
       "False    138020\n",
       "True        677\n",
       "Name: IND_ID_SEX_AGE, dtype: int64"
      ]
     },
     "execution_count": 66,
     "metadata": {},
     "output_type": "execute_result"
    }
   ],
   "source": [
    "print(jan_2020_df.shape)\n",
    "jan_2020_df.IND_ID_SEX_AGE.duplicated().value_counts()"
   ]
  },
  {
   "cell_type": "markdown",
   "metadata": {},
   "source": [
    "You still get duplicates, most likely explained by twins or other similarities. `PULINENO` apparently will help provide unique IDs. https://www2.census.gov/programs-surveys/cps/methodology/How%20To%20Link%20CPS%20Public%20Use%20Files.pdf "
   ]
  },
  {
   "cell_type": "code",
   "execution_count": 70,
   "metadata": {},
   "outputs": [
    {
     "data": {
      "text/plain": [
       "1867510102909711101155120    7\n",
       "503105806229721001155120     5\n",
       "208840315064488901159285     3\n",
       "1903140100441361101157253    3\n",
       "151146401400209901255120     3\n",
       "                            ..\n",
       "15050017074949100114815      1\n",
       "179794090101846901148121     1\n",
       "8025022034103961101148115    1\n",
       "9939601007008031101148115    1\n",
       "3023006719108421001148216    1\n",
       "Name: IND_ID_SEX_AGE, Length: 624, dtype: int64"
      ]
     },
     "execution_count": 70,
     "metadata": {},
     "output_type": "execute_result"
    }
   ],
   "source": [
    "jan_2020_df[jan_2020_df.IND_ID_SEX_AGE.duplicated() == True].IND_ID_SEX_AGE.value_counts()"
   ]
  },
  {
   "cell_type": "code",
   "execution_count": 76,
   "metadata": {},
   "outputs": [
    {
     "data": {
      "text/html": [
       "<div>\n",
       "<style scoped>\n",
       "    .dataframe tbody tr th:only-of-type {\n",
       "        vertical-align: middle;\n",
       "    }\n",
       "\n",
       "    .dataframe tbody tr th {\n",
       "        vertical-align: top;\n",
       "    }\n",
       "\n",
       "    .dataframe thead th {\n",
       "        text-align: right;\n",
       "    }\n",
       "</style>\n",
       "<table border=\"1\" class=\"dataframe\">\n",
       "  <thead>\n",
       "    <tr style=\"text-align: right;\">\n",
       "      <th></th>\n",
       "      <th>HRHHID</th>\n",
       "      <th>HRMONTH</th>\n",
       "      <th>HRYEAR4</th>\n",
       "      <th>HURESPLI</th>\n",
       "      <th>HUFINAL</th>\n",
       "      <th>HETENURE</th>\n",
       "      <th>HEHOUSUT</th>\n",
       "      <th>HETELHHD</th>\n",
       "      <th>HETELAVL</th>\n",
       "      <th>HEPHONEO</th>\n",
       "      <th>...</th>\n",
       "      <th>PECERT3</th>\n",
       "      <th>PXCERT1</th>\n",
       "      <th>PXCERT2</th>\n",
       "      <th>PXCERT3</th>\n",
       "      <th>ID</th>\n",
       "      <th>ID_PERRP</th>\n",
       "      <th>HH_ID</th>\n",
       "      <th>IND_ID</th>\n",
       "      <th>IND_ID_SEX_AGE</th>\n",
       "      <th>IND_ID_FINAL</th>\n",
       "    </tr>\n",
       "  </thead>\n",
       "  <tbody>\n",
       "  </tbody>\n",
       "</table>\n",
       "<p>0 rows × 393 columns</p>\n",
       "</div>"
      ],
      "text/plain": [
       "Empty DataFrame\n",
       "Columns: [HRHHID, HRMONTH, HRYEAR4, HURESPLI, HUFINAL, HETENURE, HEHOUSUT, HETELHHD, HETELAVL, HEPHONEO, HEFAMINC, HUTYPEA, HUTYPB, HUTYPC, HWHHWGT, HRINTSTA, HRNUMHOU, HRHTYPE, HRMIS, HUINTTYP, HUPRSCNT, HRLONGLK, HRHHID2, HUBUS, HUBUSL1, HUBUSL2, HUBUSL3, HUBUSL4, GEREG, GEDIV, GESTFIPS, GTCBSA, GTCO, GTCBSAST, GTMETSTA, GTINDVPC, GTCBSASZ, GTCSA, PERRP, PRTAGE, PRTFAGE, PEMARITL, PESPOUSE, PESEX, PEAFEVER, PEAFNOW, PEEDUCA, PTDTRACE, PRDTHSP, PUCHINHH, PULINENO, PRFAMNUM, PRFAMREL, PRFAMTYP, PEHSPNON, PRMARSTA, PRPERTYP, PENATVTY, PEMNTVTY, PEFNTVTY, PRCITSHP, PRCITFLG, PRINUSYR, PUSLFPRX, PEMLR, PUWK, PUBUS1, PUBUS2OT, PUBUSCK1, PUBUSCK2, PUBUSCK3, PUBUSCK4, PURETOT, PUDIS, PERET1, PUDIS1, PUDIS2, PUABSOT, PULAY, PEABSRSN, PEABSPDO, PEMJOT, PEMJNUM, PEHRUSL1, PEHRUSL2, PEHRFTPT, PEHRUSLT, PEHRWANT, PEHRRSN1, PEHRRSN2, PEHRRSN3, PUHROFF1, PUHROFF2, PUHROT1, PUHROT2, PEHRACT1, PEHRACT2, PEHRACTT, PEHRAVL, PUHRCK1, ...]\n",
       "Index: []\n",
       "\n",
       "[0 rows x 393 columns]"
      ]
     },
     "execution_count": 76,
     "metadata": {},
     "output_type": "execute_result"
    }
   ],
   "source": [
    "jan_2020_df.groupby('IND_ID_FINAL').filter(lambda x: len(x) > 1)"
   ]
  },
  {
   "cell_type": "markdown",
   "metadata": {},
   "source": [
    "No more duplicates"
   ]
  },
  {
   "cell_type": "code",
   "execution_count": 79,
   "metadata": {},
   "outputs": [
    {
     "data": {
      "text/plain": [
       "False    138697\n",
       "Name: IND_ID_FINAL, dtype: int64"
      ]
     },
     "execution_count": 79,
     "metadata": {},
     "output_type": "execute_result"
    }
   ],
   "source": [
    "jan_2020_df.IND_ID_FINAL.duplicated().value_counts()"
   ]
  },
  {
   "cell_type": "markdown",
   "metadata": {},
   "source": [
    "## Determining churn"
   ]
  },
  {
   "cell_type": "markdown",
   "metadata": {},
   "source": [
    "### Jan to Feb"
   ]
  },
  {
   "cell_type": "code",
   "execution_count": 99,
   "metadata": {},
   "outputs": [
    {
     "data": {
      "text/plain": [
       "False    190093\n",
       "True      87852\n",
       "Name: IND_ID_FINAL, dtype: int64"
      ]
     },
     "execution_count": 99,
     "metadata": {},
     "output_type": "execute_result"
    }
   ],
   "source": [
    "churn_value_counts = jan_feb_2020_df.IND_ID_FINAL.duplicated().value_counts()\n",
    "churn_value_counts"
   ]
  },
  {
   "cell_type": "code",
   "execution_count": 97,
   "metadata": {},
   "outputs": [
    {
     "data": {
      "text/plain": [
       "0.3160769216931407"
      ]
     },
     "execution_count": 97,
     "metadata": {},
     "output_type": "execute_result"
    }
   ],
   "source": [
    "non_duplicates = churn_value_counts.values[0]\n",
    "duplicates = churn_value_counts.values[1]\n",
    "\n",
    "retention = duplicates / (duplicates + non_duplicates)\n",
    "retention"
   ]
  },
  {
   "cell_type": "code",
   "execution_count": 86,
   "metadata": {},
   "outputs": [
    {
     "data": {
      "text/html": [
       "<div>\n",
       "<style scoped>\n",
       "    .dataframe tbody tr th:only-of-type {\n",
       "        vertical-align: middle;\n",
       "    }\n",
       "\n",
       "    .dataframe tbody tr th {\n",
       "        vertical-align: top;\n",
       "    }\n",
       "\n",
       "    .dataframe thead th {\n",
       "        text-align: right;\n",
       "    }\n",
       "</style>\n",
       "<table border=\"1\" class=\"dataframe\">\n",
       "  <thead>\n",
       "    <tr style=\"text-align: right;\">\n",
       "      <th></th>\n",
       "      <th>HRHHID</th>\n",
       "      <th>HRMONTH</th>\n",
       "      <th>HRYEAR4</th>\n",
       "      <th>HURESPLI</th>\n",
       "      <th>HUFINAL</th>\n",
       "      <th>HETENURE</th>\n",
       "      <th>HEHOUSUT</th>\n",
       "      <th>HETELHHD</th>\n",
       "      <th>HETELAVL</th>\n",
       "      <th>HEPHONEO</th>\n",
       "      <th>...</th>\n",
       "      <th>PECERT3</th>\n",
       "      <th>PXCERT1</th>\n",
       "      <th>PXCERT2</th>\n",
       "      <th>PXCERT3</th>\n",
       "      <th>ID</th>\n",
       "      <th>ID_PERRP</th>\n",
       "      <th>HH_ID</th>\n",
       "      <th>IND_ID</th>\n",
       "      <th>IND_ID_SEX_AGE</th>\n",
       "      <th>IND_ID_FINAL</th>\n",
       "    </tr>\n",
       "  </thead>\n",
       "  <tbody>\n",
       "    <tr>\n",
       "      <th>0</th>\n",
       "      <td>4795110719</td>\n",
       "      <td>2</td>\n",
       "      <td>2020</td>\n",
       "      <td>1</td>\n",
       "      <td>201</td>\n",
       "      <td>-1</td>\n",
       "      <td>1</td>\n",
       "      <td>1</td>\n",
       "      <td>-1</td>\n",
       "      <td>1</td>\n",
       "      <td>...</td>\n",
       "      <td>-1</td>\n",
       "      <td>20</td>\n",
       "      <td>0</td>\n",
       "      <td>0</td>\n",
       "      <td>47951107199011</td>\n",
       "      <td>4795110719901140</td>\n",
       "      <td>47951107199011</td>\n",
       "      <td>4795110719901140</td>\n",
       "      <td>4795110719901140169</td>\n",
       "      <td>47951107199011401691</td>\n",
       "    </tr>\n",
       "    <tr>\n",
       "      <th>1</th>\n",
       "      <td>4795110719</td>\n",
       "      <td>2</td>\n",
       "      <td>2020</td>\n",
       "      <td>1</td>\n",
       "      <td>201</td>\n",
       "      <td>-1</td>\n",
       "      <td>1</td>\n",
       "      <td>1</td>\n",
       "      <td>-1</td>\n",
       "      <td>1</td>\n",
       "      <td>...</td>\n",
       "      <td>-1</td>\n",
       "      <td>20</td>\n",
       "      <td>0</td>\n",
       "      <td>0</td>\n",
       "      <td>47951107199011</td>\n",
       "      <td>4795110719901142</td>\n",
       "      <td>47951107199011</td>\n",
       "      <td>4795110719901142</td>\n",
       "      <td>4795110719901142265</td>\n",
       "      <td>47951107199011422652</td>\n",
       "    </tr>\n",
       "    <tr>\n",
       "      <th>2</th>\n",
       "      <td>4795110719</td>\n",
       "      <td>2</td>\n",
       "      <td>2020</td>\n",
       "      <td>1</td>\n",
       "      <td>201</td>\n",
       "      <td>-1</td>\n",
       "      <td>1</td>\n",
       "      <td>1</td>\n",
       "      <td>-1</td>\n",
       "      <td>1</td>\n",
       "      <td>...</td>\n",
       "      <td>-1</td>\n",
       "      <td>20</td>\n",
       "      <td>0</td>\n",
       "      <td>0</td>\n",
       "      <td>479511071910011</td>\n",
       "      <td>47951107191001140</td>\n",
       "      <td>479511071910011</td>\n",
       "      <td>47951107191001140</td>\n",
       "      <td>47951107191001140154</td>\n",
       "      <td>479511071910011401541</td>\n",
       "    </tr>\n",
       "    <tr>\n",
       "      <th>4</th>\n",
       "      <td>4795110719</td>\n",
       "      <td>2</td>\n",
       "      <td>2020</td>\n",
       "      <td>1</td>\n",
       "      <td>201</td>\n",
       "      <td>-1</td>\n",
       "      <td>1</td>\n",
       "      <td>1</td>\n",
       "      <td>-1</td>\n",
       "      <td>1</td>\n",
       "      <td>...</td>\n",
       "      <td>-1</td>\n",
       "      <td>20</td>\n",
       "      <td>0</td>\n",
       "      <td>0</td>\n",
       "      <td>479511071910011</td>\n",
       "      <td>47951107191001155</td>\n",
       "      <td>479511071910011</td>\n",
       "      <td>47951107191001155</td>\n",
       "      <td>47951107191001155248</td>\n",
       "      <td>479511071910011552482</td>\n",
       "    </tr>\n",
       "    <tr>\n",
       "      <th>6</th>\n",
       "      <td>71491002941</td>\n",
       "      <td>2</td>\n",
       "      <td>2020</td>\n",
       "      <td>1</td>\n",
       "      <td>201</td>\n",
       "      <td>-1</td>\n",
       "      <td>1</td>\n",
       "      <td>1</td>\n",
       "      <td>-1</td>\n",
       "      <td>1</td>\n",
       "      <td>...</td>\n",
       "      <td>-1</td>\n",
       "      <td>20</td>\n",
       "      <td>0</td>\n",
       "      <td>0</td>\n",
       "      <td>7149100294111111</td>\n",
       "      <td>714910029411111142</td>\n",
       "      <td>7149100294111111</td>\n",
       "      <td>714910029411111142</td>\n",
       "      <td>714910029411111142238</td>\n",
       "      <td>7149100294111111422382</td>\n",
       "    </tr>\n",
       "    <tr>\n",
       "      <th>...</th>\n",
       "      <td>...</td>\n",
       "      <td>...</td>\n",
       "      <td>...</td>\n",
       "      <td>...</td>\n",
       "      <td>...</td>\n",
       "      <td>...</td>\n",
       "      <td>...</td>\n",
       "      <td>...</td>\n",
       "      <td>...</td>\n",
       "      <td>...</td>\n",
       "      <td>...</td>\n",
       "      <td>...</td>\n",
       "      <td>...</td>\n",
       "      <td>...</td>\n",
       "      <td>...</td>\n",
       "      <td>...</td>\n",
       "      <td>...</td>\n",
       "      <td>...</td>\n",
       "      <td>...</td>\n",
       "      <td>...</td>\n",
       "      <td>...</td>\n",
       "    </tr>\n",
       "    <tr>\n",
       "      <th>139235</th>\n",
       "      <td>926363801781501</td>\n",
       "      <td>2</td>\n",
       "      <td>2020</td>\n",
       "      <td>1</td>\n",
       "      <td>201</td>\n",
       "      <td>-1</td>\n",
       "      <td>1</td>\n",
       "      <td>1</td>\n",
       "      <td>-1</td>\n",
       "      <td>1</td>\n",
       "      <td>...</td>\n",
       "      <td>-1</td>\n",
       "      <td>20</td>\n",
       "      <td>0</td>\n",
       "      <td>0</td>\n",
       "      <td>9263638017815019111</td>\n",
       "      <td>926363801781501911140</td>\n",
       "      <td>9263638017815019111</td>\n",
       "      <td>926363801781501911140</td>\n",
       "      <td>926363801781501911140165</td>\n",
       "      <td>9263638017815019111401651</td>\n",
       "    </tr>\n",
       "    <tr>\n",
       "      <th>139236</th>\n",
       "      <td>926363801781501</td>\n",
       "      <td>2</td>\n",
       "      <td>2020</td>\n",
       "      <td>1</td>\n",
       "      <td>201</td>\n",
       "      <td>-1</td>\n",
       "      <td>1</td>\n",
       "      <td>1</td>\n",
       "      <td>-1</td>\n",
       "      <td>1</td>\n",
       "      <td>...</td>\n",
       "      <td>-1</td>\n",
       "      <td>20</td>\n",
       "      <td>0</td>\n",
       "      <td>0</td>\n",
       "      <td>9263638017815019111</td>\n",
       "      <td>926363801781501911142</td>\n",
       "      <td>9263638017815019111</td>\n",
       "      <td>926363801781501911142</td>\n",
       "      <td>926363801781501911142262</td>\n",
       "      <td>9263638017815019111422622</td>\n",
       "    </tr>\n",
       "    <tr>\n",
       "      <th>139238</th>\n",
       "      <td>956729301591507</td>\n",
       "      <td>2</td>\n",
       "      <td>2020</td>\n",
       "      <td>1</td>\n",
       "      <td>201</td>\n",
       "      <td>-1</td>\n",
       "      <td>1</td>\n",
       "      <td>1</td>\n",
       "      <td>-1</td>\n",
       "      <td>0</td>\n",
       "      <td>...</td>\n",
       "      <td>-1</td>\n",
       "      <td>20</td>\n",
       "      <td>0</td>\n",
       "      <td>0</td>\n",
       "      <td>9567293015915079011</td>\n",
       "      <td>956729301591507901142</td>\n",
       "      <td>9567293015915079011</td>\n",
       "      <td>956729301591507901142</td>\n",
       "      <td>956729301591507901142270</td>\n",
       "      <td>9567293015915079011422702</td>\n",
       "    </tr>\n",
       "    <tr>\n",
       "      <th>139241</th>\n",
       "      <td>965568100700708</td>\n",
       "      <td>2</td>\n",
       "      <td>2020</td>\n",
       "      <td>1</td>\n",
       "      <td>223</td>\n",
       "      <td>-1</td>\n",
       "      <td>1</td>\n",
       "      <td>1</td>\n",
       "      <td>-1</td>\n",
       "      <td>1</td>\n",
       "      <td>...</td>\n",
       "      <td>-1</td>\n",
       "      <td>-1</td>\n",
       "      <td>-1</td>\n",
       "      <td>-1</td>\n",
       "      <td>96556810070070811111</td>\n",
       "      <td>96556810070070811111-1</td>\n",
       "      <td>96556810070070811111</td>\n",
       "      <td>96556810070070811111-1</td>\n",
       "      <td>96556810070070811111-1-1-1</td>\n",
       "      <td>96556810070070811111-1-1-1-1</td>\n",
       "    </tr>\n",
       "    <tr>\n",
       "      <th>139242</th>\n",
       "      <td>965568100905718</td>\n",
       "      <td>2</td>\n",
       "      <td>2020</td>\n",
       "      <td>-1</td>\n",
       "      <td>218</td>\n",
       "      <td>-1</td>\n",
       "      <td>1</td>\n",
       "      <td>-1</td>\n",
       "      <td>-1</td>\n",
       "      <td>0</td>\n",
       "      <td>...</td>\n",
       "      <td>-1</td>\n",
       "      <td>-1</td>\n",
       "      <td>-1</td>\n",
       "      <td>-1</td>\n",
       "      <td>96556810090571810011</td>\n",
       "      <td>96556810090571810011-1</td>\n",
       "      <td>96556810090571810011</td>\n",
       "      <td>96556810090571810011-1</td>\n",
       "      <td>96556810090571810011-1-1-1</td>\n",
       "      <td>96556810090571810011-1-1-1-1</td>\n",
       "    </tr>\n",
       "  </tbody>\n",
       "</table>\n",
       "<p>87852 rows × 393 columns</p>\n",
       "</div>"
      ],
      "text/plain": [
       "                 HRHHID  HRMONTH  HRYEAR4  HURESPLI  HUFINAL  HETENURE  \\\n",
       "0            4795110719        2     2020         1      201        -1   \n",
       "1            4795110719        2     2020         1      201        -1   \n",
       "2            4795110719        2     2020         1      201        -1   \n",
       "4            4795110719        2     2020         1      201        -1   \n",
       "6           71491002941        2     2020         1      201        -1   \n",
       "...                 ...      ...      ...       ...      ...       ...   \n",
       "139235  926363801781501        2     2020         1      201        -1   \n",
       "139236  926363801781501        2     2020         1      201        -1   \n",
       "139238  956729301591507        2     2020         1      201        -1   \n",
       "139241  965568100700708        2     2020         1      223        -1   \n",
       "139242  965568100905718        2     2020        -1      218        -1   \n",
       "\n",
       "        HEHOUSUT  HETELHHD  HETELAVL  HEPHONEO  ...  PECERT3  PXCERT1  \\\n",
       "0              1         1        -1         1  ...       -1       20   \n",
       "1              1         1        -1         1  ...       -1       20   \n",
       "2              1         1        -1         1  ...       -1       20   \n",
       "4              1         1        -1         1  ...       -1       20   \n",
       "6              1         1        -1         1  ...       -1       20   \n",
       "...          ...       ...       ...       ...  ...      ...      ...   \n",
       "139235         1         1        -1         1  ...       -1       20   \n",
       "139236         1         1        -1         1  ...       -1       20   \n",
       "139238         1         1        -1         0  ...       -1       20   \n",
       "139241         1         1        -1         1  ...       -1       -1   \n",
       "139242         1        -1        -1         0  ...       -1       -1   \n",
       "\n",
       "        PXCERT2  PXCERT3                    ID                ID_PERRP  \\\n",
       "0             0        0        47951107199011        4795110719901140   \n",
       "1             0        0        47951107199011        4795110719901142   \n",
       "2             0        0       479511071910011       47951107191001140   \n",
       "4             0        0       479511071910011       47951107191001155   \n",
       "6             0        0      7149100294111111      714910029411111142   \n",
       "...         ...      ...                   ...                     ...   \n",
       "139235        0        0   9263638017815019111   926363801781501911140   \n",
       "139236        0        0   9263638017815019111   926363801781501911142   \n",
       "139238        0        0   9567293015915079011   956729301591507901142   \n",
       "139241       -1       -1  96556810070070811111  96556810070070811111-1   \n",
       "139242       -1       -1  96556810090571810011  96556810090571810011-1   \n",
       "\n",
       "                       HH_ID                  IND_ID  \\\n",
       "0             47951107199011        4795110719901140   \n",
       "1             47951107199011        4795110719901142   \n",
       "2            479511071910011       47951107191001140   \n",
       "4            479511071910011       47951107191001155   \n",
       "6           7149100294111111      714910029411111142   \n",
       "...                      ...                     ...   \n",
       "139235   9263638017815019111   926363801781501911140   \n",
       "139236   9263638017815019111   926363801781501911142   \n",
       "139238   9567293015915079011   956729301591507901142   \n",
       "139241  96556810070070811111  96556810070070811111-1   \n",
       "139242  96556810090571810011  96556810090571810011-1   \n",
       "\n",
       "                    IND_ID_SEX_AGE                  IND_ID_FINAL  \n",
       "0              4795110719901140169          47951107199011401691  \n",
       "1              4795110719901142265          47951107199011422652  \n",
       "2             47951107191001140154         479511071910011401541  \n",
       "4             47951107191001155248         479511071910011552482  \n",
       "6            714910029411111142238        7149100294111111422382  \n",
       "...                            ...                           ...  \n",
       "139235    926363801781501911140165     9263638017815019111401651  \n",
       "139236    926363801781501911142262     9263638017815019111422622  \n",
       "139238    956729301591507901142270     9567293015915079011422702  \n",
       "139241  96556810070070811111-1-1-1  96556810070070811111-1-1-1-1  \n",
       "139242  96556810090571810011-1-1-1  96556810090571810011-1-1-1-1  \n",
       "\n",
       "[87852 rows x 393 columns]"
      ]
     },
     "execution_count": 86,
     "metadata": {},
     "output_type": "execute_result"
    }
   ],
   "source": [
    "jan_feb_2020_df[(jan_feb_2020_df.IND_ID_FINAL.duplicated() == True)]"
   ]
  },
  {
   "cell_type": "code",
   "execution_count": 87,
   "metadata": {},
   "outputs": [
    {
     "data": {
      "text/html": [
       "<div>\n",
       "<style scoped>\n",
       "    .dataframe tbody tr th:only-of-type {\n",
       "        vertical-align: middle;\n",
       "    }\n",
       "\n",
       "    .dataframe tbody tr th {\n",
       "        vertical-align: top;\n",
       "    }\n",
       "\n",
       "    .dataframe thead th {\n",
       "        text-align: right;\n",
       "    }\n",
       "</style>\n",
       "<table border=\"1\" class=\"dataframe\">\n",
       "  <thead>\n",
       "    <tr style=\"text-align: right;\">\n",
       "      <th></th>\n",
       "      <th>HRHHID</th>\n",
       "      <th>HRMONTH</th>\n",
       "      <th>HRYEAR4</th>\n",
       "      <th>HURESPLI</th>\n",
       "      <th>HUFINAL</th>\n",
       "      <th>HETENURE</th>\n",
       "      <th>HEHOUSUT</th>\n",
       "      <th>HETELHHD</th>\n",
       "      <th>HETELAVL</th>\n",
       "      <th>HEPHONEO</th>\n",
       "      <th>...</th>\n",
       "      <th>PECERT3</th>\n",
       "      <th>PXCERT1</th>\n",
       "      <th>PXCERT2</th>\n",
       "      <th>PXCERT3</th>\n",
       "      <th>ID</th>\n",
       "      <th>ID_PERRP</th>\n",
       "      <th>HH_ID</th>\n",
       "      <th>IND_ID</th>\n",
       "      <th>IND_ID_SEX_AGE</th>\n",
       "      <th>IND_ID_FINAL</th>\n",
       "    </tr>\n",
       "  </thead>\n",
       "  <tbody>\n",
       "    <tr>\n",
       "      <th>0</th>\n",
       "      <td>4795110719</td>\n",
       "      <td>1</td>\n",
       "      <td>2020</td>\n",
       "      <td>1</td>\n",
       "      <td>201</td>\n",
       "      <td>-1</td>\n",
       "      <td>1</td>\n",
       "      <td>1</td>\n",
       "      <td>-1</td>\n",
       "      <td>1</td>\n",
       "      <td>...</td>\n",
       "      <td>-1</td>\n",
       "      <td>20</td>\n",
       "      <td>0</td>\n",
       "      <td>0</td>\n",
       "      <td>47951107199011</td>\n",
       "      <td>4795110719901140</td>\n",
       "      <td>47951107199011</td>\n",
       "      <td>4795110719901140</td>\n",
       "      <td>4795110719901140169</td>\n",
       "      <td>47951107199011401691</td>\n",
       "    </tr>\n",
       "    <tr>\n",
       "      <th>0</th>\n",
       "      <td>4795110719</td>\n",
       "      <td>2</td>\n",
       "      <td>2020</td>\n",
       "      <td>1</td>\n",
       "      <td>201</td>\n",
       "      <td>-1</td>\n",
       "      <td>1</td>\n",
       "      <td>1</td>\n",
       "      <td>-1</td>\n",
       "      <td>1</td>\n",
       "      <td>...</td>\n",
       "      <td>-1</td>\n",
       "      <td>20</td>\n",
       "      <td>0</td>\n",
       "      <td>0</td>\n",
       "      <td>47951107199011</td>\n",
       "      <td>4795110719901140</td>\n",
       "      <td>47951107199011</td>\n",
       "      <td>4795110719901140</td>\n",
       "      <td>4795110719901140169</td>\n",
       "      <td>47951107199011401691</td>\n",
       "    </tr>\n",
       "  </tbody>\n",
       "</table>\n",
       "<p>2 rows × 393 columns</p>\n",
       "</div>"
      ],
      "text/plain": [
       "       HRHHID  HRMONTH  HRYEAR4  HURESPLI  HUFINAL  HETENURE  HEHOUSUT  \\\n",
       "0  4795110719        1     2020         1      201        -1         1   \n",
       "0  4795110719        2     2020         1      201        -1         1   \n",
       "\n",
       "   HETELHHD  HETELAVL  HEPHONEO  ...  PECERT3  PXCERT1  PXCERT2  PXCERT3  \\\n",
       "0         1        -1         1  ...       -1       20        0        0   \n",
       "0         1        -1         1  ...       -1       20        0        0   \n",
       "\n",
       "               ID          ID_PERRP           HH_ID            IND_ID  \\\n",
       "0  47951107199011  4795110719901140  47951107199011  4795110719901140   \n",
       "0  47951107199011  4795110719901140  47951107199011  4795110719901140   \n",
       "\n",
       "        IND_ID_SEX_AGE          IND_ID_FINAL  \n",
       "0  4795110719901140169  47951107199011401691  \n",
       "0  4795110719901140169  47951107199011401691  \n",
       "\n",
       "[2 rows x 393 columns]"
      ]
     },
     "execution_count": 87,
     "metadata": {},
     "output_type": "execute_result"
    }
   ],
   "source": [
    "jan_feb_2020_df[(jan_feb_2020_df.IND_ID_FINAL == '47951107199011401691')]"
   ]
  },
  {
   "cell_type": "markdown",
   "metadata": {},
   "source": [
    "### Jan to Apr"
   ]
  },
  {
   "cell_type": "code",
   "execution_count": null,
   "metadata": {},
   "outputs": [],
   "source": [
    "jan_apr_2020_df = dl.CPS_raw(targetdir, ['jan2020', 'apr2020'], None)\n",
    "jan_apr_2020_df = c.clean_CPS_df(jan_apr_2020_df)\n",
    "\n"
   ]
  },
  {
   "cell_type": "code",
   "execution_count": 6,
   "metadata": {},
   "outputs": [
    {
     "data": {
      "text/plain": [
       "True     144732\n",
       "False    123347\n",
       "Name: HH_ID, dtype: int64"
      ]
     },
     "execution_count": 6,
     "metadata": {},
     "output_type": "execute_result"
    }
   ],
   "source": [
    "churn_value_counts = jan_apr_2020_df.HH_ID.duplicated().value_counts()\n",
    "churn_value_counts"
   ]
  },
  {
   "cell_type": "code",
   "execution_count": 12,
   "metadata": {},
   "outputs": [
    {
     "data": {
      "text/plain": [
       "0.606781981315327"
      ]
     },
     "execution_count": 12,
     "metadata": {},
     "output_type": "execute_result"
    }
   ],
   "source": [
    "non_duplicates = churn_value_counts.values[1]\n",
    "duplicates = churn_value_counts.values[0]\n",
    "\n",
    "retention = duplicates / (duplicates + non_duplicates)\n",
    "retention"
   ]
  },
  {
   "cell_type": "markdown",
   "metadata": {},
   "source": [
    "### Jan to Mar"
   ]
  },
  {
   "cell_type": "code",
   "execution_count": 8,
   "metadata": {},
   "outputs": [],
   "source": [
    "jan_mar_2020_df = dl.CPS_raw(targetdir, ['jan2020', 'mar2020'], None)\n",
    "jan_mar_2020_df = c.clean_CPS_df(jan_mar_2020_df)"
   ]
  },
  {
   "cell_type": "code",
   "execution_count": 9,
   "metadata": {},
   "outputs": [
    {
     "data": {
      "text/plain": [
       "True     163998\n",
       "False    106277\n",
       "Name: HH_ID, dtype: int64"
      ]
     },
     "execution_count": 9,
     "metadata": {},
     "output_type": "execute_result"
    }
   ],
   "source": [
    "churn_value_counts = jan_mar_2020_df.HH_ID.duplicated().value_counts()\n",
    "churn_value_counts"
   ]
  },
  {
   "cell_type": "code",
   "execution_count": 11,
   "metadata": {},
   "outputs": [
    {
     "data": {
      "text/plain": [
       "0.606781981315327"
      ]
     },
     "execution_count": 11,
     "metadata": {},
     "output_type": "execute_result"
    }
   ],
   "source": [
    "non_duplicates = churn_value_counts.values[1]\n",
    "duplicates = churn_value_counts.values[0]\n",
    "\n",
    "retention = duplicates / (duplicates + non_duplicates)\n",
    "retention"
   ]
  },
  {
   "cell_type": "markdown",
   "metadata": {},
   "source": [
    "### Filtering for Ref person and taking into account age+1"
   ]
  },
  {
   "cell_type": "markdown",
   "metadata": {},
   "source": [
    "#### Number of unique reference people over the number of unique HHs"
   ]
  },
  {
   "cell_type": "markdown",
   "metadata": {},
   "source": [
    "This shows we're nto able to tie unique people to each household"
   ]
  },
  {
   "cell_type": "code",
   "execution_count": 95,
   "metadata": {},
   "outputs": [
    {
     "name": "stdout",
     "output_type": "stream",
     "text": [
      "80808 123347\n"
     ]
    },
    {
     "data": {
      "text/plain": [
       "0.6551274048010897"
      ]
     },
     "execution_count": 95,
     "metadata": {},
     "output_type": "execute_result"
    }
   ],
   "source": [
    "num_of_ref_people = jan_apr_2020_df[((jan_apr_2020_df.PERRP == 40) | (jan_apr_2020_df.PERRP == 41) | (jan_apr_2020_df.PERRP == 41))].HH_ID.unique().shape[0]\n",
    "num_of_HHs = jan_apr_2020_df.HH_ID.unique().shape[0]\n",
    "\n",
    "print(num_of_ref_people, num_of_HHs)\n",
    "num_of_ref_people/num_of_HHs"
   ]
  },
  {
   "cell_type": "markdown",
   "metadata": {},
   "source": [
    "#### Attempting to tie a household to a person"
   ]
  },
  {
   "cell_type": "code",
   "execution_count": 165,
   "metadata": {},
   "outputs": [],
   "source": [
    "mar_2020_df = dl.CPS_raw(targetdir, ['mar2020'], None)\n",
    "jul_2020_df = dl.CPS_raw(targetdir, ['jul2020'], None)"
   ]
  },
  {
   "cell_type": "code",
   "execution_count": 175,
   "metadata": {},
   "outputs": [],
   "source": [
    "mar_2020_df = c.clean_CPS_df(mar_2020_df)\n",
    "jul_2020_df = c.clean_CPS_df(jul_2020_df)"
   ]
  },
  {
   "cell_type": "markdown",
   "metadata": {},
   "source": [
    "The number of unique households in the March 2020 data set is 70,327."
   ]
  },
  {
   "cell_type": "code",
   "execution_count": 80,
   "metadata": {},
   "outputs": [
    {
     "data": {
      "text/plain": [
       "70327"
      ]
     },
     "execution_count": 80,
     "metadata": {},
     "output_type": "execute_result"
    }
   ],
   "source": [
    "mar_2020_df.HH_ID.unique().shape[0]"
   ]
  },
  {
   "cell_type": "markdown",
   "metadata": {},
   "source": [
    "Having the relationship type as `40` or `41` for reference persons doens't yield all the unique IDs available within March. "
   ]
  },
  {
   "cell_type": "code",
   "execution_count": 89,
   "metadata": {},
   "outputs": [
    {
     "data": {
      "text/plain": [
       "False    43627\n",
       "Name: HH_ID, dtype: int64"
      ]
     },
     "execution_count": 89,
     "metadata": {},
     "output_type": "execute_result"
    }
   ],
   "source": [
    "mar_2020_df[((mar_2020_df.PERRP == 40) | (mar_2020_df.PERRP == 41))].HH_ID.duplicated().value_counts()"
   ]
  },
  {
   "cell_type": "markdown",
   "metadata": {},
   "source": [
    "Adding another possible label for reference persons actually yields duplicates in terms of trying to uniquely tie a household to a reference person."
   ]
  },
  {
   "cell_type": "code",
   "execution_count": 91,
   "metadata": {},
   "outputs": [
    {
     "data": {
      "text/plain": [
       "False    43627\n",
       "True      1723\n",
       "Name: HH_ID, dtype: int64"
      ]
     },
     "execution_count": 91,
     "metadata": {},
     "output_type": "execute_result"
    }
   ],
   "source": [
    "mar_2020_df[mar_2020_df.PERRP.isin([40,41,52])].HH_ID.duplicated().value_counts()"
   ]
  },
  {
   "cell_type": "markdown",
   "metadata": {},
   "source": [
    "`48` is a child and will not be reference people so perhaps `-1` will get the unique people"
   ]
  },
  {
   "cell_type": "code",
   "execution_count": 70,
   "metadata": {},
   "outputs": [
    {
     "data": {
      "text/plain": [
       " 40    28179\n",
       " 48    27980\n",
       "-1     26700\n",
       " 42    21351\n",
       " 41    15448\n",
       " 44     1979\n",
       " 49     1901\n",
       " 50     1733\n",
       " 52     1723\n",
       " 55     1269\n",
       " 51     1137\n",
       " 43      590\n",
       " 59      447\n",
       " 58      304\n",
       " 57      233\n",
       " 45      196\n",
       " 54      157\n",
       " 47      136\n",
       " 53       87\n",
       " 46       14\n",
       " 56       14\n",
       "Name: PERRP, dtype: int64"
      ]
     },
     "execution_count": 70,
     "metadata": {},
     "output_type": "execute_result"
    }
   ],
   "source": [
    "mar_2020_df.PERRP.value_counts()"
   ]
  },
  {
   "cell_type": "markdown",
   "metadata": {},
   "source": [
    "**Conclusion**: You're able to uniquely tie a person to each household using 40, 41, and -1 for `PERRP`. **BUT** what is -1?"
   ]
  },
  {
   "cell_type": "code",
   "execution_count": 120,
   "metadata": {},
   "outputs": [
    {
     "data": {
      "text/plain": [
       "False    70327\n",
       "Name: HH_ID, dtype: int64"
      ]
     },
     "execution_count": 120,
     "metadata": {},
     "output_type": "execute_result"
    }
   ],
   "source": [
    "mar_2020_df[(mar_2020_df.PERRP.isin([40,41,-1]))].HH_ID.duplicated().value_counts()"
   ]
  },
  {
   "cell_type": "markdown",
   "metadata": {},
   "source": [
    "#### Joining March and july to find out how many unique HH_IDs there are "
   ]
  },
  {
   "cell_type": "markdown",
   "metadata": {},
   "source": [
    "50% being in both datasets isn't bad but not consistent with what we've seen elsewhere (60% figure has been cited at a dead link). It's possible that March and July are in different cyles and therefore might pull from different pops."
   ]
  },
  {
   "cell_type": "code",
   "execution_count": 61,
   "metadata": {},
   "outputs": [],
   "source": [
    "concat = pd.concat([mar_2020_df, jul_2020_df], join = 'inner', keys = 'HH_ID')"
   ]
  },
  {
   "cell_type": "code",
   "execution_count": 62,
   "metadata": {},
   "outputs": [
    {
     "data": {
      "text/plain": [
       "138963"
      ]
     },
     "execution_count": 62,
     "metadata": {},
     "output_type": "execute_result"
    }
   ],
   "source": [
    "concat.HH_ID.unique().shape[0]"
   ]
  },
  {
   "cell_type": "code",
   "execution_count": 63,
   "metadata": {},
   "outputs": [
    {
     "data": {
      "text/plain": [
       "0.5060843533890316"
      ]
     },
     "execution_count": 63,
     "metadata": {},
     "output_type": "execute_result"
    }
   ],
   "source": [
    "mar_2020_df.HH_ID.unique().shape[0] / concat.HH_ID.unique().shape[0]"
   ]
  },
  {
   "cell_type": "markdown",
   "metadata": {},
   "source": [
    "#### Looking at Apr to July"
   ]
  },
  {
   "cell_type": "code",
   "execution_count": 96,
   "metadata": {},
   "outputs": [],
   "source": [
    "apr_2020_df = dl.CPS_raw(targetdir, ['apr2020'], None)\n"
   ]
  },
  {
   "cell_type": "code",
   "execution_count": 97,
   "metadata": {},
   "outputs": [],
   "source": [
    "apr_2020_df = c.clean_CPS_df(apr_2020_df)\n"
   ]
  },
  {
   "cell_type": "code",
   "execution_count": 102,
   "metadata": {},
   "outputs": [],
   "source": [
    "concat = pd.concat([apr_2020_df, jul_2020_df], join = 'inner', keys = 'HH_ID')\n"
   ]
  },
  {
   "cell_type": "code",
   "execution_count": 103,
   "metadata": {},
   "outputs": [
    {
     "data": {
      "text/plain": [
       "0.5722330287526358"
      ]
     },
     "execution_count": 103,
     "metadata": {},
     "output_type": "execute_result"
    }
   ],
   "source": [
    "apr_2020_df.HH_ID.unique().shape[0] / concat.HH_ID.unique().shape[0]"
   ]
  },
  {
   "cell_type": "code",
   "execution_count": 104,
   "metadata": {},
   "outputs": [
    {
     "data": {
      "text/plain": [
       "70015"
      ]
     },
     "execution_count": 104,
     "metadata": {},
     "output_type": "execute_result"
    }
   ],
   "source": [
    "apr_2020_df.HH_ID.unique().shape[0]"
   ]
  },
  {
   "cell_type": "code",
   "execution_count": null,
   "metadata": {},
   "outputs": [],
   "source": []
  },
  {
   "cell_type": "code",
   "execution_count": null,
   "metadata": {},
   "outputs": [],
   "source": []
  },
  {
   "cell_type": "markdown",
   "metadata": {},
   "source": [
    "This confirms that our method of tying households to individuals still works"
   ]
  },
  {
   "cell_type": "code",
   "execution_count": 137,
   "metadata": {},
   "outputs": [
    {
     "data": {
      "text/plain": [
       "False    70015\n",
       "Name: HH_ID, dtype: int64"
      ]
     },
     "execution_count": 137,
     "metadata": {},
     "output_type": "execute_result"
    }
   ],
   "source": [
    "apr_2020_df[apr_2020_df.PERRP.isin([40,41,-1])].HH_ID.duplicated().value_counts()"
   ]
  },
  {
   "cell_type": "markdown",
   "metadata": {},
   "source": [
    "However the join seems to be making things a little more interesting and needs to be fixed in the actual merge"
   ]
  },
  {
   "cell_type": "code",
   "execution_count": 106,
   "metadata": {},
   "outputs": [
    {
     "data": {
      "text/plain": [
       "False    122354\n",
       "True      16297\n",
       "Name: HH_ID, dtype: int64"
      ]
     },
     "execution_count": 106,
     "metadata": {},
     "output_type": "execute_result"
    }
   ],
   "source": [
    "concat[concat.PERRP.isin([40,41,-1])].HH_ID.duplicated().value_counts()"
   ]
  },
  {
   "cell_type": "code",
   "execution_count": 107,
   "metadata": {},
   "outputs": [
    {
     "data": {
      "text/plain": [
       "False    68636\n",
       "Name: HH_ID, dtype: int64"
      ]
     },
     "execution_count": 107,
     "metadata": {},
     "output_type": "execute_result"
    }
   ],
   "source": [
    "jul_2020_df[jul_2020_df.PERRP.isin([40,41,-1])].HH_ID.duplicated().value_counts()"
   ]
  },
  {
   "cell_type": "code",
   "execution_count": null,
   "metadata": {},
   "outputs": [],
   "source": []
  },
  {
   "cell_type": "markdown",
   "metadata": {},
   "source": [
    "## Drop out from Apr to July"
   ]
  },
  {
   "cell_type": "code",
   "execution_count": 218,
   "metadata": {},
   "outputs": [],
   "source": [
    "merged = pd.merge(apr_2020_df, jul_2020_df, on=['HH_ID'], how='inner')"
   ]
  },
  {
   "cell_type": "code",
   "execution_count": 242,
   "metadata": {},
   "outputs": [
    {
     "name": "stdout",
     "output_type": "stream",
     "text": [
      "5021\n",
      "4432\n"
     ]
    }
   ],
   "source": [
    "adult_LF_apr_jul = merged[(merged.PERRP_x.isin([40,41])) & (merged.PRPERTYP_x == 2) & (merged.PREMPNOT_x.isin([1,2]))]\n",
    "adult_emp_apr_jul = merged[(merged.PERRP_x.isin([40,41])) & (merged.PRPERTYP_x == 2) & (merged.PREMPNOT_x.isin([1]))]\n",
    "print(adult_LF_apr_jul.HH_ID.unique().shape[0])\n",
    "print(adult_emp_apr_jul.HH_ID.unique().shape[0])"
   ]
  },
  {
   "cell_type": "code",
   "execution_count": 251,
   "metadata": {},
   "outputs": [
    {
     "name": "stdout",
     "output_type": "stream",
     "text": [
      "4432\n"
     ]
    }
   ],
   "source": [
    "adult_emp_apr_jul = merged[(merged.PERRP_x.isin([40,41])) & (merged.PRPERTYP_x == 2) & (merged.PREMPNOT_x.isin([1]))]\n",
    "print(adult_emp_apr_jul.HH_ID.unique().shape[0])"
   ]
  },
  {
   "cell_type": "code",
   "execution_count": 246,
   "metadata": {},
   "outputs": [
    {
     "data": {
      "text/plain": [
       "1496"
      ]
     },
     "execution_count": 246,
     "metadata": {},
     "output_type": "execute_result"
    }
   ],
   "source": [
    "emp_to_UE = adult_LF_apr_jul[(adult_LF_apr_jul.PREMPNOT_x) == 1 & (adult_LF_apr_jul.PREMPNOT_y.isin([2,3,4]))]\n",
    "emp_to_UE.HH_ID.unique().shape[0]"
   ]
  },
  {
   "cell_type": "code",
   "execution_count": 248,
   "metadata": {},
   "outputs": [
    {
     "data": {
      "text/plain": [
       "0.33754512635379064"
      ]
     },
     "execution_count": 248,
     "metadata": {},
     "output_type": "execute_result"
    }
   ],
   "source": [
    "emp_to_UE.HH_ID.unique().shape[0] / adult_emp_apr_jul.HH_ID.unique().shape[0]"
   ]
  },
  {
   "cell_type": "markdown",
   "metadata": {},
   "source": [
    "## Geopgraphic Area\n"
   ]
  },
  {
   "cell_type": "code",
   "execution_count": 136,
   "metadata": {},
   "outputs": [
    {
     "data": {
      "text/plain": [
       "1    54892\n",
       "2    14695\n",
       "3      740\n",
       "Name: GTMETSTA, dtype: int64"
      ]
     },
     "execution_count": 136,
     "metadata": {},
     "output_type": "execute_result"
    }
   ],
   "source": [
    "mar_2020_df[mar_2020_df.PERRP.isin([40,41,-1])].GTMETSTA.value_counts()"
   ]
  },
  {
   "cell_type": "code",
   "execution_count": 138,
   "metadata": {},
   "outputs": [
    {
     "data": {
      "text/plain": [
       " 1    49542\n",
       "-1    45610\n",
       " 4    34070\n",
       " 2     2218\n",
       " 3      138\n",
       "Name: PREMPNOT, dtype: int64"
      ]
     },
     "execution_count": 138,
     "metadata": {},
     "output_type": "execute_result"
    }
   ],
   "source": [
    "mar_2020_df.PREMPNOT.value_counts()"
   ]
  },
  {
   "cell_type": "markdown",
   "metadata": {},
   "source": [
    "## Unemployment Numbers among adult heads of household"
   ]
  },
  {
   "cell_type": "markdown",
   "metadata": {},
   "source": [
    "Employment status among adult heads of households, where 1 is employed, 2 is unemployed, 3 is NILF-discouraged and 4 is NILF-other."
   ]
  },
  {
   "cell_type": "code",
   "execution_count": 200,
   "metadata": {},
   "outputs": [],
   "source": [
    "mar_2020_df = dl.CPS_raw(targetdir, ['mar2020'], None)\n",
    "mar_2020_df = c.clean_CPS_df(mar_2020_df)"
   ]
  },
  {
   "cell_type": "code",
   "execution_count": null,
   "metadata": {},
   "outputs": [],
   "source": [
    "jul_2020_df = dl.CPS_raw(targetdir, ['mar2020'], None)\n",
    "mar_2020_df = c.clean_CPS_df(mar_2020_df)"
   ]
  },
  {
   "cell_type": "code",
   "execution_count": 208,
   "metadata": {},
   "outputs": [
    {
     "data": {
      "text/plain": [
       "1    25824\n",
       "2      998\n",
       "Name: PREMPNOT, dtype: int64"
      ]
     },
     "execution_count": 208,
     "metadata": {},
     "output_type": "execute_result"
    }
   ],
   "source": [
    "adult_heads_LF = mar_2020_df[(mar_2020_df.PERRP.isin([40,41])) & (mar_2020_df.PRPERTYP == 2) & (adult_heads.PREMPNOT.isin([1,2]))]\n",
    "adult_heads_LF.PREMPNOT.value_counts()"
   ]
  },
  {
   "cell_type": "markdown",
   "metadata": {},
   "source": [
    "Unweighted analysis of UE rate."
   ]
  },
  {
   "cell_type": "code",
   "execution_count": 209,
   "metadata": {},
   "outputs": [
    {
     "name": "stderr",
     "output_type": "stream",
     "text": [
      "/Users/danielvalenzuela/opt/anaconda3/envs/learn-env/lib/python3.6/site-packages/ipykernel_launcher.py:1: SettingWithCopyWarning: \n",
      "A value is trying to be set on a copy of a slice from a DataFrame.\n",
      "Try using .loc[row_indexer,col_indexer] = value instead\n",
      "\n",
      "See the caveats in the documentation: https://pandas.pydata.org/pandas-docs/stable/user_guide/indexing.html#returning-a-view-versus-a-copy\n",
      "  \"\"\"Entry point for launching an IPython kernel.\n",
      "/Users/danielvalenzuela/opt/anaconda3/envs/learn-env/lib/python3.6/site-packages/pandas/core/indexing.py:1765: SettingWithCopyWarning: \n",
      "A value is trying to be set on a copy of a slice from a DataFrame.\n",
      "Try using .loc[row_indexer,col_indexer] = value instead\n",
      "\n",
      "See the caveats in the documentation: https://pandas.pydata.org/pandas-docs/stable/user_guide/indexing.html#returning-a-view-versus-a-copy\n",
      "  isetter(loc, value)\n",
      "/Users/danielvalenzuela/opt/anaconda3/envs/learn-env/lib/python3.6/site-packages/ipykernel_launcher.py:2: SettingWithCopyWarning: \n",
      "A value is trying to be set on a copy of a slice from a DataFrame.\n",
      "Try using .loc[row_indexer,col_indexer] = value instead\n",
      "\n",
      "See the caveats in the documentation: https://pandas.pydata.org/pandas-docs/stable/user_guide/indexing.html#returning-a-view-versus-a-copy\n",
      "  \n",
      "/Users/danielvalenzuela/opt/anaconda3/envs/learn-env/lib/python3.6/site-packages/pandas/core/indexing.py:1765: SettingWithCopyWarning: \n",
      "A value is trying to be set on a copy of a slice from a DataFrame.\n",
      "Try using .loc[row_indexer,col_indexer] = value instead\n",
      "\n",
      "See the caveats in the documentation: https://pandas.pydata.org/pandas-docs/stable/user_guide/indexing.html#returning-a-view-versus-a-copy\n",
      "  isetter(loc, value)\n"
     ]
    },
    {
     "data": {
      "text/plain": [
       "2         0\n",
       "7         0\n",
       "10        0\n",
       "13        0\n",
       "16        0\n",
       "         ..\n",
       "131547    0\n",
       "131553    0\n",
       "131559    0\n",
       "131570    0\n",
       "131572    0\n",
       "Name: PREMPNOT, Length: 26822, dtype: int64"
      ]
     },
     "execution_count": 209,
     "metadata": {},
     "output_type": "execute_result"
    }
   ],
   "source": [
    "adult_heads_LF[adult_heads_LF.PREMPNOT == 1] = 0\n",
    "adult_heads_LF[adult_heads_LF.PREMPNOT == 2] = 1\n",
    "\n",
    "adult_heads_LF.PREMPNOT"
   ]
  },
  {
   "cell_type": "code",
   "execution_count": 177,
   "metadata": {},
   "outputs": [
    {
     "data": {
      "text/plain": [
       "3.720826187458057"
      ]
     },
     "execution_count": 177,
     "metadata": {},
     "output_type": "execute_result"
    }
   ],
   "source": [
    "num_ue = adult_heads.PREMPNOT.value_counts()[2]\n",
    "num_e = adult_heads.PREMPNOT.value_counts()[1]\n",
    "(num_ue / (num_ue + num_e))*100"
   ]
  },
  {
   "cell_type": "code",
   "execution_count": 178,
   "metadata": {},
   "outputs": [
    {
     "data": {
      "text/html": [
       "<div>\n",
       "<style scoped>\n",
       "    .dataframe tbody tr th:only-of-type {\n",
       "        vertical-align: middle;\n",
       "    }\n",
       "\n",
       "    .dataframe tbody tr th {\n",
       "        vertical-align: top;\n",
       "    }\n",
       "\n",
       "    .dataframe thead th {\n",
       "        text-align: right;\n",
       "    }\n",
       "</style>\n",
       "<table border=\"1\" class=\"dataframe\">\n",
       "  <thead>\n",
       "    <tr style=\"text-align: right;\">\n",
       "      <th></th>\n",
       "      <th>HRHHID</th>\n",
       "      <th>HRMONTH</th>\n",
       "      <th>HRYEAR4</th>\n",
       "      <th>HURESPLI</th>\n",
       "      <th>HUFINAL</th>\n",
       "      <th>HETENURE</th>\n",
       "      <th>HEHOUSUT</th>\n",
       "      <th>HETELHHD</th>\n",
       "      <th>HETELAVL</th>\n",
       "      <th>HEPHONEO</th>\n",
       "      <th>...</th>\n",
       "      <th>PECERT1</th>\n",
       "      <th>PECERT2</th>\n",
       "      <th>PECERT3</th>\n",
       "      <th>PXCERT1</th>\n",
       "      <th>PXCERT2</th>\n",
       "      <th>PXCERT3</th>\n",
       "      <th>HH_ID</th>\n",
       "      <th>IND_ID</th>\n",
       "      <th>IND_ID_SEX_AGE</th>\n",
       "      <th>IND_ID_FINAL</th>\n",
       "    </tr>\n",
       "  </thead>\n",
       "  <tbody>\n",
       "    <tr>\n",
       "      <th>0</th>\n",
       "      <td>4795110719</td>\n",
       "      <td>3</td>\n",
       "      <td>2020</td>\n",
       "      <td>2</td>\n",
       "      <td>201</td>\n",
       "      <td>-1</td>\n",
       "      <td>1</td>\n",
       "      <td>1</td>\n",
       "      <td>-1</td>\n",
       "      <td>1</td>\n",
       "      <td>...</td>\n",
       "      <td>2</td>\n",
       "      <td>-1</td>\n",
       "      <td>-1</td>\n",
       "      <td>20</td>\n",
       "      <td>0</td>\n",
       "      <td>0</td>\n",
       "      <td>47951107199011</td>\n",
       "      <td>4795110719901140</td>\n",
       "      <td>4795110719901140169</td>\n",
       "      <td>47951107199011401691</td>\n",
       "    </tr>\n",
       "    <tr>\n",
       "      <th>2</th>\n",
       "      <td>71491002941</td>\n",
       "      <td>3</td>\n",
       "      <td>2020</td>\n",
       "      <td>1</td>\n",
       "      <td>201</td>\n",
       "      <td>-1</td>\n",
       "      <td>1</td>\n",
       "      <td>1</td>\n",
       "      <td>-1</td>\n",
       "      <td>1</td>\n",
       "      <td>...</td>\n",
       "      <td>2</td>\n",
       "      <td>-1</td>\n",
       "      <td>-1</td>\n",
       "      <td>20</td>\n",
       "      <td>0</td>\n",
       "      <td>0</td>\n",
       "      <td>7149100294111111</td>\n",
       "      <td>714910029411111140</td>\n",
       "      <td>714910029411111140142</td>\n",
       "      <td>7149100294111111401421</td>\n",
       "    </tr>\n",
       "    <tr>\n",
       "      <th>5</th>\n",
       "      <td>110107755856</td>\n",
       "      <td>3</td>\n",
       "      <td>2020</td>\n",
       "      <td>1</td>\n",
       "      <td>201</td>\n",
       "      <td>-1</td>\n",
       "      <td>1</td>\n",
       "      <td>1</td>\n",
       "      <td>-1</td>\n",
       "      <td>0</td>\n",
       "      <td>...</td>\n",
       "      <td>2</td>\n",
       "      <td>-1</td>\n",
       "      <td>-1</td>\n",
       "      <td>20</td>\n",
       "      <td>0</td>\n",
       "      <td>0</td>\n",
       "      <td>11010775585611111</td>\n",
       "      <td>1101077558561111140</td>\n",
       "      <td>1101077558561111140252</td>\n",
       "      <td>11010775585611111402521</td>\n",
       "    </tr>\n",
       "    <tr>\n",
       "      <th>7</th>\n",
       "      <td>110107755856</td>\n",
       "      <td>3</td>\n",
       "      <td>2020</td>\n",
       "      <td>1</td>\n",
       "      <td>201</td>\n",
       "      <td>-1</td>\n",
       "      <td>1</td>\n",
       "      <td>1</td>\n",
       "      <td>-1</td>\n",
       "      <td>1</td>\n",
       "      <td>...</td>\n",
       "      <td>2</td>\n",
       "      <td>-1</td>\n",
       "      <td>-1</td>\n",
       "      <td>0</td>\n",
       "      <td>0</td>\n",
       "      <td>0</td>\n",
       "      <td>11010775585611011</td>\n",
       "      <td>1101077558561101141</td>\n",
       "      <td>1101077558561101141272</td>\n",
       "      <td>11010775585611011412721</td>\n",
       "    </tr>\n",
       "    <tr>\n",
       "      <th>8</th>\n",
       "      <td>110116792163</td>\n",
       "      <td>3</td>\n",
       "      <td>2020</td>\n",
       "      <td>1</td>\n",
       "      <td>201</td>\n",
       "      <td>-1</td>\n",
       "      <td>1</td>\n",
       "      <td>1</td>\n",
       "      <td>-1</td>\n",
       "      <td>1</td>\n",
       "      <td>...</td>\n",
       "      <td>2</td>\n",
       "      <td>-1</td>\n",
       "      <td>-1</td>\n",
       "      <td>20</td>\n",
       "      <td>0</td>\n",
       "      <td>0</td>\n",
       "      <td>11011679216311011</td>\n",
       "      <td>1101167921631101141</td>\n",
       "      <td>1101167921631101141267</td>\n",
       "      <td>11011679216311011412671</td>\n",
       "    </tr>\n",
       "    <tr>\n",
       "      <th>...</th>\n",
       "      <td>...</td>\n",
       "      <td>...</td>\n",
       "      <td>...</td>\n",
       "      <td>...</td>\n",
       "      <td>...</td>\n",
       "      <td>...</td>\n",
       "      <td>...</td>\n",
       "      <td>...</td>\n",
       "      <td>...</td>\n",
       "      <td>...</td>\n",
       "      <td>...</td>\n",
       "      <td>...</td>\n",
       "      <td>...</td>\n",
       "      <td>...</td>\n",
       "      <td>...</td>\n",
       "      <td>...</td>\n",
       "      <td>...</td>\n",
       "      <td>...</td>\n",
       "      <td>...</td>\n",
       "      <td>...</td>\n",
       "      <td>...</td>\n",
       "    </tr>\n",
       "    <tr>\n",
       "      <th>131563</th>\n",
       "      <td>926363801781501</td>\n",
       "      <td>3</td>\n",
       "      <td>2020</td>\n",
       "      <td>1</td>\n",
       "      <td>201</td>\n",
       "      <td>-1</td>\n",
       "      <td>1</td>\n",
       "      <td>1</td>\n",
       "      <td>-1</td>\n",
       "      <td>1</td>\n",
       "      <td>...</td>\n",
       "      <td>2</td>\n",
       "      <td>-1</td>\n",
       "      <td>-1</td>\n",
       "      <td>20</td>\n",
       "      <td>0</td>\n",
       "      <td>0</td>\n",
       "      <td>9263638017815019111</td>\n",
       "      <td>926363801781501911140</td>\n",
       "      <td>926363801781501911140165</td>\n",
       "      <td>9263638017815019111401651</td>\n",
       "    </tr>\n",
       "    <tr>\n",
       "      <th>131565</th>\n",
       "      <td>951968007150648</td>\n",
       "      <td>3</td>\n",
       "      <td>2020</td>\n",
       "      <td>1</td>\n",
       "      <td>201</td>\n",
       "      <td>-1</td>\n",
       "      <td>1</td>\n",
       "      <td>1</td>\n",
       "      <td>-1</td>\n",
       "      <td>0</td>\n",
       "      <td>...</td>\n",
       "      <td>2</td>\n",
       "      <td>-1</td>\n",
       "      <td>-1</td>\n",
       "      <td>0</td>\n",
       "      <td>0</td>\n",
       "      <td>0</td>\n",
       "      <td>9519680071506489011</td>\n",
       "      <td>951968007150648901140</td>\n",
       "      <td>951968007150648901140275</td>\n",
       "      <td>9519680071506489011402751</td>\n",
       "    </tr>\n",
       "    <tr>\n",
       "      <th>131567</th>\n",
       "      <td>956729301591507</td>\n",
       "      <td>3</td>\n",
       "      <td>2020</td>\n",
       "      <td>1</td>\n",
       "      <td>201</td>\n",
       "      <td>-1</td>\n",
       "      <td>1</td>\n",
       "      <td>1</td>\n",
       "      <td>-1</td>\n",
       "      <td>0</td>\n",
       "      <td>...</td>\n",
       "      <td>2</td>\n",
       "      <td>-1</td>\n",
       "      <td>-1</td>\n",
       "      <td>20</td>\n",
       "      <td>0</td>\n",
       "      <td>0</td>\n",
       "      <td>9567293015915079011</td>\n",
       "      <td>956729301591507901140</td>\n",
       "      <td>956729301591507901140177</td>\n",
       "      <td>9567293015915079011401771</td>\n",
       "    </tr>\n",
       "    <tr>\n",
       "      <th>131570</th>\n",
       "      <td>965568200001708</td>\n",
       "      <td>3</td>\n",
       "      <td>2020</td>\n",
       "      <td>1</td>\n",
       "      <td>201</td>\n",
       "      <td>-1</td>\n",
       "      <td>1</td>\n",
       "      <td>1</td>\n",
       "      <td>-1</td>\n",
       "      <td>1</td>\n",
       "      <td>...</td>\n",
       "      <td>2</td>\n",
       "      <td>-1</td>\n",
       "      <td>-1</td>\n",
       "      <td>0</td>\n",
       "      <td>0</td>\n",
       "      <td>0</td>\n",
       "      <td>96556820000170811111</td>\n",
       "      <td>9655682000017081111141</td>\n",
       "      <td>9655682000017081111141139</td>\n",
       "      <td>96556820000170811111411391</td>\n",
       "    </tr>\n",
       "    <tr>\n",
       "      <th>131572</th>\n",
       "      <td>965577120906503</td>\n",
       "      <td>3</td>\n",
       "      <td>2020</td>\n",
       "      <td>1</td>\n",
       "      <td>201</td>\n",
       "      <td>-1</td>\n",
       "      <td>1</td>\n",
       "      <td>1</td>\n",
       "      <td>-1</td>\n",
       "      <td>1</td>\n",
       "      <td>...</td>\n",
       "      <td>1</td>\n",
       "      <td>1</td>\n",
       "      <td>1</td>\n",
       "      <td>20</td>\n",
       "      <td>20</td>\n",
       "      <td>20</td>\n",
       "      <td>96557712090650311011</td>\n",
       "      <td>9655771209065031101140</td>\n",
       "      <td>9655771209065031101140239</td>\n",
       "      <td>96557712090650311011402391</td>\n",
       "    </tr>\n",
       "  </tbody>\n",
       "</table>\n",
       "<p>43443 rows × 391 columns</p>\n",
       "</div>"
      ],
      "text/plain": [
       "                 HRHHID  HRMONTH  HRYEAR4  HURESPLI  HUFINAL  HETENURE  \\\n",
       "0            4795110719        3     2020         2      201        -1   \n",
       "2           71491002941        3     2020         1      201        -1   \n",
       "5          110107755856        3     2020         1      201        -1   \n",
       "7          110107755856        3     2020         1      201        -1   \n",
       "8          110116792163        3     2020         1      201        -1   \n",
       "...                 ...      ...      ...       ...      ...       ...   \n",
       "131563  926363801781501        3     2020         1      201        -1   \n",
       "131565  951968007150648        3     2020         1      201        -1   \n",
       "131567  956729301591507        3     2020         1      201        -1   \n",
       "131570  965568200001708        3     2020         1      201        -1   \n",
       "131572  965577120906503        3     2020         1      201        -1   \n",
       "\n",
       "        HEHOUSUT  HETELHHD  HETELAVL  HEPHONEO  ...  PECERT1  PECERT2  \\\n",
       "0              1         1        -1         1  ...        2       -1   \n",
       "2              1         1        -1         1  ...        2       -1   \n",
       "5              1         1        -1         0  ...        2       -1   \n",
       "7              1         1        -1         1  ...        2       -1   \n",
       "8              1         1        -1         1  ...        2       -1   \n",
       "...          ...       ...       ...       ...  ...      ...      ...   \n",
       "131563         1         1        -1         1  ...        2       -1   \n",
       "131565         1         1        -1         0  ...        2       -1   \n",
       "131567         1         1        -1         0  ...        2       -1   \n",
       "131570         1         1        -1         1  ...        2       -1   \n",
       "131572         1         1        -1         1  ...        1        1   \n",
       "\n",
       "        PECERT3  PXCERT1  PXCERT2  PXCERT3                 HH_ID  \\\n",
       "0            -1       20        0        0        47951107199011   \n",
       "2            -1       20        0        0      7149100294111111   \n",
       "5            -1       20        0        0     11010775585611111   \n",
       "7            -1        0        0        0     11010775585611011   \n",
       "8            -1       20        0        0     11011679216311011   \n",
       "...         ...      ...      ...      ...                   ...   \n",
       "131563       -1       20        0        0   9263638017815019111   \n",
       "131565       -1        0        0        0   9519680071506489011   \n",
       "131567       -1       20        0        0   9567293015915079011   \n",
       "131570       -1        0        0        0  96556820000170811111   \n",
       "131572        1       20       20       20  96557712090650311011   \n",
       "\n",
       "                        IND_ID             IND_ID_SEX_AGE  \\\n",
       "0             4795110719901140        4795110719901140169   \n",
       "2           714910029411111140      714910029411111140142   \n",
       "5          1101077558561111140     1101077558561111140252   \n",
       "7          1101077558561101141     1101077558561101141272   \n",
       "8          1101167921631101141     1101167921631101141267   \n",
       "...                        ...                        ...   \n",
       "131563   926363801781501911140   926363801781501911140165   \n",
       "131565   951968007150648901140   951968007150648901140275   \n",
       "131567   956729301591507901140   956729301591507901140177   \n",
       "131570  9655682000017081111141  9655682000017081111141139   \n",
       "131572  9655771209065031101140  9655771209065031101140239   \n",
       "\n",
       "                      IND_ID_FINAL  \n",
       "0             47951107199011401691  \n",
       "2           7149100294111111401421  \n",
       "5          11010775585611111402521  \n",
       "7          11010775585611011412721  \n",
       "8          11011679216311011412671  \n",
       "...                            ...  \n",
       "131563   9263638017815019111401651  \n",
       "131565   9519680071506489011402751  \n",
       "131567   9567293015915079011401771  \n",
       "131570  96556820000170811111411391  \n",
       "131572  96557712090650311011402391  \n",
       "\n",
       "[43443 rows x 391 columns]"
      ]
     },
     "execution_count": 178,
     "metadata": {},
     "output_type": "execute_result"
    }
   ],
   "source": [
    "adult_heads"
   ]
  }
 ],
 "metadata": {
  "kernelspec": {
   "display_name": "learn-env",
   "language": "python",
   "name": "learn-env"
  },
  "language_info": {
   "codemirror_mode": {
    "name": "ipython",
    "version": 3
   },
   "file_extension": ".py",
   "mimetype": "text/x-python",
   "name": "python",
   "nbconvert_exporter": "python",
   "pygments_lexer": "ipython3",
   "version": "3.6.10"
  }
 },
 "nbformat": 4,
 "nbformat_minor": 4
}
